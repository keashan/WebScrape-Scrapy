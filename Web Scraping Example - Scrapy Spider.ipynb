{
 "cells": [
  {
   "cell_type": "code",
   "execution_count": 1,
   "metadata": {
    "scrolled": false
   },
   "outputs": [
    {
     "name": "stderr",
     "output_type": "stream",
     "text": [
      "2020-07-23 19:41:06 [scrapy.utils.log] INFO: Scrapy 1.6.0 started (bot: scrapybot)\n",
      "2020-07-23 19:41:06 [scrapy.utils.log] INFO: Versions: lxml 4.5.0.0, libxml2 2.9.9, cssselect 1.1.0, parsel 1.5.2, w3lib 1.21.0, Twisted 20.3.0, Python 3.7.6 (default, Jan  8 2020, 20:23:39) [MSC v.1916 64 bit (AMD64)], pyOpenSSL 19.1.0 (OpenSSL 1.1.1g  21 Apr 2020), cryptography 2.9.2, Platform Windows-10-10.0.19041-SP0\n",
      "2020-07-23 19:41:06 [scrapy.crawler] INFO: Overridden settings: {}\n",
      "2020-07-23 19:41:06 [scrapy.extensions.telnet] INFO: Telnet Password: a98224b69ecf544b\n",
      "2020-07-23 19:41:06 [scrapy.middleware] INFO: Enabled extensions:\n",
      "['scrapy.extensions.corestats.CoreStats',\n",
      " 'scrapy.extensions.telnet.TelnetConsole',\n",
      " 'scrapy.extensions.logstats.LogStats']\n",
      "2020-07-23 19:41:06 [scrapy.middleware] INFO: Enabled downloader middlewares:\n",
      "['scrapy.downloadermiddlewares.httpauth.HttpAuthMiddleware',\n",
      " 'scrapy.downloadermiddlewares.downloadtimeout.DownloadTimeoutMiddleware',\n",
      " 'scrapy.downloadermiddlewares.defaultheaders.DefaultHeadersMiddleware',\n",
      " 'scrapy.downloadermiddlewares.useragent.UserAgentMiddleware',\n",
      " 'scrapy.downloadermiddlewares.retry.RetryMiddleware',\n",
      " 'scrapy.downloadermiddlewares.redirect.MetaRefreshMiddleware',\n",
      " 'scrapy.downloadermiddlewares.httpcompression.HttpCompressionMiddleware',\n",
      " 'scrapy.downloadermiddlewares.redirect.RedirectMiddleware',\n",
      " 'scrapy.downloadermiddlewares.cookies.CookiesMiddleware',\n",
      " 'scrapy.downloadermiddlewares.httpproxy.HttpProxyMiddleware',\n",
      " 'scrapy.downloadermiddlewares.stats.DownloaderStats']\n",
      "2020-07-23 19:41:06 [scrapy.middleware] INFO: Enabled spider middlewares:\n",
      "['scrapy.spidermiddlewares.httperror.HttpErrorMiddleware',\n",
      " 'scrapy.spidermiddlewares.offsite.OffsiteMiddleware',\n",
      " 'scrapy.spidermiddlewares.referer.RefererMiddleware',\n",
      " 'scrapy.spidermiddlewares.urllength.UrlLengthMiddleware',\n",
      " 'scrapy.spidermiddlewares.depth.DepthMiddleware']\n",
      "2020-07-23 19:41:06 [scrapy.middleware] INFO: Enabled item pipelines:\n",
      "[]\n",
      "2020-07-23 19:41:06 [scrapy.core.engine] INFO: Spider opened\n",
      "2020-07-23 19:41:06 [scrapy.extensions.logstats] INFO: Crawled 0 pages (at 0 pages/min), scraped 0 items (at 0 items/min)\n",
      "2020-07-23 19:41:06 [scrapy.extensions.telnet] INFO: Telnet console listening on 127.0.0.1:6023\n",
      "2020-07-23 19:41:26 [scrapy.core.engine] DEBUG: Crawled (200) <GET https://www.datacamp.com/courses/all> (referer: None)\n",
      "2020-07-23 19:41:27 [scrapy.core.engine] DEBUG: Crawled (200) <GET https://www.datacamp.com/courses/free-introduction-to-r> (referer: https://www.datacamp.com/courses/all)\n"
     ]
    },
    {
     "name": "stdout",
     "output_type": "stream",
     "text": [
      "[]\n",
      "[]\n"
     ]
    },
    {
     "name": "stderr",
     "output_type": "stream",
     "text": [
      "2020-07-23 19:41:29 [scrapy.core.engine] DEBUG: Crawled (200) <GET https://www.datacamp.com/courses/introduction-to-sql> (referer: https://www.datacamp.com/courses/all)\n"
     ]
    },
    {
     "name": "stdout",
     "output_type": "stream",
     "text": [
      "[]\n",
      "[]\n"
     ]
    },
    {
     "name": "stderr",
     "output_type": "stream",
     "text": [
      "2020-07-23 19:41:29 [scrapy.core.engine] DEBUG: Crawled (200) <GET https://www.datacamp.com/courses/visualizing-geospatial-data-in-r> (referer: https://www.datacamp.com/courses/all)\n"
     ]
    },
    {
     "name": "stdout",
     "output_type": "stream",
     "text": [
      "['Basic mapping with ggplot2 and ggmap', 'Raster data and color', 'Point and polygon data', 'Data import and projections', 'Basic mapping with ggplot2 and ggmap', 'Point and polygon data', 'Raster data and color', 'Data import and projections']\n",
      "['\\n          Basic mapping with ggplot2 and ggmap\\n        ', '\\n          Raster data and color\\n        ', '\\n          Point and polygon data\\n        ', '\\n          Data import and projections\\n        ', '\\n          Basic mapping with ggplot2 and ggmap\\n        ', '\\n          Point and polygon data\\n        ', '\\n          Raster data and color\\n        ', '\\n          Data import and projections\\n        ']\n"
     ]
    },
    {
     "name": "stderr",
     "output_type": "stream",
     "text": [
      "2020-07-23 19:41:31 [scrapy.core.engine] DEBUG: Crawled (200) <GET https://www.datacamp.com/courses/introduction-to-deep-learning-in-python> (referer: https://www.datacamp.com/courses/all)\n",
      "2020-07-23 19:41:31 [scrapy.core.engine] DEBUG: Crawled (200) <GET https://www.datacamp.com/courses/introduction-to-network-analysis-in-python> (referer: https://www.datacamp.com/courses/all)\n",
      "2020-07-23 19:41:31 [scrapy.core.engine] DEBUG: Crawled (200) <GET https://www.datacamp.com/courses/sentiment-analysis-in-r> (referer: https://www.datacamp.com/courses/all)\n",
      "2020-07-23 19:41:31 [scrapy.core.engine] DEBUG: Crawled (200) <GET https://www.datacamp.com/courses/case-studies-manipulating-time-series-data-in-r> (referer: https://www.datacamp.com/courses/all)\n"
     ]
    },
    {
     "name": "stdout",
     "output_type": "stream",
     "text": [
      "['Basics of deep learning and neural networks', 'Building deep learning models with keras', 'Optimizing a neural network with backward propagation', 'Fine-tuning keras models', 'Basics of deep learning and neural networks', 'Optimizing a neural network with backward propagation', 'Building deep learning models with keras', 'Fine-tuning keras models']\n",
      "['\\n          Basics of deep learning and neural networks\\n        ', '\\n          Building deep learning models with keras\\n        ', '\\n          Optimizing a neural network with backward propagation\\n        ', '\\n          Fine-tuning keras models\\n        ', '\\n          Basics of deep learning and neural networks\\n        ', '\\n          Optimizing a neural network with backward propagation\\n        ', '\\n          Building deep learning models with keras\\n        ', '\\n          Fine-tuning keras models\\n        ']\n",
      "['Introduction to networks', 'Structures', 'Important nodes', 'Bringing it all together', 'Introduction to networks', 'Important nodes', 'Structures', 'Bringing it all together']\n",
      "['\\n          Introduction to networks\\n        ', '\\n          Structures\\n        ', '\\n          Important nodes\\n        ', '\\n          Bringing it all together\\n        ', '\\n          Introduction to networks\\n        ', '\\n          Important nodes\\n        ', '\\n          Structures\\n        ', '\\n          Bringing it all together\\n        ']\n",
      "['Fast & dirty: Polarity scoring', 'Visualizing sentiment', 'Sentiment analysis the tidytext way', 'Case study: Airbnb reviews', 'Fast & dirty: Polarity scoring', 'Sentiment analysis the tidytext way', 'Visualizing sentiment', 'Case study: Airbnb reviews']\n",
      "['\\n          Fast & dirty: Polarity scoring\\n        ', '\\n          Visualizing sentiment\\n        ', '\\n          Sentiment analysis the tidytext way\\n        ', '\\n          Case study: Airbnb reviews\\n        ', '\\n          Fast & dirty: Polarity scoring\\n        ', '\\n          Sentiment analysis the tidytext way\\n        ', '\\n          Visualizing sentiment\\n        ', '\\n          Case study: Airbnb reviews\\n        ']\n"
     ]
    },
    {
     "name": "stderr",
     "output_type": "stream",
     "text": [
      "2020-07-23 19:41:31 [scrapy.core.engine] DEBUG: Crawled (200) <GET https://www.datacamp.com/courses/object-oriented-programming-with-s3-and-r6-in-r> (referer: https://www.datacamp.com/courses/all)\n"
     ]
    },
    {
     "name": "stdout",
     "output_type": "stream",
     "text": [
      "['Flight Data', 'Economic Data', 'Weather Data', 'Sports Data', 'Flight Data', 'Weather Data', 'Economic Data', 'Sports Data']\n",
      "['\\n          Flight Data\\n        ', '\\n          Economic Data\\n        ', '\\n          Weather Data\\n        ', '\\n          Sports Data\\n        ', '\\n          Flight Data\\n        ', '\\n          Weather Data\\n        ', '\\n          Economic Data\\n        ', '\\n          Sports Data\\n        ']\n",
      "['Introduction to Object-Oriented Programming', 'Using R6', 'Advanced R6 Usage', 'Using S3', 'R6 Inheritance', 'Introduction to Object-Oriented Programming', 'Using S3', 'Using R6', 'R6 Inheritance', 'Advanced R6 Usage']\n",
      "['\\n          Introduction to Object-Oriented Programming\\n        ', '\\n          Using R6\\n        ', '\\n          Advanced R6 Usage\\n        ', '\\n          Using S3\\n        ', '\\n          R6 Inheritance\\n        ', '\\n          Introduction to Object-Oriented Programming\\n        ', '\\n          Using S3\\n        ', '\\n          Using R6\\n        ', '\\n          R6 Inheritance\\n        ', '\\n          Advanced R6 Usage\\n        ']\n"
     ]
    },
    {
     "name": "stderr",
     "output_type": "stream",
     "text": [
      "2020-07-23 19:41:32 [scrapy.core.engine] DEBUG: Crawled (200) <GET https://www.datacamp.com/courses/supervised-learning-with-scikit-learn> (referer: https://www.datacamp.com/courses/all)\n"
     ]
    },
    {
     "name": "stdout",
     "output_type": "stream",
     "text": [
      "['Classification', 'Fine-tuning your model', 'Regression', 'Preprocessing and pipelines', 'Classification', 'Regression', 'Fine-tuning your model', 'Preprocessing and pipelines']\n",
      "['\\n          Classification\\n        ', '\\n          Fine-tuning your model\\n        ', '\\n          Regression\\n        ', '\\n          Preprocessing and pipelines\\n        ', '\\n          Classification\\n        ', '\\n          Regression\\n        ', '\\n          Fine-tuning your model\\n        ', '\\n          Preprocessing and pipelines\\n        ']\n"
     ]
    },
    {
     "name": "stderr",
     "output_type": "stream",
     "text": [
      "2020-07-23 19:41:33 [scrapy.core.engine] DEBUG: Crawled (200) <GET https://www.datacamp.com/courses/arima-models-in-r> (referer: https://www.datacamp.com/courses/all)\n"
     ]
    },
    {
     "name": "stdout",
     "output_type": "stream",
     "text": [
      "['Time Series Data and Models', 'ARIMA Models', 'Fitting ARMA models', 'Seasonal ARIMA', 'Time Series Data and Models', 'Fitting ARMA models', 'ARIMA Models', 'Seasonal ARIMA']\n",
      "['\\n          Time Series Data and Models\\n        ', '\\n          ARIMA Models\\n        ', '\\n          Fitting ARMA models\\n        ', '\\n          Seasonal ARIMA\\n        ', '\\n          Time Series Data and Models\\n        ', '\\n          Fitting ARMA models\\n        ', '\\n          ARIMA Models\\n        ', '\\n          Seasonal ARIMA\\n        ']\n"
     ]
    },
    {
     "name": "stderr",
     "output_type": "stream",
     "text": [
      "2020-07-23 19:41:34 [scrapy.core.engine] DEBUG: Crawled (200) <GET https://www.datacamp.com/courses/unsupervised-learning-in-r> (referer: https://www.datacamp.com/courses/all)\n"
     ]
    },
    {
     "name": "stdout",
     "output_type": "stream",
     "text": [
      "['Unsupervised learning in R', 'Dimensionality reduction with PCA', 'Hierarchical clustering', 'Putting it all together with a case study', 'Unsupervised learning in R', 'Hierarchical clustering', 'Dimensionality reduction with PCA', 'Putting it all together with a case study']\n",
      "['\\n          Unsupervised learning in R\\n        ', '\\n          Dimensionality reduction with PCA\\n        ', '\\n          Hierarchical clustering\\n        ', '\\n          Putting it all together with a case study\\n        ', '\\n          Unsupervised learning in R\\n        ', '\\n          Hierarchical clustering\\n        ', '\\n          Dimensionality reduction with PCA\\n        ', '\\n          Putting it all together with a case study\\n        ']\n"
     ]
    },
    {
     "name": "stderr",
     "output_type": "stream",
     "text": [
      "2020-07-23 19:41:35 [scrapy.core.engine] DEBUG: Crawled (200) <GET https://www.datacamp.com/courses/introduction-to-data-in-r> (referer: https://www.datacamp.com/courses/all)\n"
     ]
    },
    {
     "name": "stdout",
     "output_type": "stream",
     "text": [
      "['Language of data', 'Sampling strategies and experimental design', 'Study types and cautionary tales', 'Case study', 'Language of data', 'Study types and cautionary tales', 'Sampling strategies and experimental design', 'Case study']\n",
      "['\\n          Language of data\\n        ', '\\n          Sampling strategies and experimental design\\n        ', '\\n          Study types and cautionary tales\\n        ', '\\n          Case study\\n        ', '\\n          Language of data\\n        ', '\\n          Study types and cautionary tales\\n        ', '\\n          Sampling strategies and experimental design\\n        ', '\\n          Case study\\n        ']\n"
     ]
    },
    {
     "name": "stderr",
     "output_type": "stream",
     "text": [
      "2020-07-23 19:41:35 [scrapy.core.engine] DEBUG: Crawled (200) <GET https://www.datacamp.com/courses/exploratory-data-analysis-in-r> (referer: https://www.datacamp.com/courses/all)\n",
      "2020-07-23 19:41:36 [scrapy.core.engine] DEBUG: Crawled (200) <GET https://www.datacamp.com/courses/introduction-to-data-visualization-in-python> (referer: https://www.datacamp.com/courses/all)\n"
     ]
    },
    {
     "name": "stdout",
     "output_type": "stream",
     "text": [
      "['Exploring Categorical Data', 'Numerical Summaries', 'Exploring Numerical Data', 'Case Study', 'Exploring Categorical Data', 'Exploring Numerical Data', 'Numerical Summaries', 'Case Study']\n",
      "['\\n          Exploring Categorical Data\\n        ', '\\n          Numerical Summaries\\n        ', '\\n          Exploring Numerical Data\\n        ', '\\n          Case Study\\n        ', '\\n          Exploring Categorical Data\\n        ', '\\n          Exploring Numerical Data\\n        ', '\\n          Numerical Summaries\\n        ', '\\n          Case Study\\n        ']\n",
      "['Customizing plots', 'Statistical plots with Seaborn', 'Plotting 2D arrays', 'Analyzing time series and images', 'Customizing plots', 'Plotting 2D arrays', 'Statistical plots with Seaborn', 'Analyzing time series and images']"
     ]
    },
    {
     "name": "stderr",
     "output_type": "stream",
     "text": [
      "2020-07-23 19:41:36 [scrapy.core.engine] DEBUG: Crawled (200) <GET https://www.datacamp.com/courses/foundations-of-inference-in-r> (referer: https://www.datacamp.com/courses/all)\n"
     ]
    },
    {
     "name": "stdout",
     "output_type": "stream",
     "text": [
      "\n",
      "['\\n          Customizing plots\\n        ', '\\n          Statistical plots with Seaborn\\n        ', '\\n          Plotting 2D arrays\\n        ', '\\n          Analyzing time series and images\\n        ', '\\n          Customizing plots\\n        ', '\\n          Plotting 2D arrays\\n        ', '\\n          Statistical plots with Seaborn\\n        ', '\\n          Analyzing time series and images\\n        ']\n",
      "['Introduction to ideas of inference', 'Hypothesis testing errors: opportunity cost', 'Completing a randomization test: gender discrimination', 'Confidence intervals', 'Introduction to ideas of inference', 'Completing a randomization test: gender discrimination', 'Hypothesis testing errors: opportunity cost', 'Confidence intervals']\n",
      "['\\n          Introduction to ideas of inference\\n        ', '\\n          Hypothesis testing errors: opportunity cost\\n        ', '\\n          Completing a randomization test: gender discrimination\\n        ', '\\n          Confidence intervals\\n        ', '\\n          Introduction to ideas of inference\\n        ', '\\n          Completing a randomization test: gender discrimination\\n        ', '\\n          Hypothesis testing errors: opportunity cost\\n        ', '\\n          Confidence intervals\\n        ']\n"
     ]
    },
    {
     "name": "stderr",
     "output_type": "stream",
     "text": [
      "2020-07-23 19:41:36 [scrapy.core.engine] DEBUG: Crawled (200) <GET https://www.datacamp.com/courses/correlation-and-regression-in-r> (referer: https://www.datacamp.com/courses/all)\n"
     ]
    },
    {
     "name": "stdout",
     "output_type": "stream",
     "text": [
      "['Visualizing two variables', 'Simple linear regression', 'Model Fit', 'Correlation', 'Interpreting regression models', 'Visualizing two variables', 'Correlation', 'Simple linear regression', 'Interpreting regression models', 'Model Fit']\n",
      "['\\n          Visualizing two variables\\n        ', '\\n          Simple linear regression\\n        ', '\\n          Model Fit\\n        ', '\\n          Correlation\\n        ', '\\n          Interpreting regression models\\n        ', '\\n          Visualizing two variables\\n        ', '\\n          Correlation\\n        ', '\\n          Simple linear regression\\n        ', '\\n          Interpreting regression models\\n        ', '\\n          Model Fit\\n        ']\n"
     ]
    },
    {
     "name": "stderr",
     "output_type": "stream",
     "text": [
      "2020-07-23 19:41:37 [scrapy.core.engine] DEBUG: Crawled (200) <GET https://www.datacamp.com/courses/command-line-automation-in-python> (referer: https://www.datacamp.com/courses/all)\n"
     ]
    },
    {
     "name": "stdout",
     "output_type": "stream",
     "text": [
      "['IPython shell commands', 'Walking the file system', 'Shell commands with subprocess', 'Command line functions', 'IPython shell commands', 'Shell commands with subprocess', 'Walking the file system', 'Command line functions']\n",
      "['\\n          IPython shell commands\\n        ', '\\n          Walking the file system\\n        ', '\\n          Shell commands with subprocess\\n        ', '\\n          Command line functions\\n        ', '\\n          IPython shell commands\\n        ', '\\n          Shell commands with subprocess\\n        ', '\\n          Walking the file system\\n        ', '\\n          Command line functions\\n        ']\n"
     ]
    },
    {
     "name": "stderr",
     "output_type": "stream",
     "text": [
      "2020-07-23 19:41:38 [scrapy.core.engine] DEBUG: Crawled (200) <GET https://www.datacamp.com/courses/transactions-and-error-handling-in-postgresql> (referer: https://www.datacamp.com/courses/all)\n"
     ]
    },
    {
     "name": "stdout",
     "output_type": "stream",
     "text": [
      "['Getting to know transactions', 'Handling exceptions', 'Rolling back and Savepoints', 'Stacked Diagnostics', 'Getting to know transactions', 'Rolling back and Savepoints', 'Handling exceptions', 'Stacked Diagnostics']\n",
      "['\\n          Getting to know transactions\\n        ', '\\n          Handling exceptions\\n        ', '\\n          Rolling back and Savepoints\\n        ', '\\n          Stacked Diagnostics\\n        ', '\\n          Getting to know transactions\\n        ', '\\n          Rolling back and Savepoints\\n        ', '\\n          Handling exceptions\\n        ', '\\n          Stacked Diagnostics\\n        ']\n"
     ]
    },
    {
     "name": "stderr",
     "output_type": "stream",
     "text": [
      "2020-07-23 19:41:38 [scrapy.core.engine] DEBUG: Crawled (200) <GET https://www.datacamp.com/courses/data-engineering-for-everyone> (referer: https://www.datacamp.com/courses/all)\n",
      "2020-07-23 19:41:38 [scrapy.core.engine] DEBUG: Crawled (200) <GET https://www.datacamp.com/courses/options-trading-in-spreadsheets> (referer: https://www.datacamp.com/courses/all)\n",
      "2020-07-23 19:41:39 [scrapy.core.engine] DEBUG: Crawled (200) <GET https://www.datacamp.com/courses/dimensionality-reduction-in-r> (referer: https://www.datacamp.com/courses/all)\n",
      "2020-07-23 19:41:39 [scrapy.core.engine] DEBUG: Crawled (200) <GET https://www.datacamp.com/courses/creating-robust-workflows-in-python> (referer: https://www.datacamp.com/courses/all)\n"
     ]
    },
    {
     "name": "stdout",
     "output_type": "stream",
     "text": [
      "['What is data engineering?', 'Moving and processing data', 'Storing data', 'What is data engineering?', 'Storing data', 'Moving and processing data']\n",
      "['\\n          What is data engineering?\\n        ', '\\n          Moving and processing data\\n        ', '\\n          Storing data\\n        ', '\\n          What is data engineering?\\n        ', '\\n          Storing data\\n        ', '\\n          Moving and processing data\\n        ']\n",
      "['Introduction to options', 'Option Greeks', 'Options (and Strategies), Illustrated', 'Binomial Model for Option Pricing', 'Introduction to options', 'Options (and Strategies), Illustrated', 'Option Greeks', 'Binomial Model for Option Pricing']\n",
      "['\\n          Introduction to options\\n        ', '\\n          Option Greeks\\n        ', '\\n          Options (and Strategies), Illustrated\\n        ', '\\n          Binomial Model for Option Pricing\\n        ', '\\n          Introduction to options\\n        ', '\\n          Options (and Strategies), Illustrated\\n        ', '\\n          Option Greeks\\n        ', '\\n          Binomial Model for Option Pricing\\n        ']\n"
     ]
    },
    {
     "name": "stderr",
     "output_type": "stream",
     "text": [
      "2020-07-23 19:41:39 [scrapy.core.engine] DEBUG: Crawled (200) <GET https://www.datacamp.com/courses/time-series-with-datatable-in-r> (referer: https://www.datacamp.com/courses/all)\n"
     ]
    },
    {
     "name": "stdout",
     "output_type": "stream",
     "text": [
      "['Principal component analysis (PCA)', 'Exploratory factor analysis (EFA)', 'Advanced PCA & Non-negative matrix factorization (NNMF)', 'Advanced EFA', 'Principal component analysis (PCA)', 'Advanced PCA & Non-negative matrix factorization (NNMF)', 'Exploratory factor analysis (EFA)', 'Advanced EFA']\n",
      "['\\n          Principal component analysis (PCA)\\n        ', '\\n          Exploratory factor analysis (EFA)\\n        ', '\\n          Advanced PCA & Non-negative matrix factorization (NNMF)\\n        ', '\\n          Advanced EFA\\n        ', '\\n          Principal component analysis (PCA)\\n        ', '\\n          Advanced PCA & Non-negative matrix factorization (NNMF)\\n        ', '\\n          Exploratory factor analysis (EFA)\\n        ', '\\n          Advanced EFA\\n        ']\n",
      "['Python Programming Principles', 'Shell superpowers', 'Documentation and Tests', 'Projects, pipelines, and parallelism', 'Python Programming Principles', 'Documentation and Tests', 'Shell superpowers', 'Projects, pipelines, and parallelism']\n",
      "['\\n          Python Programming Principles\\n        ', '\\n          Shell superpowers\\n        ', '\\n          Documentation and Tests\\n        ', '\\n          Projects, pipelines, and parallelism\\n        ', '\\n          Python Programming Principles\\n        ', '\\n          Documentation and Tests\\n        ', '\\n          Shell superpowers\\n        ', '\\n          Projects, pipelines, and parallelism\\n        ']\n",
      "['Review of data.table', 'Generating lags, differences, and windowed aggregations', 'Getting time series data into data.table', 'Case study: financial data', 'Review of data.table', 'Getting time series data into data.table', 'Generating lags, differences, and windowed aggregations', 'Case study: financial data']\n",
      "['\\n          Review of data.table\\n        ', '\\n          Generating lags, differences, and windowed aggregations\\n        ', '\\n          Getting time series data into data.table\\n        ', '\\n          Case study: financial data\\n        ', '\\n          Review of data.table\\n        ', '\\n          Getting time series data into data.table\\n        ', '\\n          Generating lags, differences, and windowed aggregations\\n        ', '\\n          Case study: financial data\\n        ']\n"
     ]
    },
    {
     "name": "stderr",
     "output_type": "stream",
     "text": [
      "2020-07-23 19:41:40 [scrapy.core.engine] DEBUG: Crawled (200) <GET https://www.datacamp.com/courses/introduction-to-statistics-in-r> (referer: https://www.datacamp.com/courses/all)\n",
      "2020-07-23 19:41:40 [scrapy.core.engine] DEBUG: Crawled (200) <GET https://www.datacamp.com/courses/data-analysis-in-excel> (referer: https://www.datacamp.com/courses/all)\n"
     ]
    },
    {
     "name": "stdout",
     "output_type": "stream",
     "text": [
      "['Summary Statistics', 'More Distributions and the Central Limit Theorem', 'Random Numbers and Probability', 'Correlation and Experimental Design', 'Summary Statistics', 'Random Numbers and Probability', 'More Distributions and the Central Limit Theorem', 'Correlation and Experimental Design']\n",
      "['\\n          Summary Statistics\\n        ', '\\n          More Distributions and the Central Limit Theorem\\n        ', '\\n          Random Numbers and Probability\\n        ', '\\n          Correlation and Experimental Design\\n        ', '\\n          Summary Statistics\\n        ', '\\n          Random Numbers and Probability\\n        ', '\\n          More Distributions and the Central Limit Theorem\\n        ', '\\n          Correlation and Experimental Design\\n        ']\n",
      "['Exploring Data', 'Analyzing Data', 'Preparing Data', 'Exploring Data', 'Preparing Data', 'Analyzing Data']\n",
      "['\\n          Exploring Data\\n        ', '\\n          Analyzing Data\\n        ', '\\n          Preparing Data\\n        ', '\\n          Exploring Data\\n        ', '\\n          Preparing Data\\n        ', '\\n          Analyzing Data\\n        ']\n"
     ]
    },
    {
     "name": "stderr",
     "output_type": "stream",
     "text": [
      "2020-07-23 19:41:42 [scrapy.core.engine] DEBUG: Crawled (200) <GET https://www.datacamp.com/courses/data-visualization-for-everyone> (referer: https://www.datacamp.com/courses/all)\n"
     ]
    },
    {
     "name": "stdout",
     "output_type": "stream",
     "text": [
      "['Visualizing distributions', 'The color and the shape', 'Visualizing two variables', \"99 problems but a plot ain't one of them\", 'Visualizing distributions', 'Visualizing two variables', 'The color and the shape', \"99 problems but a plot ain't one of them\"]\n",
      "['\\n          Visualizing distributions\\n        ', '\\n          The color and the shape\\n        ', '\\n          Visualizing two variables\\n        ', \"\\n          99 problems but a plot ain't one of them\\n        \", '\\n          Visualizing distributions\\n        ', '\\n          Visualizing two variables\\n        ', '\\n          The color and the shape\\n        ', \"\\n          99 problems but a plot ain't one of them\\n        \"]\n"
     ]
    },
    {
     "name": "stderr",
     "output_type": "stream",
     "text": [
      "2020-07-23 19:41:43 [scrapy.core.engine] DEBUG: Crawled (200) <GET https://www.datacamp.com/courses/cleaning-data-in-python> (referer: https://www.datacamp.com/courses/all)\n"
     ]
    },
    {
     "name": "stdout",
     "output_type": "stream",
     "text": [
      "['Common data problems', 'Advanced data problems', 'Text and categorical data problems', 'Record linkage', 'Common data problems', 'Text and categorical data problems', 'Advanced data problems', 'Record linkage']\n",
      "['\\n          Common data problems\\n        ', '\\n          Advanced data problems\\n        ', '\\n          Text and categorical data problems\\n        ', '\\n          Record linkage\\n        ', '\\n          Common data problems\\n        ', '\\n          Text and categorical data problems\\n        ', '\\n          Advanced data problems\\n        ', '\\n          Record linkage\\n        ']\n"
     ]
    },
    {
     "name": "stderr",
     "output_type": "stream",
     "text": [
      "2020-07-23 19:41:43 [scrapy.core.engine] DEBUG: Crawled (200) <GET https://www.datacamp.com/courses/object-oriented-programming-in-python> (referer: https://www.datacamp.com/courses/all)\n",
      "2020-07-23 19:41:43 [scrapy.core.engine] DEBUG: Crawled (200) <GET https://www.datacamp.com/courses/reporting-with-rmarkdown> (referer: https://www.datacamp.com/courses/all)\n",
      "2020-07-23 19:41:43 [scrapy.core.engine] DEBUG: Crawled (200) <GET https://www.datacamp.com/courses/introduction-to-power-bi> (referer: https://www.datacamp.com/courses/all)\n",
      "2020-07-23 19:41:43 [scrapy.core.engine] DEBUG: Crawled (200) <GET https://www.datacamp.com/courses/machine-learning-for-everyone> (referer: https://www.datacamp.com/courses/all)\n"
     ]
    },
    {
     "name": "stdout",
     "output_type": "stream",
     "text": [
      "['OOP Fundamentals', 'Integrating with Standard Python', 'Inheritance and Polymorphism', 'Best Practices of Class Design', 'OOP Fundamentals', 'Inheritance and Polymorphism', 'Integrating with Standard Python', 'Best Practices of Class Design']\n",
      "['\\n          OOP Fundamentals\\n        ', '\\n          Integrating with Standard Python\\n        ', '\\n          Inheritance and Polymorphism\\n        ', '\\n          Best Practices of Class Design\\n        ', '\\n          OOP Fundamentals\\n        ', '\\n          Inheritance and Polymorphism\\n        ', '\\n          Integrating with Standard Python\\n        ', '\\n          Best Practices of Class Design\\n        ']\n",
      "['Getting Started with R Markdown', 'Improving the Report', 'Adding Analyses and Visualizations', 'Customizing the Report', 'Getting Started with R Markdown', 'Adding Analyses and Visualizations', 'Improving the Report', 'Customizing the Report']\n",
      "['\\n          Getting Started with R Markdown\\n        ', '\\n          Improving the Report\\n        ', '\\n          Adding Analyses and Visualizations\\n        ', '\\n          Customizing the Report\\n        ', '\\n          Getting Started with R Markdown\\n        ', '\\n          Adding Analyses and Visualizations\\n        ', '\\n          Improving the Report\\n        ', '\\n          Customizing the Report\\n        ']\n",
      "['Getting Started with Power BI', 'Creating Calculations with DAX', 'Visualizing Data', 'Getting Started with Power BI', 'Visualizing Data', 'Creating Calculations with DAX']\n",
      "['\\n          Getting Started with Power BI\\n        ', '\\n          Creating Calculations with DAX\\n        ', '\\n          Visualizing Data\\n        ', '\\n          Getting Started with Power BI\\n        ', '\\n          Visualizing Data\\n        ', '\\n          Creating Calculations with DAX\\n        ']\n",
      "['What is Machine Learning?', 'Deep Learning', 'Machine Learning Models', 'What is Machine Learning?', 'Machine Learning Models', 'Deep Learning']\n",
      "['\\n          What is Machine Learning?\\n        ', '\\n          Deep Learning\\n        ', '\\n          Machine Learning Models\\n        ', '\\n          What is Machine Learning?\\n        ', '\\n          Machine Learning Models\\n        ', '\\n          Deep Learning\\n        ']\n"
     ]
    },
    {
     "name": "stderr",
     "output_type": "stream",
     "text": [
      "2020-07-23 19:41:44 [scrapy.core.engine] DEBUG: Crawled (200) <GET https://www.datacamp.com/courses/cleaning-data-in-r> (referer: https://www.datacamp.com/courses/all)\n"
     ]
    },
    {
     "name": "stdout",
     "output_type": "stream",
     "text": [
      "['Common Data Problems', 'Advanced Data Problems', 'Categorical and Text Data', 'Record Linkage', 'Common Data Problems', 'Categorical and Text Data', 'Advanced Data Problems', 'Record Linkage']\n",
      "['\\n          Common Data Problems\\n        ', '\\n          Advanced Data Problems\\n        ', '\\n          Categorical and Text Data\\n        ', '\\n          Record Linkage\\n        ', '\\n          Common Data Problems\\n        ', '\\n          Categorical and Text Data\\n        ', '\\n          Advanced Data Problems\\n        ', '\\n          Record Linkage\\n        ']\n"
     ]
    },
    {
     "name": "stderr",
     "output_type": "stream",
     "text": [
      "2020-07-23 19:41:44 [scrapy.core.engine] DEBUG: Crawled (200) <GET https://www.datacamp.com/courses/market-basket-analysis-in-python> (referer: https://www.datacamp.com/courses/all)\n",
      "2020-07-23 19:41:45 [scrapy.core.engine] DEBUG: Crawled (200) <GET https://www.datacamp.com/courses/data-science-for-everyone> (referer: https://www.datacamp.com/courses/all)\n"
     ]
    },
    {
     "name": "stdout",
     "output_type": "stream",
     "text": [
      "['Introduction to Market Basket Analysis', 'Aggregation and Pruning', 'Association Rules', 'Visualizing Rules', 'Introduction to Market Basket Analysis', 'Association Rules', 'Aggregation and Pruning', 'Visualizing Rules']\n",
      "['\\n          Introduction to Market Basket Analysis\\n        ', '\\n          Aggregation and Pruning\\n        ', '\\n          Association Rules\\n        ', '\\n          Visualizing Rules\\n        ', '\\n          Introduction to Market Basket Analysis\\n        ', '\\n          Association Rules\\n        ', '\\n          Aggregation and Pruning\\n        ', '\\n          Visualizing Rules\\n        ']\n",
      "['Introduction to Data Science', 'Preparation, Exploration, and Visualization', 'Data Collection and Storage', 'Experimentation and Prediction', 'Introduction to Data Science', 'Data Collection and Storage', 'Preparation, Exploration, and Visualization', 'Experimentation and Prediction']\n",
      "['\\n          Introduction to Data Science\\n        ', '\\n          Preparation, Exploration, and Visualization\\n        ', '\\n          Data Collection and Storage\\n        ', '\\n          Experimentation and Prediction\\n        ', '\\n          Introduction to Data Science\\n        ', '\\n          Data Collection and Storage\\n        ', '\\n          Preparation, Exploration, and Visualization\\n        ', '\\n          Experimentation and Prediction\\n        ']\n"
     ]
    },
    {
     "name": "stderr",
     "output_type": "stream",
     "text": [
      "2020-07-23 19:41:46 [scrapy.core.engine] DEBUG: Crawled (200) <GET https://www.datacamp.com/courses/introduction-to-airflow-in-python> (referer: https://www.datacamp.com/courses/all)\n"
     ]
    },
    {
     "name": "stdout",
     "output_type": "stream",
     "text": [
      "['Intro to Airflow', 'Maintaining and monitoring Airflow workflows', 'Implementing Airflow DAGs', 'Building production pipelines in Airflow', 'Intro to Airflow', 'Implementing Airflow DAGs', 'Maintaining and monitoring Airflow workflows', 'Building production pipelines in Airflow']\n",
      "['\\n          Intro to Airflow\\n        ', '\\n          Maintaining and monitoring Airflow workflows\\n        ', '\\n          Implementing Airflow DAGs\\n        ', '\\n          Building production pipelines in Airflow\\n        ', '\\n          Intro to Airflow\\n        ', '\\n          Implementing Airflow DAGs\\n        ', '\\n          Maintaining and monitoring Airflow workflows\\n        ', '\\n          Building production pipelines in Airflow\\n        ']\n"
     ]
    },
    {
     "name": "stderr",
     "output_type": "stream",
     "text": [
      "2020-07-23 19:41:47 [scrapy.core.engine] DEBUG: Crawled (200) <GET https://www.datacamp.com/courses/machine-learning-for-business> (referer: https://www.datacamp.com/courses/all)\n"
     ]
    },
    {
     "name": "stdout",
     "output_type": "stream",
     "text": [
      "['Machine learning and data use cases', 'Business requirements and model design', 'Machine learning types', 'Managing machine learning projects', 'Machine learning and data use cases', 'Machine learning types', 'Business requirements and model design', 'Managing machine learning projects']\n",
      "['\\n          Machine learning and data use cases\\n        ', '\\n          Business requirements and model design\\n        ', '\\n          Machine learning types\\n        ', '\\n          Managing machine learning projects\\n        ', '\\n          Machine learning and data use cases\\n        ', '\\n          Machine learning types\\n        ', '\\n          Business requirements and model design\\n        ', '\\n          Managing machine learning projects\\n        ']\n"
     ]
    },
    {
     "name": "stderr",
     "output_type": "stream",
     "text": [
      "2020-07-23 19:41:48 [scrapy.core.engine] DEBUG: Crawled (200) <GET https://www.datacamp.com/courses/joining-data-with-pandas> (referer: https://www.datacamp.com/courses/all)\n"
     ]
    },
    {
     "name": "stdout",
     "output_type": "stream",
     "text": [
      "['Data Merging Basics', 'Advanced Merging and Concatenating', 'Merging Tables With Different Join Types', 'Merging Ordered and Time-Series Data', 'Data Merging Basics', 'Merging Tables With Different Join Types', 'Advanced Merging and Concatenating', 'Merging Ordered and Time-Series Data']\n",
      "['\\n          Data Merging Basics\\n        ', '\\n           Advanced Merging and Concatenating\\n        ', '\\n          Merging Tables With Different Join Types\\n        ', '\\n          Merging Ordered and Time-Series Data\\n        ', '\\n          Data Merging Basics\\n        ', '\\n          Merging Tables With Different Join Types\\n        ', '\\n           Advanced Merging and Concatenating\\n        ', '\\n          Merging Ordered and Time-Series Data\\n        ']\n"
     ]
    },
    {
     "name": "stderr",
     "output_type": "stream",
     "text": [
      "2020-07-23 19:41:49 [scrapy.core.engine] DEBUG: Crawled (200) <GET https://www.datacamp.com/courses/garch-models-in-python> (referer: https://www.datacamp.com/courses/all)\n",
      "2020-07-23 19:41:49 [scrapy.core.engine] DEBUG: Crawled (200) <GET https://www.datacamp.com/courses/handling-missing-data-with-imputations-in-r> (referer: https://www.datacamp.com/courses/all)\n",
      "2020-07-23 19:41:49 [scrapy.core.engine] DEBUG: Crawled (200) <GET https://www.datacamp.com/courses/introduction-to-regression-in-r> (referer: https://www.datacamp.com/courses/all)\n"
     ]
    },
    {
     "name": "stdout",
     "output_type": "stream",
     "text": [
      "['GARCH Model Fundamentals', 'Model Performance Evaluation', 'GARCH Model Configuration', 'GARCH in Action', 'GARCH Model Fundamentals', 'GARCH Model Configuration', 'Model Performance Evaluation', 'GARCH in Action']\n",
      "['\\n          GARCH Model Fundamentals\\n        ', '\\n          Model Performance Evaluation\\n        ', '\\n          GARCH Model Configuration\\n        ', '\\n          GARCH in Action\\n        ', '\\n          GARCH Model Fundamentals\\n        ', '\\n          GARCH Model Configuration\\n        ', '\\n          Model Performance Evaluation\\n        ', '\\n          GARCH in Action\\n        ']\n",
      "['The problem of missing data', 'Model-based imputation', 'Donor-based imputation', 'Uncertainty from imputation', 'The problem of missing data', 'Donor-based imputation', 'Model-based imputation', 'Uncertainty from imputation']\n",
      "['\\n          The problem of missing data\\n        ', '\\n          Model-based imputation\\n        ', '\\n          Donor-based imputation\\n        ', '\\n          Uncertainty from imputation\\n        ', '\\n          The problem of missing data\\n        ', '\\n          Donor-based imputation\\n        ', '\\n          Model-based imputation\\n        ', '\\n          Uncertainty from imputation\\n        ']\n",
      "['Simple Linear Regression', 'Assessing model fit', 'Predictions and model objects', 'Simple logistic regression', 'Simple Linear Regression', 'Predictions and model objects', 'Assessing model fit', 'Simple logistic regression']\n",
      "['\\n          Simple Linear Regression\\n        ', '\\n          Assessing model fit\\n        ', '\\n          Predictions and model objects\\n        ', '\\n          Simple logistic regression\\n        ', '\\n          Simple Linear Regression\\n        ', '\\n          Predictions and model objects\\n        ', '\\n          Assessing model fit\\n        ', '\\n          Simple logistic regression\\n        ']\n"
     ]
    },
    {
     "name": "stderr",
     "output_type": "stream",
     "text": [
      "2020-07-23 19:41:49 [scrapy.core.engine] DEBUG: Crawled (200) <GET https://www.datacamp.com/courses/data-manipulation-with-pandas> (referer: https://www.datacamp.com/courses/all)\n"
     ]
    },
    {
     "name": "stdout",
     "output_type": "stream",
     "text": [
      "['Transforming Data', 'Slicing and indexing', 'Aggregating Data', 'Creating and Visualizing DataFrames', 'Transforming Data', 'Aggregating Data', 'Slicing and indexing', 'Creating and Visualizing DataFrames']\n",
      "['\\n          Transforming Data\\n        ', '\\n          Slicing and indexing\\n        ', '\\n          Aggregating Data\\n        ', '\\n          Creating and Visualizing DataFrames\\n        ', '\\n          Transforming Data\\n        ', '\\n          Aggregating Data\\n        ', '\\n          Slicing and indexing\\n        ', '\\n          Creating and Visualizing DataFrames\\n        ']\n"
     ]
    },
    {
     "name": "stderr",
     "output_type": "stream",
     "text": [
      "2020-07-23 19:41:50 [scrapy.core.engine] DEBUG: Crawled (200) <GET https://www.datacamp.com/courses/cleaning-data-in-sql-server-databases> (referer: https://www.datacamp.com/courses/all)\n"
     ]
    },
    {
     "name": "stdout",
     "output_type": "stream",
     "text": [
      "['Starting with Cleaning Data', 'Dealing with out of range values, different data types, and pattern matching', 'Dealing with missing data, duplicate data, and different date formats', 'Combining, splitting, and transforming data', 'Starting with Cleaning Data', 'Dealing with missing data, duplicate data, and different date formats', 'Dealing with out of range values, different data types, and pattern matching', 'Combining, splitting, and transforming data']\n",
      "['\\n          Starting with Cleaning Data\\n        ', '\\n          Dealing with out of range values, different data types, and pattern matching\\n        ', '\\n          Dealing with missing data, duplicate data, and different date formats\\n        ', '\\n          Combining, splitting, and transforming data\\n        ', '\\n          Starting with Cleaning Data\\n        ', '\\n          Dealing with missing data, duplicate data, and different date formats\\n        ', '\\n          Dealing with out of range values, different data types, and pattern matching\\n        ', '\\n          Combining, splitting, and transforming data\\n        ']\n"
     ]
    },
    {
     "name": "stderr",
     "output_type": "stream",
     "text": [
      "2020-07-23 19:41:50 [scrapy.core.engine] DEBUG: Crawled (200) <GET https://www.datacamp.com/courses/introduction-to-tableau> (referer: https://www.datacamp.com/courses/all)\n"
     ]
    },
    {
     "name": "stdout",
     "output_type": "stream",
     "text": [
      "['Getting Started with Tableau', 'Digging Deeper', 'Building and Customizing Visualizations', 'Presenting Your Data', 'Getting Started with Tableau', 'Building and Customizing Visualizations', 'Digging Deeper', 'Presenting Your Data']\n",
      "['\\n          Getting Started with Tableau\\n        ', '\\n          Digging Deeper\\n        ', '\\n          Building and Customizing Visualizations\\n        ', '\\n          Presenting Your Data\\n        ', '\\n          Getting Started with Tableau\\n        ', '\\n          Building and Customizing Visualizations\\n        ', '\\n          Digging Deeper\\n        ', '\\n          Presenting Your Data\\n        ']\n"
     ]
    },
    {
     "name": "stderr",
     "output_type": "stream",
     "text": [
      "2020-07-23 19:41:51 [scrapy.core.engine] DEBUG: Crawled (200) <GET https://www.datacamp.com/courses/introduction-to-oracle-sql> (referer: https://www.datacamp.com/courses/all)\n"
     ]
    },
    {
     "name": "stdout",
     "output_type": "stream",
     "text": [
      "['SQL Basics', 'Combining Data', 'Aggregating Data', 'Taking it to the Next Level', 'SQL Basics', 'Aggregating Data', 'Combining Data', 'Taking it to the Next Level']\n",
      "['\\n          SQL Basics\\n        ', '\\n          Combining Data\\n        ', '\\n          Aggregating Data\\n        ', '\\n          Taking it to the Next Level\\n        ', '\\n          SQL Basics\\n        ', '\\n          Aggregating Data\\n        ', '\\n          Combining Data\\n        ', '\\n          Taking it to the Next Level\\n        ']\n"
     ]
    },
    {
     "name": "stderr",
     "output_type": "stream",
     "text": [
      "2020-07-23 19:41:53 [scrapy.core.engine] DEBUG: Crawled (200) <GET https://www.datacamp.com/courses/natural-language-generation-in-python> (referer: https://www.datacamp.com/courses/all)\n",
      "2020-07-23 19:41:53 [scrapy.core.engine] DEBUG: Crawled (200) <GET https://www.datacamp.com/courses/introduction-to-bash-scripting> (referer: https://www.datacamp.com/courses/all)\n",
      "2020-07-23 19:41:53 [scrapy.core.engine] DEBUG: Crawled (200) <GET https://www.datacamp.com/courses/intermediate-regular-expressions-in-r> (referer: https://www.datacamp.com/courses/all)\n"
     ]
    },
    {
     "name": "stdout",
     "output_type": "stream",
     "text": [
      "['Introduction to sequential data', 'Translate words to a different language', 'Write like Shakespeare', 'Autocomplete your sentences', 'Introduction to sequential data', 'Write like Shakespeare', 'Translate words to a different language', 'Autocomplete your sentences']\n",
      "['\\n          Introduction to sequential data\\n        ', '\\n          Translate words to a different language\\n        ', '\\n          Write like Shakespeare\\n        ', '\\n          Autocomplete your sentences\\n        ', '\\n          Introduction to sequential data\\n        ', '\\n          Write like Shakespeare\\n        ', '\\n          Translate words to a different language\\n        ', '\\n          Autocomplete your sentences\\n        ']\n",
      "['From Command-Line to Bash Script', 'Control Statements in Bash Scripting', 'Variables in Bash Scripting', 'Functions and Automation', 'From Command-Line to Bash Script', 'Variables in Bash Scripting', 'Control Statements in Bash Scripting', 'Functions and Automation']\n",
      "['\\n          From Command-Line to Bash Script\\n        ', '\\n          Control Statements in Bash Scripting\\n        ', '\\n          Variables in Bash Scripting\\n        ', '\\n          Functions and Automation\\n        ', '\\n          From Command-Line to Bash Script\\n        ', '\\n          Variables in Bash Scripting\\n        ', '\\n          Control Statements in Bash Scripting\\n        ', '\\n          Functions and Automation\\n        ']\n",
      "['Regular Expressions: Writing custom patterns', 'Extracting structured data from text', 'Creating strings with data', 'Similarities between strings', 'Regular Expressions: Writing custom patterns', 'Creating strings with data', 'Extracting structured data from text', 'Similarities between strings']\n",
      "['\\n          Regular Expressions: Writing custom patterns\\n        ', '\\n          Extracting structured data from text\\n        ', '\\n          Creating strings with data\\n        ', '\\n          Similarities between strings\\n        ', '\\n          Regular Expressions: Writing custom patterns\\n        ', '\\n          Creating strings with data\\n        ', '\\n          Extracting structured data from text\\n        ', '\\n          Similarities between strings\\n        ']\n"
     ]
    },
    {
     "name": "stderr",
     "output_type": "stream",
     "text": [
      "2020-07-23 19:41:55 [scrapy.core.engine] DEBUG: Crawled (200) <GET https://www.datacamp.com/courses/database-design> (referer: https://www.datacamp.com/courses/all)\n"
     ]
    },
    {
     "name": "stdout",
     "output_type": "stream",
     "text": [
      "['Processing, Storing, and Organizing Data', 'Database Views', 'Database Schemas and Normalization', 'Database Management', 'Processing, Storing, and Organizing Data', 'Database Schemas and Normalization', 'Database Views', 'Database Management']\n",
      "['\\n          Processing, Storing, and Organizing Data\\n        ', '\\n          Database Views\\n        ', '\\n          Database Schemas and Normalization\\n        ', '\\n          Database Management\\n        ', '\\n          Processing, Storing, and Organizing Data\\n        ', '\\n          Database Schemas and Normalization\\n        ', '\\n          Database Views\\n        ', '\\n          Database Management\\n        ']\n"
     ]
    },
    {
     "name": "stderr",
     "output_type": "stream",
     "text": [
      "2020-07-23 19:41:58 [scrapy.core.engine] DEBUG: Crawled (200) <GET https://www.datacamp.com/courses/joining-data-with-dplyr> (referer: https://www.datacamp.com/courses/all)\n"
     ]
    },
    {
     "name": "stdout",
     "output_type": "stream",
     "text": [
      "['Joining Tables', 'Full, Semi, and Anti Joins', 'Left and Right Joins', 'Case Study: Joins on Stack Overflow Data', 'Joining Tables', 'Left and Right Joins', 'Full, Semi, and Anti Joins', 'Case Study: Joins on Stack Overflow Data']\n",
      "['\\n          Joining Tables\\n        ', '\\n          Full, Semi, and Anti Joins\\n        ', '\\n          Left and Right Joins\\n        ', '\\n          Case Study: Joins on Stack Overflow Data\\n        ', '\\n          Joining Tables\\n        ', '\\n          Left and Right Joins\\n        ', '\\n          Full, Semi, and Anti Joins\\n        ', '\\n          Case Study: Joins on Stack Overflow Data\\n        ']\n"
     ]
    },
    {
     "name": "stderr",
     "output_type": "stream",
     "text": [
      "2020-07-23 19:42:00 [scrapy.core.engine] DEBUG: Crawled (200) <GET https://www.datacamp.com/courses/introduction-to-data-visualization-with-ggplot2> (referer: https://www.datacamp.com/courses/all)\n"
     ]
    },
    {
     "name": "stdout",
     "output_type": "stream",
     "text": [
      "['Introduction', 'Geometries', 'Aesthetics', 'Themes', 'Introduction', 'Aesthetics', 'Geometries', 'Themes']\n",
      "['\\n          Introduction\\n        ', '\\n          Geometries\\n        ', '\\n          Aesthetics\\n        ', '\\n          Themes\\n        ', '\\n          Introduction\\n        ', '\\n          Aesthetics\\n        ', '\\n          Geometries\\n        ', '\\n          Themes\\n        ']\n"
     ]
    },
    {
     "name": "stderr",
     "output_type": "stream",
     "text": [
      "2020-07-23 19:42:00 [scrapy.core.engine] DEBUG: Crawled (200) <GET https://www.datacamp.com/courses/practicing-statistics-interview-questions-in-r> (referer: https://www.datacamp.com/courses/all)\n",
      "2020-07-23 19:42:00 [scrapy.core.engine] DEBUG: Crawled (200) <GET https://www.datacamp.com/courses/intermediate-data-visualization-with-ggplot2> (referer: https://www.datacamp.com/courses/all)\n"
     ]
    },
    {
     "name": "stdout",
     "output_type": "stream",
     "text": [
      "['Probability Distributions', 'Statistical Tests', 'Exploratory Data Analysis', 'Regression Models', 'Probability Distributions', 'Exploratory Data Analysis', 'Statistical Tests', 'Regression Models']\n",
      "['\\n          Probability Distributions\\n        ', '\\n          Statistical Tests\\n        ', '\\n          Exploratory Data Analysis\\n        ', '\\n          Regression Models\\n        ', '\\n          Probability Distributions\\n        ', '\\n          Exploratory Data Analysis\\n        ', '\\n          Statistical Tests\\n        ', '\\n          Regression Models\\n        ']\n",
      "['Statistics', 'Facets', 'Coordinates', 'Best Practices', 'Statistics', 'Coordinates', 'Facets', 'Best Practices']\n",
      "['\\n          Statistics\\n        ', '\\n          Facets\\n        ', '\\n          Coordinates\\n        ', '\\n          Best Practices\\n        ', '\\n          Statistics\\n        ', '\\n          Coordinates\\n        ', '\\n          Facets\\n        ', '\\n          Best Practices\\n        ']\n"
     ]
    },
    {
     "name": "stderr",
     "output_type": "stream",
     "text": [
      "2020-07-23 19:42:02 [scrapy.core.engine] DEBUG: Crawled (200) <GET https://www.datacamp.com/courses/intermediate-python-for-finance> (referer: https://www.datacamp.com/courses/all)\n",
      "2020-07-23 19:42:02 [scrapy.core.engine] DEBUG: Crawled (200) <GET https://www.datacamp.com/courses/quantitative-risk-management-in-python> (referer: https://www.datacamp.com/courses/all)\n"
     ]
    },
    {
     "name": "stdout",
     "output_type": "stream",
     "text": [
      "['Datetimes and Dictionaries', 'Pandas Dataframe', 'Control Flow and Logic', 'Working with NASDAQ Stock Data', 'Datetimes and Dictionaries', 'Control Flow and Logic', 'Pandas Dataframe', 'Working with NASDAQ Stock Data']\n",
      "['\\n          Datetimes and Dictionaries \\n        ', '\\n          Pandas Dataframe\\n        ', '\\n          Control Flow and Logic\\n        ', '\\n          Working with NASDAQ Stock Data\\n        ', '\\n          Datetimes and Dictionaries \\n        ', '\\n          Control Flow and Logic\\n        ', '\\n          Pandas Dataframe\\n        ', '\\n          Working with NASDAQ Stock Data\\n        ']\n",
      "['Risk and return recap', 'Estimating and identifying risk', 'Goal-oriented risk management', 'Advanced risk management', 'Risk and return recap', 'Goal-oriented risk management', 'Estimating and identifying risk', 'Advanced risk management']\n",
      "['\\n          Risk and return recap\\n        ', '\\n          Estimating and identifying risk\\n        ', '\\n          Goal-oriented risk management\\n        ', '\\n          Advanced risk management\\n        ', '\\n          Risk and return recap\\n        ', '\\n          Goal-oriented risk management\\n        ', '\\n          Estimating and identifying risk\\n        ', '\\n          Advanced risk management\\n        ']\n"
     ]
    },
    {
     "name": "stderr",
     "output_type": "stream",
     "text": [
      "2020-07-23 19:42:02 [scrapy.core.engine] DEBUG: Crawled (200) <GET https://www.datacamp.com/courses/building-web-applications-with-shiny-in-r> (referer: https://www.datacamp.com/courses/all)\n",
      "2020-07-23 19:42:02 [scrapy.core.engine] DEBUG: Crawled (200) <GET https://www.datacamp.com/courses/creating-postgresql-databases> (referer: https://www.datacamp.com/courses/all)\n",
      "2020-07-23 19:42:02 [scrapy.core.engine] DEBUG: Crawled (200) <GET https://www.datacamp.com/courses/analyzing-social-media-data-in-r> (referer: https://www.datacamp.com/courses/all)\n"
     ]
    },
    {
     "name": "stdout",
     "output_type": "stream",
     "text": [
      "['Get Started with Shiny', 'Reactive Programming', 'Inputs, Outputs, and Layouts', 'Build Shiny Apps', 'Get Started with Shiny', 'Inputs, Outputs, and Layouts', 'Reactive Programming', 'Build Shiny Apps']\n",
      "['\\n          Get Started with Shiny\\n        ', '\\n          Reactive Programming\\n        ', '\\n          Inputs, Outputs, and Layouts\\n        ', '\\n          Build Shiny Apps\\n        ', '\\n          Get Started with Shiny\\n        ', '\\n          Inputs, Outputs, and Layouts\\n        ', '\\n          Reactive Programming\\n        ', '\\n          Build Shiny Apps\\n        ']\n",
      "['Chapter 1: Structure of PostgreSQL Databases', 'Chapter 3: Database Normalization', 'Chapter 2: PostgreSQL Data Types', 'Chapter 4: Access Control in PostgreSQL', 'Chapter 1: Structure of PostgreSQL Databases', 'Chapter 2: PostgreSQL Data Types', 'Chapter 3: Database Normalization', 'Chapter 4: Access Control in PostgreSQL']\n",
      "['\\n          Chapter 1: Structure of PostgreSQL Databases\\n        ', '\\n          Chapter 3: Database Normalization\\n        ', '\\n          Chapter 2: PostgreSQL Data Types\\n        ', '\\n          Chapter 4: Access Control in PostgreSQL\\n        ', '\\n          Chapter 1: Structure of PostgreSQL Databases\\n        ', '\\n          Chapter 2: PostgreSQL Data Types\\n        ', '\\n          Chapter 3: Database Normalization\\n        ', '\\n          Chapter 4: Access Control in PostgreSQL\\n        ']\n",
      "['Understanding Twitter data', 'Visualize Tweet texts', 'Analyzing Twitter data', 'Network Analysis and putting Twitter data on the map', 'Understanding Twitter data', 'Analyzing Twitter data', 'Visualize Tweet texts', 'Network Analysis and putting Twitter data on the map']\n",
      "['\\n          Understanding Twitter data\\n        ', '\\n          Visualize Tweet texts\\n        ', '\\n          Analyzing Twitter data\\n        ', '\\n          Network Analysis and putting Twitter data on the map\\n        ', '\\n          Understanding Twitter data\\n        ', '\\n          Analyzing Twitter data\\n        ', '\\n          Visualize Tweet texts\\n        ', '\\n          Network Analysis and putting Twitter data on the map\\n        ']\n"
     ]
    },
    {
     "name": "stderr",
     "output_type": "stream",
     "text": [
      "2020-07-23 19:42:06 [scrapy.extensions.logstats] INFO: Crawled 58 pages (at 58 pages/min), scraped 0 items (at 0 items/min)\n",
      "2020-07-23 19:42:07 [scrapy.core.engine] DEBUG: Crawled (200) <GET https://www.datacamp.com/courses/market-basket-analysis-in-r> (referer: https://www.datacamp.com/courses/all)\n"
     ]
    },
    {
     "name": "stdout",
     "output_type": "stream",
     "text": [
      "['Introduction to Market Basket Analysis', 'Visualization in Market Basket Analysis', 'Metrics & Techniques in Market Basket Analysis', 'Case Study: Market basket with Movies', 'Introduction to Market Basket Analysis', 'Metrics & Techniques in Market Basket Analysis', 'Visualization in Market Basket Analysis', 'Case Study: Market basket with Movies']\n",
      "['\\n          Introduction to Market Basket Analysis\\n        ', '\\n          Visualization in Market Basket Analysis\\n        ', '\\n          Metrics & Techniques in Market Basket Analysis\\n        ', '\\n          Case Study: Market basket with Movies\\n        ', '\\n          Introduction to Market Basket Analysis\\n        ', '\\n          Metrics & Techniques in Market Basket Analysis\\n        ', '\\n          Visualization in Market Basket Analysis\\n        ', '\\n          Case Study: Market basket with Movies\\n        ']\n"
     ]
    },
    {
     "name": "stderr",
     "output_type": "stream",
     "text": [
      "2020-07-23 19:42:08 [scrapy.core.engine] DEBUG: Crawled (200) <GET https://www.datacamp.com/courses/practicing-machine-learning-interview-questions-in-python> (referer: https://www.datacamp.com/courses/all)\n"
     ]
    },
    {
     "name": "stdout",
     "output_type": "stream",
     "text": [
      "['Data Pre-processing and Visualization', 'Unsupervised Learning', 'Supervised Learning', 'Model Selection and Evaluation', 'Data Pre-processing and Visualization', 'Supervised Learning', 'Unsupervised Learning', 'Model Selection and Evaluation']\n",
      "['\\n          Data Pre-processing and Visualization\\n        ', '\\n          Unsupervised Learning\\n        ', '\\n          Supervised Learning\\n        ', '\\n          Model Selection and Evaluation\\n        ', '\\n          Data Pre-processing and Visualization\\n        ', '\\n          Supervised Learning\\n        ', '\\n          Unsupervised Learning\\n        ', '\\n          Model Selection and Evaluation\\n        ']\n"
     ]
    },
    {
     "name": "stderr",
     "output_type": "stream",
     "text": [
      "2020-07-23 19:42:09 [scrapy.core.engine] DEBUG: Crawled (200) <GET https://www.datacamp.com/courses/introduction-to-writing-functions-in-r> (referer: https://www.datacamp.com/courses/all)\n",
      "2020-07-23 19:42:09 [scrapy.core.engine] DEBUG: Crawled (200) <GET https://www.datacamp.com/courses/predicting-ctr-with-machine-learning-in-python> (referer: https://www.datacamp.com/courses/all)\n",
      "2020-07-23 19:42:09 [scrapy.core.engine] DEBUG: Crawled (200) <GET https://www.datacamp.com/courses/pandas-joins-for-spreadsheet-users> (referer: https://www.datacamp.com/courses/all)\n"
     ]
    },
    {
     "name": "stdout",
     "output_type": "stream",
     "text": [
      "['How to write a function', 'Return values and scope', 'All about arguments', 'Case study on grain yields', 'How to write a function', 'All about arguments', 'Return values and scope', 'Case study on grain yields']\n",
      "['\\n          How to write a function\\n        ', '\\n          Return values and scope\\n        ', '\\n          All about arguments\\n        ', '\\n          Case study on grain yields\\n        ', '\\n          How to write a function\\n        ', '\\n          All about arguments\\n        ', '\\n          Return values and scope\\n        ', '\\n          Case study on grain yields\\n        ']\n",
      "['Introduction to CTR and Basic Techniques', 'Model Applications and Improvements', 'Exploratory CTR Data Analysis', 'Deep Learning', 'Introduction to CTR and Basic Techniques', 'Exploratory CTR Data Analysis', 'Model Applications and Improvements', 'Deep Learning']\n",
      "['\\n          Introduction to CTR and Basic Techniques\\n        ', '\\n          Model Applications and Improvements\\n        ', '\\n          Exploratory CTR Data Analysis \\n        ', '\\n          Deep Learning\\n        ', '\\n          Introduction to CTR and Basic Techniques\\n        ', '\\n          Exploratory CTR Data Analysis \\n        ', '\\n          Model Applications and Improvements\\n        ', '\\n          Deep Learning\\n        ']\n"
     ]
    },
    {
     "name": "stderr",
     "output_type": "stream",
     "text": [
      "2020-07-23 19:42:09 [scrapy.core.engine] DEBUG: Crawled (200) <GET https://www.datacamp.com/courses/introduction-to-data-engineering> (referer: https://www.datacamp.com/courses/all)\n"
     ]
    },
    {
     "name": "stdout",
     "output_type": "stream",
     "text": [
      "['Introduction to joining data', 'One-to-many joins', 'VLOOKUP-style joins', 'Advanced joins', 'Introduction to joining data', 'VLOOKUP-style joins', 'One-to-many joins', 'Advanced joins']\n",
      "['\\n          Introduction to joining data\\n        ', '\\n          One-to-many joins\\n        ', '\\n          VLOOKUP-style joins\\n        ', '\\n          Advanced joins\\n        ', '\\n          Introduction to joining data\\n        ', '\\n          VLOOKUP-style joins\\n        ', '\\n          One-to-many joins\\n        ', '\\n          Advanced joins\\n        ']\n",
      "['Introduction to Data Engineering', 'Extract, Transform and Load (ETL)', 'Data engineering toolbox', 'Case Study: DataCamp', 'Introduction to Data Engineering', 'Data engineering toolbox', 'Extract, Transform and Load (ETL)', 'Case Study: DataCamp']\n",
      "['\\n          Introduction to Data Engineering\\n        ', '\\n          Extract, Transform and Load (ETL)\\n        ', '\\n          Data engineering toolbox\\n        ', '\\n          Case Study: DataCamp\\n        ', '\\n          Introduction to Data Engineering\\n        ', '\\n          Data engineering toolbox\\n        ', '\\n          Extract, Transform and Load (ETL)\\n        ', '\\n          Case Study: DataCamp\\n        ']\n"
     ]
    },
    {
     "name": "stderr",
     "output_type": "stream",
     "text": [
      "2020-07-23 19:42:10 [scrapy.core.engine] DEBUG: Crawled (200) <GET https://www.datacamp.com/courses/data-manipulation-with-dplyr> (referer: https://www.datacamp.com/courses/all)\n"
     ]
    },
    {
     "name": "stdout",
     "output_type": "stream",
     "text": [
      "['Transforming Data with dplyr', 'Selecting and Transforming Data', 'Aggregating Data', 'Case Study: The babynames Dataset', 'Transforming Data with dplyr', 'Aggregating Data', 'Selecting and Transforming Data', 'Case Study: The babynames Dataset']\n",
      "['\\n          Transforming Data with dplyr\\n        ', '\\n          Selecting and Transforming Data\\n        ', '\\n          Aggregating Data\\n        ', '\\n          Case Study: The babynames Dataset\\n        ', '\\n          Transforming Data with dplyr\\n        ', '\\n          Aggregating Data\\n        ', '\\n          Selecting and Transforming Data\\n        ', '\\n          Case Study: The babynames Dataset\\n        ']\n"
     ]
    },
    {
     "name": "stderr",
     "output_type": "stream",
     "text": [
      "2020-07-23 19:42:11 [scrapy.core.engine] DEBUG: Crawled (200) <GET https://www.datacamp.com/courses/introduction-to-natural-language-processing-in-r> (referer: https://www.datacamp.com/courses/all)\n",
      "2020-07-23 19:42:11 [scrapy.core.engine] DEBUG: Crawled (200) <GET https://www.datacamp.com/courses/introduction-to-scala> (referer: https://www.datacamp.com/courses/all)\n"
     ]
    },
    {
     "name": "stdout",
     "output_type": "stream",
     "text": [
      "['True Fundamentals', 'Applications: Classification and Topic Modeling', 'Representations of Text', 'Advanced Techniques', 'True Fundamentals', 'Representations of Text', 'Applications: Classification and Topic Modeling', 'Advanced Techniques']\n",
      "['\\n          True Fundamentals\\n        ', '\\n          Applications: Classification and Topic Modeling\\n        ', '\\n          Representations of Text\\n        ', '\\n          Advanced Techniques\\n        ', '\\n          True Fundamentals\\n        ', '\\n          Representations of Text\\n        ', '\\n          Applications: Classification and Topic Modeling\\n        ', '\\n          Advanced Techniques\\n        ']\n",
      "['A Scalable Language', 'Type Systems, Control Structures, Style', 'Workflows, Functions, Collections', 'A Scalable Language', 'Workflows, Functions, Collections', 'Type Systems, Control Structures, Style']\n",
      "['\\n          A Scalable Language\\n        ', '\\n          Type Systems, Control Structures, Style\\n        ', '\\n          Workflows, Functions, Collections\\n        ', '\\n          A Scalable Language\\n        ', '\\n          Workflows, Functions, Collections\\n        ', '\\n          Type Systems, Control Structures, Style\\n        ']\n"
     ]
    },
    {
     "name": "stderr",
     "output_type": "stream",
     "text": [
      "2020-07-23 19:42:12 [scrapy.core.engine] DEBUG: Crawled (200) <GET https://www.datacamp.com/courses/machine-learning-for-marketing-in-python> (referer: https://www.datacamp.com/courses/all)\n"
     ]
    },
    {
     "name": "stdout",
     "output_type": "stream",
     "text": [
      "['Machine learning for marketing basics', 'Customer Lifetime Value (CLV) prediction', 'Churn prediction and drivers', 'Customer segmentation', 'Machine learning for marketing basics', 'Churn prediction and drivers', 'Customer Lifetime Value (CLV) prediction', 'Customer segmentation']\n",
      "['\\n          Machine learning for marketing basics\\n        ', '\\n          Customer Lifetime Value (CLV) prediction\\n        ', '\\n          Churn prediction and drivers\\n        ', '\\n          Customer segmentation\\n        ', '\\n          Machine learning for marketing basics\\n        ', '\\n          Churn prediction and drivers\\n        ', '\\n          Customer Lifetime Value (CLV) prediction\\n        ', '\\n          Customer segmentation\\n        ']\n"
     ]
    },
    {
     "name": "stderr",
     "output_type": "stream",
     "text": [
      "2020-07-23 19:42:13 [scrapy.core.engine] DEBUG: Crawled (200) <GET https://www.datacamp.com/courses/practicing-machine-learning-interview-questions-in-r> (referer: https://www.datacamp.com/courses/all)\n"
     ]
    },
    {
     "name": "stdout",
     "output_type": "stream",
     "text": [
      "['Data preprocessing and visualization', 'Unsupervised learning', 'Supervised learning', 'Model selection and evaluation', 'Data preprocessing and visualization', 'Supervised learning', 'Unsupervised learning', 'Model selection and evaluation']\n",
      "['\\n          Data preprocessing and visualization\\n        ', '\\n          Unsupervised learning\\n        ', '\\n          Supervised learning\\n        ', '\\n          Model selection and evaluation\\n        ', '\\n          Data preprocessing and visualization\\n        ', '\\n          Supervised learning\\n        ', '\\n          Unsupervised learning\\n        ', '\\n          Model selection and evaluation\\n        ']\n"
     ]
    },
    {
     "name": "stderr",
     "output_type": "stream",
     "text": [
      "2020-07-23 19:42:13 [scrapy.core.engine] DEBUG: Crawled (200) <GET https://www.datacamp.com/courses/transactions-and-error-handling-in-sql-server> (referer: https://www.datacamp.com/courses/all)\n"
     ]
    },
    {
     "name": "stdout",
     "output_type": "stream",
     "text": [
      "['Starting with error handling', 'Transactions in SQL Server', 'Raising, throwing and customizing your errors', 'Controlling the concurrency: Transaction isolation levels', 'Starting with error handling', 'Raising, throwing and customizing your errors', 'Transactions in SQL Server', 'Controlling the concurrency: Transaction isolation levels']\n",
      "['\\n          Starting with error handling\\n        ', '\\n          Transactions in SQL Server\\n        ', '\\n          Raising, throwing and customizing your errors\\n        ', '\\n          Controlling the concurrency: Transaction isolation levels\\n        ', '\\n          Starting with error handling\\n        ', '\\n          Raising, throwing and customizing your errors\\n        ', '\\n          Transactions in SQL Server\\n        ', '\\n          Controlling the concurrency: Transaction isolation levels\\n        ']\n"
     ]
    },
    {
     "name": "stderr",
     "output_type": "stream",
     "text": [
      "2020-07-23 19:42:15 [scrapy.core.engine] DEBUG: Crawled (200) <GET https://www.datacamp.com/courses/introduction-to-tensorflow-in-r> (referer: https://www.datacamp.com/courses/all)\n",
      "2020-07-23 19:42:15 [scrapy.core.engine] DEBUG: Crawled (200) <GET https://www.datacamp.com/courses/credit-risk-modeling-in-python> (referer: https://www.datacamp.com/courses/all)\n"
     ]
    },
    {
     "name": "stdout",
     "output_type": "stream",
     "text": [
      "['Introducing TensorFlow in R', 'Deep Learning in TensorFlow: Creating a Deep Neural Network', 'Linear Regression using two TensorFlow APIs', 'Deep learning in TensorFlow: increasing model accuracy', 'Introducing TensorFlow in R', 'Linear Regression using two TensorFlow APIs', 'Deep Learning in TensorFlow: Creating a Deep Neural Network', 'Deep learning in TensorFlow: increasing model accuracy']\n",
      "['\\n          Introducing TensorFlow in R\\n        ', '\\n          Deep Learning in TensorFlow: Creating a Deep Neural Network\\n        ', '\\n          Linear Regression using two TensorFlow APIs\\n        ', '\\n          Deep learning in TensorFlow: increasing model accuracy\\n        ', '\\n          Introducing TensorFlow in R\\n        ', '\\n          Linear Regression using two TensorFlow APIs\\n        ', '\\n          Deep Learning in TensorFlow: Creating a Deep Neural Network\\n        ', '\\n          Deep learning in TensorFlow: increasing model accuracy\\n        ']\n",
      "['Exploring and Preparing Loan Data', 'Gradient Boosted Trees Using XGBoost', 'Logistic Regression for Defaults', 'Model Evaluation and Implementation', 'Exploring and Preparing Loan Data', 'Logistic Regression for Defaults', 'Gradient Boosted Trees Using XGBoost', 'Model Evaluation and Implementation']\n",
      "['\\n          Exploring and Preparing Loan Data\\n        ', '\\n          Gradient Boosted Trees Using XGBoost\\n        ', '\\n          Logistic Regression for Defaults\\n        ', '\\n          Model Evaluation and Implementation\\n        ', '\\n          Exploring and Preparing Loan Data\\n        ', '\\n          Logistic Regression for Defaults\\n        ', '\\n          Gradient Boosted Trees Using XGBoost\\n        ', '\\n          Model Evaluation and Implementation\\n        ']\n"
     ]
    },
    {
     "name": "stderr",
     "output_type": "stream",
     "text": [
      "2020-07-23 19:42:16 [scrapy.core.engine] DEBUG: Crawled (200) <GET https://www.datacamp.com/courses/data-science-for-business> (referer: https://www.datacamp.com/courses/all)\n"
     ]
    },
    {
     "name": "stdout",
     "output_type": "stream",
     "text": [
      "['Introduction to Data Science', 'Analysis and Visualization', 'Data Collection and Storage', 'Prediction', 'Introduction to Data Science', 'Data Collection and Storage', 'Analysis and Visualization', 'Prediction']\n",
      "['\\n          Introduction to Data Science\\n        ', '\\n          Analysis and Visualization\\n        ', '\\n          Data Collection and Storage\\n        ', '\\n          Prediction\\n        ', '\\n          Introduction to Data Science\\n        ', '\\n          Data Collection and Storage\\n        ', '\\n          Analysis and Visualization\\n        ', '\\n          Prediction\\n        ']\n"
     ]
    },
    {
     "name": "stderr",
     "output_type": "stream",
     "text": [
      "2020-07-23 19:42:16 [scrapy.core.engine] DEBUG: Crawled (200) <GET https://www.datacamp.com/courses/spoken-language-processing-in-python> (referer: https://www.datacamp.com/courses/all)\n",
      "2020-07-23 19:42:16 [scrapy.core.engine] DEBUG: Crawled (200) <GET https://www.datacamp.com/courses/introduction-to-portfolio-analysis-in-python> (referer: https://www.datacamp.com/courses/all)\n"
     ]
    },
    {
     "name": "stdout",
     "output_type": "stream",
     "text": [
      "['Introduction to Spoken Language Processing with Python', 'Manipulating Audio Files with PyDub', 'Using the Python SpeechRecognition library', 'Processing text transcribed from spoken language', 'Introduction to Spoken Language Processing with Python', 'Using the Python SpeechRecognition library', 'Manipulating Audio Files with PyDub', 'Processing text transcribed from spoken language']\n",
      "['\\n          Introduction to Spoken Language Processing with Python\\n        ', '\\n          Manipulating Audio Files with PyDub\\n        ', '\\n          Using the Python SpeechRecognition library\\n        ', '\\n          Processing text transcribed from spoken language\\n        ', '\\n          Introduction to Spoken Language Processing with Python\\n        ', '\\n          Using the Python SpeechRecognition library\\n        ', '\\n          Manipulating Audio Files with PyDub\\n        ', '\\n          Processing text transcribed from spoken language\\n        ']\n",
      "['Introduction to Portfolio Analysis', 'Performance Attribution', 'Risk and Return', 'Portfolio Optimization', 'Introduction to Portfolio Analysis', 'Risk and Return', 'Performance Attribution', 'Portfolio Optimization']\n",
      "['\\n          Introduction to Portfolio Analysis\\n        ', '\\n          Performance Attribution\\n        ', '\\n          Risk and Return\\n        ', '\\n          Portfolio Optimization\\n        ', '\\n          Introduction to Portfolio Analysis\\n        ', '\\n          Risk and Return\\n        ', '\\n          Performance Attribution\\n        ', '\\n          Portfolio Optimization\\n        ']\n"
     ]
    },
    {
     "name": "stderr",
     "output_type": "stream",
     "text": [
      "2020-07-23 19:42:16 [scrapy.core.engine] DEBUG: Crawled (200) <GET https://www.datacamp.com/courses/machine-translation-in-python> (referer: https://www.datacamp.com/courses/all)\n",
      "2020-07-23 19:42:16 [scrapy.core.engine] DEBUG: Crawled (200) <GET https://www.datacamp.com/courses/building-data-engineering-pipelines-in-python> (referer: https://www.datacamp.com/courses/all)\n"
     ]
    },
    {
     "name": "stdout",
     "output_type": "stream",
     "text": [
      "['Introduction to machine translation', 'Training and generating translations', 'Implementing an encoder decoder model with Keras', 'Teacher Forcing and word embeddings', 'Introduction to machine translation', 'Implementing an encoder decoder model with Keras', 'Training and generating translations', 'Teacher Forcing and word embeddings']\n",
      "['\\n          Introduction to machine translation\\n        ', '\\n          Training and generating translations\\n        ', '\\n          Implementing an encoder decoder model with Keras\\n        ', '\\n          Teacher Forcing and word embeddings\\n        ', '\\n          Introduction to machine translation\\n        ', '\\n          Implementing an encoder decoder model with Keras\\n        ', '\\n          Training and generating translations\\n        ', '\\n          Teacher Forcing and word embeddings\\n        ']\n",
      "['Ingesting Data', 'Testing your data pipeline', 'Creating a data transformation pipeline with PySpark', 'Managing and orchestrating a workflow', 'Ingesting Data', 'Creating a data transformation pipeline with PySpark', 'Testing your data pipeline', 'Managing and orchestrating a workflow']\n",
      "['\\n          Ingesting Data\\n        ', '\\n          Testing your data pipeline\\n        ', '\\n          Creating a data transformation pipeline with PySpark\\n        ', '\\n          Managing and orchestrating a workflow\\n        ', '\\n          Ingesting Data\\n        ', '\\n          Creating a data transformation pipeline with PySpark\\n        ', '\\n          Testing your data pipeline\\n        ', '\\n          Managing and orchestrating a workflow\\n        ']\n"
     ]
    },
    {
     "name": "stderr",
     "output_type": "stream",
     "text": [
      "2020-07-23 19:42:17 [scrapy.core.engine] DEBUG: Crawled (200) <GET https://www.datacamp.com/courses/introduction-to-aws-boto-in-python> (referer: https://www.datacamp.com/courses/all)\n"
     ]
    },
    {
     "name": "stdout",
     "output_type": "stream",
     "text": [
      "['Putting Files in the Cloud!', 'Reporting and Notifying!', 'Sharing Files Securely.', 'Pattern Rekognition', 'Putting Files in the Cloud!', 'Sharing Files Securely.', 'Reporting and Notifying!', 'Pattern Rekognition']\n",
      "['\\n          Putting Files in the Cloud!\\n        ', '\\n          Reporting and Notifying!\\n        ', '\\n          Sharing Files Securely.\\n        ', '\\n          Pattern Rekognition\\n        ', '\\n          Putting Files in the Cloud!\\n        ', '\\n          Sharing Files Securely.\\n        ', '\\n          Reporting and Notifying!\\n        ', '\\n          Pattern Rekognition\\n        ']\n"
     ]
    },
    {
     "name": "stderr",
     "output_type": "stream",
     "text": [
      "2020-07-23 19:42:19 [scrapy.core.engine] DEBUG: Crawled (200) <GET https://www.datacamp.com/courses/recurrent-neural-networks-for-language-modeling-in-python> (referer: https://www.datacamp.com/courses/all)\n"
     ]
    },
    {
     "name": "stdout",
     "output_type": "stream",
     "text": [
      "['Recurrent Neural Networks and Keras', 'Multi-class classification', 'RNN Architecture', 'Sequence to Sequence Models', 'Recurrent Neural Networks and Keras', 'RNN Architecture', 'Multi-class classification', 'Sequence to Sequence Models']\n",
      "['\\n          Recurrent Neural Networks and Keras\\n        ', '\\n          Multi-class classification\\n        ', '\\n          RNN Architecture\\n        ', '\\n          Sequence to Sequence Models\\n        ', '\\n          Recurrent Neural Networks and Keras\\n        ', '\\n          RNN Architecture\\n        ', '\\n          Multi-class classification\\n        ', '\\n          Sequence to Sequence Models\\n        ']\n"
     ]
    },
    {
     "name": "stderr",
     "output_type": "stream",
     "text": [
      "2020-07-23 19:42:20 [scrapy.core.engine] DEBUG: Crawled (200) <GET https://www.datacamp.com/courses/functions-for-manipulating-data-in-postgresql> (referer: https://www.datacamp.com/courses/all)\n"
     ]
    },
    {
     "name": "stdout",
     "output_type": "stream",
     "text": [
      "['Overview of Common Data Types', 'Parsing and Manipulating Text', 'Working with DATE/TIME Functions and Operators', 'Full-text Search and PostgresSQL Extensions', 'Overview of Common Data Types', 'Working with DATE/TIME Functions and Operators', 'Parsing and Manipulating Text', 'Full-text Search and PostgresSQL Extensions']\n",
      "['\\n          Overview of Common Data Types\\n        ', '\\n          Parsing and Manipulating Text\\n        ', '\\n          Working with DATE/TIME Functions and Operators\\n        ', '\\n          Full-text Search and PostgresSQL Extensions\\n        ', '\\n          Overview of Common Data Types\\n        ', '\\n          Working with DATE/TIME Functions and Operators\\n        ', '\\n          Parsing and Manipulating Text\\n        ', '\\n          Full-text Search and PostgresSQL Extensions\\n        ']\n"
     ]
    },
    {
     "name": "stderr",
     "output_type": "stream",
     "text": [
      "2020-07-23 19:42:21 [scrapy.core.engine] DEBUG: Crawled (200) <GET https://www.datacamp.com/courses/dealing-with-missing-data-in-python> (referer: https://www.datacamp.com/courses/all)\n"
     ]
    },
    {
     "name": "stdout",
     "output_type": "stream",
     "text": [
      "['The Problem With Missing Data', 'Imputation Techniques', 'Does Missingness Have A Pattern?', 'Advanced Imputation Techniques', 'The Problem With Missing Data', 'Does Missingness Have A Pattern?', 'Imputation Techniques', 'Advanced Imputation Techniques']\n",
      "['\\n          The Problem With Missing Data\\n        ', '\\n          Imputation Techniques\\n        ', '\\n          Does Missingness Have A Pattern?\\n        ', '\\n          Advanced Imputation Techniques\\n        ', '\\n          The Problem With Missing Data\\n        ', '\\n          Does Missingness Have A Pattern?\\n        ', '\\n          Imputation Techniques\\n        ', '\\n          Advanced Imputation Techniques\\n        ']\n"
     ]
    },
    {
     "name": "stderr",
     "output_type": "stream",
     "text": [
      "2020-07-23 19:42:21 [scrapy.core.engine] DEBUG: Crawled (200) <GET https://www.datacamp.com/courses/arima-models-in-python> (referer: https://www.datacamp.com/courses/all)\n",
      "2020-07-23 19:42:22 [scrapy.core.engine] DEBUG: Crawled (200) <GET https://www.datacamp.com/courses/regular-expressions-in-python> (referer: https://www.datacamp.com/courses/all)\n"
     ]
    },
    {
     "name": "stdout",
     "output_type": "stream",
     "text": [
      "['Chapter 1 - ARMA Models', 'Chapter 3 - The Best of the Best Models', 'Chapter 2 - Fitting the Future', 'Chapter 4 - Seasonal ARIMA Models', 'Chapter 1 - ARMA Models', 'Chapter 2 - Fitting the Future', 'Chapter 3 - The Best of the Best Models', 'Chapter 4 - Seasonal ARIMA Models']\n",
      "['\\n          Chapter 1 - ARMA Models\\n        ', '\\n          Chapter 3 - The Best of the Best Models\\n        ', '\\n          Chapter 2 - Fitting the Future\\n        ', '\\n          Chapter 4 - Seasonal ARIMA Models\\n        ', '\\n          Chapter 1 - ARMA Models\\n        ', '\\n          Chapter 2 - Fitting the Future\\n        ', '\\n          Chapter 3 - The Best of the Best Models\\n        ', '\\n          Chapter 4 - Seasonal ARIMA Models\\n        ']\n",
      "['Basic Concepts of String Manipulation', 'Regular Expressions for Pattern Matching', 'Formatting Strings', 'Advanced Regular Expression Concepts', 'Basic Concepts of String Manipulation', 'Formatting Strings', 'Regular Expressions for Pattern Matching', 'Advanced Regular Expression Concepts']\n",
      "['\\n          Basic Concepts of String Manipulation\\n        ', '\\n          Regular Expressions for Pattern Matching\\n        ', '\\n          Formatting Strings\\n        ', '\\n          Advanced Regular Expression Concepts\\n        ', '\\n          Basic Concepts of String Manipulation\\n        ', '\\n          Formatting Strings\\n        ', '\\n          Regular Expressions for Pattern Matching\\n        ', '\\n          Advanced Regular Expression Concepts\\n        ']\n"
     ]
    },
    {
     "name": "stderr",
     "output_type": "stream",
     "text": [
      "2020-07-23 19:42:22 [scrapy.core.engine] DEBUG: Crawled (200) <GET https://www.datacamp.com/courses/time-series-analysis-in-sql-server> (referer: https://www.datacamp.com/courses/all)\n",
      "2020-07-23 19:42:22 [scrapy.core.engine] DEBUG: Crawled (200) <GET https://www.datacamp.com/courses/survey-and-measurement-development-in-r> (referer: https://www.datacamp.com/courses/all)\n"
     ]
    },
    {
     "name": "stdout",
     "output_type": "stream",
     "text": [
      "['Working with Dates and Times', 'Aggregating Time Series Data', 'Converting to Dates and Times', 'Answering Time Series Questions with Window Functions', 'Working with Dates and Times', 'Converting to Dates and Times', 'Aggregating Time Series Data', 'Answering Time Series Questions with Window Functions']\n",
      "['\\n          Working with Dates and Times\\n        ', '\\n          Aggregating Time Series Data\\n        ', '\\n          Converting to Dates and Times\\n        ', '\\n          Answering Time Series Questions with Window Functions\\n        ', '\\n          Working with Dates and Times\\n        ', '\\n          Converting to Dates and Times\\n        ', '\\n          Aggregating Time Series Data\\n        ', '\\n          Answering Time Series Questions with Window Functions\\n        ']\n",
      "['Preparing to analyze survey data', 'Confirmatory factor analysis & construct validation', 'Exploratory factor analysis & survey development', 'Criterion validity & replication', 'Preparing to analyze survey data', 'Exploratory factor analysis & survey development', 'Confirmatory factor analysis & construct validation', 'Criterion validity & replication']\n",
      "['\\n          Preparing to analyze survey data\\n        ', '\\n          Confirmatory factor analysis & construct validation\\n        ', '\\n          Exploratory factor analysis & survey development\\n        ', '\\n          Criterion validity & replication\\n        ', '\\n          Preparing to analyze survey data\\n        ', '\\n          Exploratory factor analysis & survey development\\n        ', '\\n          Confirmatory factor analysis & construct validation\\n        ', '\\n          Criterion validity & replication\\n        ']\n"
     ]
    },
    {
     "name": "stderr",
     "output_type": "stream",
     "text": [
      "2020-07-23 19:42:24 [scrapy.core.engine] DEBUG: Crawled (200) <GET https://www.datacamp.com/courses/image-processing-in-python> (referer: https://www.datacamp.com/courses/all)\n"
     ]
    },
    {
     "name": "stdout",
     "output_type": "stream",
     "text": [
      "['Introducing Image Processing and scikit-image', 'Image restoration, Noise, Segmentation and Contours', 'Filters, Contrast, Transformation and Morphology', 'Advanced Operations, Detecting Faces and Features', 'Introducing Image Processing and scikit-image', 'Filters, Contrast, Transformation and Morphology', 'Image restoration, Noise, Segmentation and Contours', 'Advanced Operations, Detecting Faces and Features']\n",
      "['\\n          Introducing Image Processing and scikit-image\\n        ', '\\n          Image restoration, Noise, Segmentation and Contours\\n        ', '\\n          Filters, Contrast, Transformation and Morphology\\n        ', '\\n          Advanced Operations, Detecting Faces and Features\\n        ', '\\n          Introducing Image Processing and scikit-image\\n        ', '\\n          Filters, Contrast, Transformation and Morphology\\n        ', '\\n          Image restoration, Noise, Segmentation and Contours\\n        ', '\\n          Advanced Operations, Detecting Faces and Features\\n        ']\n"
     ]
    },
    {
     "name": "stderr",
     "output_type": "stream",
     "text": [
      "2020-07-23 19:42:25 [scrapy.core.engine] DEBUG: Crawled (200) <GET https://www.datacamp.com/courses/sentiment-analysis-in-python> (referer: https://www.datacamp.com/courses/all)\n"
     ]
    },
    {
     "name": "stdout",
     "output_type": "stream",
     "text": [
      "['Sentiment Analysis Nuts and Bolts', 'More on Numeric Vectors: Transforming Tweets', 'Numeric Features from Reviews', \"Let's Predict the Sentiment\", 'Sentiment Analysis Nuts and Bolts', 'Numeric Features from Reviews', 'More on Numeric Vectors: Transforming Tweets', \"Let's Predict the Sentiment\"]\n",
      "['\\n          Sentiment Analysis Nuts and Bolts\\n        ', '\\n          More on Numeric Vectors: Transforming Tweets\\n        ', '\\n          Numeric Features from Reviews\\n        ', \"\\n          Let's Predict the Sentiment\\n        \", '\\n          Sentiment Analysis Nuts and Bolts\\n        ', '\\n          Numeric Features from Reviews\\n        ', '\\n          More on Numeric Vectors: Transforming Tweets\\n        ', \"\\n          Let's Predict the Sentiment\\n        \"]\n"
     ]
    },
    {
     "name": "stderr",
     "output_type": "stream",
     "text": [
      "2020-07-23 19:42:26 [scrapy.core.engine] DEBUG: Crawled (200) <GET https://www.datacamp.com/courses/winning-a-kaggle-competition-in-python> (referer: https://www.datacamp.com/courses/all)\n"
     ]
    },
    {
     "name": "stdout",
     "output_type": "stream",
     "text": [
      "['Kaggle competitions process', 'Feature Engineering', 'Dive into the Competition', 'Modeling', 'Kaggle competitions process', 'Dive into the Competition', 'Feature Engineering', 'Modeling']\n",
      "['\\n          Kaggle competitions process\\n        ', '\\n          Feature Engineering\\n        ', '\\n          Dive into the Competition\\n        ', '\\n          Modeling\\n        ', '\\n          Kaggle competitions process\\n        ', '\\n          Dive into the Competition\\n        ', '\\n          Feature Engineering\\n        ', '\\n          Modeling\\n        ']\n"
     ]
    },
    {
     "name": "stderr",
     "output_type": "stream",
     "text": [
      "2020-07-23 19:42:27 [scrapy.core.engine] DEBUG: Crawled (200) <GET https://www.datacamp.com/courses/feature-engineering-for-nlp-in-python> (referer: https://www.datacamp.com/courses/all)\n"
     ]
    },
    {
     "name": "stdout",
     "output_type": "stream",
     "text": [
      "['Basic features and readability scores', 'N-Gram models', 'Text preprocessing, POS tagging and NER', 'TF-IDF and similarity scores', 'Basic features and readability scores', 'Text preprocessing, POS tagging and NER', 'N-Gram models', 'TF-IDF and similarity scores']\n",
      "['\\n          Basic features and readability scores\\n        ', '\\n          N-Gram models\\n        ', '\\n          Text preprocessing, POS tagging and NER\\n        ', '\\n          TF-IDF and similarity scores\\n        ', '\\n          Basic features and readability scores\\n        ', '\\n          Text preprocessing, POS tagging and NER\\n        ', '\\n          N-Gram models\\n        ', '\\n          TF-IDF and similarity scores\\n        ']\n"
     ]
    },
    {
     "name": "stderr",
     "output_type": "stream",
     "text": [
      "2020-07-23 19:42:27 [scrapy.core.engine] DEBUG: Crawled (200) <GET https://www.datacamp.com/courses/streamlined-data-ingestion-with-pandas> (referer: https://www.datacamp.com/courses/all)\n",
      "2020-07-23 19:42:27 [scrapy.core.engine] DEBUG: Crawled (200) <GET https://www.datacamp.com/courses/hierarchical-and-recursive-queries-in-sql-server> (referer: https://www.datacamp.com/courses/all)\n"
     ]
    },
    {
     "name": "stdout",
     "output_type": "stream",
     "text": [
      "['Importing Data from Flat Files', 'Importing Data from Databases', 'Importing Data From Excel Files', 'Importing JSON Data and Working with APIs', 'Importing Data from Flat Files', 'Importing Data From Excel Files', 'Importing Data from Databases', 'Importing JSON Data and Working with APIs']\n",
      "['\\n          Importing Data from Flat Files\\n        ', '\\n          Importing Data from Databases\\n        ', '\\n          Importing Data From Excel Files\\n        ', '\\n          Importing JSON Data and Working with APIs\\n        ', '\\n          Importing Data from Flat Files\\n        ', '\\n          Importing Data From Excel Files\\n        ', '\\n          Importing Data from Databases\\n        ', '\\n          Importing JSON Data and Working with APIs\\n        ']\n",
      "['Recursion and Common Table Expression (CTE)', 'Creating Data Models on Your Own', 'Hierarchical and Recursive Queries', 'Hierarchical Queries of Real-World Examples', 'Recursion and Common Table Expression (CTE)', 'Hierarchical and Recursive Queries', 'Creating Data Models on Your Own', 'Hierarchical Queries of Real-World Examples']\n",
      "['\\n          Recursion and Common Table Expression (CTE)\\n        ', '\\n          Creating Data Models on Your Own\\n        ', '\\n          Hierarchical and Recursive Queries\\n        ', '\\n          Hierarchical Queries of Real-World Examples\\n        ', '\\n          Recursion and Common Table Expression (CTE)\\n        ', '\\n          Hierarchical and Recursive Queries\\n        ', '\\n          Creating Data Models on Your Own\\n        ', '\\n          Hierarchical Queries of Real-World Examples\\n        ']\n"
     ]
    },
    {
     "name": "stderr",
     "output_type": "stream",
     "text": [
      "2020-07-23 19:42:28 [scrapy.core.engine] DEBUG: Crawled (200) <GET https://www.datacamp.com/courses/loan-amortization-in-spreadsheets> (referer: https://www.datacamp.com/courses/all)\n"
     ]
    },
    {
     "name": "stdout",
     "output_type": "stream",
     "text": [
      "['Introduction to Financial Concepts in Google Sheets', 'Making a Loan Amortization Dashboard', 'Creating an Amortization Schedule', 'Non-standard amortization schedules', 'Introduction to Financial Concepts in Google Sheets', 'Creating an Amortization Schedule', 'Making a Loan Amortization Dashboard', 'Non-standard amortization schedules']\n",
      "['\\n          Introduction to Financial Concepts in Google Sheets\\n        ', '\\n          Making a Loan Amortization Dashboard\\n        ', '\\n          Creating an Amortization Schedule\\n        ', '\\n          Non-standard amortization schedules\\n        ', '\\n          Introduction to Financial Concepts in Google Sheets\\n        ', '\\n          Creating an Amortization Schedule\\n        ', '\\n          Making a Loan Amortization Dashboard\\n        ', '\\n          Non-standard amortization schedules\\n        ']\n"
     ]
    },
    {
     "name": "stderr",
     "output_type": "stream",
     "text": [
      "2020-07-23 19:42:29 [scrapy.core.engine] DEBUG: Crawled (200) <GET https://www.datacamp.com/courses/building-and-optimizing-triggers-in-sql-server> (referer: https://www.datacamp.com/courses/all)\n"
     ]
    },
    {
     "name": "stdout",
     "output_type": "stream",
     "text": [
      "['Introduction to Triggers', 'Trigger Limitations and Use Cases', 'Classification of Triggers', 'Trigger Optimization and Management', 'Introduction to Triggers', 'Classification of Triggers', 'Trigger Limitations and Use Cases', 'Trigger Optimization and Management']\n",
      "['\\n          Introduction to Triggers\\n        ', '\\n          Trigger Limitations and Use Cases\\n        ', '\\n          Classification of Triggers\\n        ', '\\n          Trigger Optimization and Management\\n        ', '\\n          Introduction to Triggers\\n        ', '\\n          Classification of Triggers\\n        ', '\\n          Trigger Limitations and Use Cases\\n        ', '\\n          Trigger Optimization and Management\\n        ']\n"
     ]
    },
    {
     "name": "stderr",
     "output_type": "stream",
     "text": [
      "2020-07-23 19:42:29 [scrapy.core.engine] DEBUG: Crawled (200) <GET https://www.datacamp.com/courses/experimental-design-in-python> (referer: https://www.datacamp.com/courses/all)\n",
      "2020-07-23 19:42:29 [scrapy.core.engine] DEBUG: Crawled (200) <GET https://www.datacamp.com/courses/cleaning-data-with-pyspark> (referer: https://www.datacamp.com/courses/all)\n"
     ]
    },
    {
     "name": "stdout",
     "output_type": "stream",
     "text": [
      "['The Basics of Statistical Hypothesis Testing', 'Sample size, Power analysis, and Effect size', 'Design Considerations in Experimental Design', 'Testing Normality: Parametric and Non-parametric Tests', 'The Basics of Statistical Hypothesis Testing', 'Design Considerations in Experimental Design', 'Sample size, Power analysis, and Effect size', 'Testing Normality: Parametric and Non-parametric Tests']\n",
      "['\\n          The Basics of Statistical Hypothesis Testing\\n        ', '\\n          Sample size, Power analysis, and Effect size\\n        ', '\\n          Design Considerations in Experimental Design\\n        ', '\\n          Testing Normality: Parametric and Non-parametric Tests\\n        ', '\\n          The Basics of Statistical Hypothesis Testing\\n        ', '\\n          Design Considerations in Experimental Design\\n        ', '\\n          Sample size, Power analysis, and Effect size\\n        ', '\\n          Testing Normality: Parametric and Non-parametric Tests\\n        ']\n",
      "['DataFrame details', 'Improving Performance', 'Manipulating DataFrames in the real world', 'Complex processing and data pipelines', 'DataFrame details', 'Manipulating DataFrames in the real world', 'Improving Performance', 'Complex processing and data pipelines']\n",
      "['\\n          DataFrame details\\n        ', '\\n          Improving Performance\\n        ', '\\n          Manipulating DataFrames in the real world\\n        ', '\\n          Complex processing and data pipelines\\n        ', '\\n          DataFrame details\\n        ', '\\n          Manipulating DataFrames in the real world\\n        ', '\\n          Improving Performance\\n        ', '\\n          Complex processing and data pipelines\\n        ']\n"
     ]
    },
    {
     "name": "stderr",
     "output_type": "stream",
     "text": [
      "2020-07-23 19:42:30 [scrapy.core.engine] DEBUG: Crawled (200) <GET https://www.datacamp.com/courses/introduction-to-deep-learning-with-keras> (referer: https://www.datacamp.com/courses/all)\n"
     ]
    },
    {
     "name": "stdout",
     "output_type": "stream",
     "text": [
      "['Introducing Keras', 'Improving Your Model Performance', 'Going Deeper', 'Advanced Model Architectures', 'Introducing Keras', 'Going Deeper', 'Improving Your Model Performance', 'Advanced Model Architectures']\n",
      "['\\n          Introducing Keras\\n        ', '\\n          Improving Your Model Performance\\n        ', '\\n          Going Deeper\\n        ', '\\n          Advanced Model Architectures\\n        ', '\\n          Introducing Keras\\n        ', '\\n          Going Deeper\\n        ', '\\n          Improving Your Model Performance\\n        ', '\\n          Advanced Model Architectures\\n        ']\n"
     ]
    },
    {
     "name": "stderr",
     "output_type": "stream",
     "text": [
      "2020-07-23 19:42:31 [scrapy.core.engine] DEBUG: Crawled (200) <GET https://www.datacamp.com/courses/practicing-statistics-interview-questions-in-python> (referer: https://www.datacamp.com/courses/all)\n"
     ]
    },
    {
     "name": "stdout",
     "output_type": "stream",
     "text": [
      "['Probability and Sampling Distributions', 'Statistical Experiments and Significance Testing', 'Exploratory Data Analysis', 'Regression and Classification', 'Probability and Sampling Distributions', 'Exploratory Data Analysis', 'Statistical Experiments and Significance Testing', 'Regression and Classification']\n",
      "['\\n          Probability and Sampling Distributions\\n        ', '\\n          Statistical Experiments and Significance Testing\\n        ', '\\n          Exploratory Data Analysis\\n        ', '\\n          Regression and Classification\\n        ', '\\n          Probability and Sampling Distributions\\n        ', '\\n          Exploratory Data Analysis\\n        ', '\\n          Statistical Experiments and Significance Testing\\n        ', '\\n          Regression and Classification\\n        ']\n"
     ]
    },
    {
     "name": "stderr",
     "output_type": "stream",
     "text": [
      "2020-07-23 19:42:32 [scrapy.core.engine] DEBUG: Crawled (200) <GET https://www.datacamp.com/courses/improving-query-performance-in-postgresql> (referer: https://www.datacamp.com/courses/all)\n"
     ]
    },
    {
     "name": "stdout",
     "output_type": "stream",
     "text": [
      "['Bringing Together the Data', 'Using Database Designed Properties', 'Minimizing Results and Decreasing the Load', 'Assessing Query Performance', 'Bringing Together the Data', 'Minimizing Results and Decreasing the Load', 'Using Database Designed Properties', 'Assessing Query Performance']\n",
      "['\\n          Bringing Together the Data\\n        ', '\\n          Using Database Designed Properties\\n        ', '\\n          Minimizing Results and Decreasing the Load\\n        ', '\\n          Assessing Query Performance\\n        ', '\\n          Bringing Together the Data\\n        ', '\\n          Minimizing Results and Decreasing the Load\\n        ', '\\n          Using Database Designed Properties\\n        ', '\\n          Assessing Query Performance\\n        ']\n"
     ]
    },
    {
     "name": "stderr",
     "output_type": "stream",
     "text": [
      "2020-07-23 19:42:33 [scrapy.core.engine] DEBUG: Crawled (200) <GET https://www.datacamp.com/courses/practicing-coding-interview-questions-in-python> (referer: https://www.datacamp.com/courses/all)\n"
     ]
    },
    {
     "name": "stdout",
     "output_type": "stream",
     "text": [
      "['Python Data Structures and String Manipulation', 'Functions and lambda expressions', 'Iterable objects and representatives', 'Python for scientific computing', 'Python Data Structures and String Manipulation', 'Iterable objects and representatives', 'Functions and lambda expressions', 'Python for scientific computing']\n",
      "['\\n          Python Data Structures and String Manipulation\\n        ', '\\n          Functions and lambda expressions\\n        ', '\\n          Iterable objects and representatives\\n        ', '\\n          Python for scientific computing\\n        ', '\\n          Python Data Structures and String Manipulation\\n        ', '\\n          Iterable objects and representatives\\n        ', '\\n          Functions and lambda expressions\\n        ', '\\n          Python for scientific computing\\n        ']\n"
     ]
    },
    {
     "name": "stderr",
     "output_type": "stream",
     "text": [
      "2020-07-23 19:42:33 [scrapy.core.engine] DEBUG: Crawled (200) <GET https://www.datacamp.com/courses/writing-functions-in-python> (referer: https://www.datacamp.com/courses/all)\n",
      "2020-07-23 19:42:33 [scrapy.core.engine] DEBUG: Crawled (200) <GET https://www.datacamp.com/courses/error-and-uncertainty-in-spreadsheets> (referer: https://www.datacamp.com/courses/all)\n"
     ]
    },
    {
     "name": "stdout",
     "output_type": "stream",
     "text": [
      "['Best Practices', 'Decorators', 'Context Managers', 'More on Decorators', 'Best Practices', 'Context Managers', 'Decorators', 'More on Decorators']\n",
      "['\\n          Best Practices\\n        ', '\\n          Decorators\\n        ', '\\n          Context Managers\\n        ', '\\n          More on Decorators\\n        ', '\\n          Best Practices\\n        ', '\\n          Context Managers\\n        ', '\\n          Decorators\\n        ', '\\n          More on Decorators\\n        ']\n",
      "['Defining error, uncertainty, and risk', 'Poking holes in predictions', 'Making accurate predictions', \"Case study: Should you change your bakery's menu?\", 'Defining error, uncertainty, and risk', 'Making accurate predictions', 'Poking holes in predictions', \"Case study: Should you change your bakery's menu?\"]\n",
      "['\\n          Defining error, uncertainty, and risk\\n        ', '\\n          Poking holes in predictions\\n        ', '\\n          Making accurate predictions\\n        ', \"\\n          Case study: Should you change your bakery's menu?\\n        \", '\\n          Defining error, uncertainty, and risk\\n        ', '\\n          Making accurate predictions\\n        ', '\\n          Poking holes in predictions\\n        ', \"\\n          Case study: Should you change your bakery's menu?\\n        \"]\n"
     ]
    },
    {
     "name": "stderr",
     "output_type": "stream",
     "text": [
      "2020-07-23 19:42:34 [scrapy.core.engine] DEBUG: Crawled (200) <GET https://www.datacamp.com/courses/analyzing-iot-data-in-python> (referer: https://www.datacamp.com/courses/all)\n",
      "2020-07-23 19:42:35 [scrapy.core.engine] DEBUG: Crawled (200) <GET https://www.datacamp.com/courses/data-processing-in-shell> (referer: https://www.datacamp.com/courses/all)\n"
     ]
    },
    {
     "name": "stdout",
     "output_type": "stream",
     "text": [
      "['Accessing IoT Data', 'Analyzing IoT data', 'Processing IoT data', 'Machine learning for IoT', 'Accessing IoT Data', 'Processing IoT data', 'Analyzing IoT data', 'Machine learning for IoT']\n",
      "['\\n          Accessing IoT Data\\n        ', '\\n          Analyzing IoT data\\n        ', '\\n          Processing IoT data\\n        ', '\\n          Machine learning for IoT\\n        ', '\\n          Accessing IoT Data\\n        ', '\\n          Processing IoT data\\n        ', '\\n          Analyzing IoT data\\n        ', '\\n          Machine learning for IoT\\n        ']\n",
      "['Downloading Data on the Command Line', 'Database Operations on the Command Line', 'Data Cleaning and Munging on the Command Line', 'Data Pipeline on the Command Line', 'Downloading Data on the Command Line', 'Data Cleaning and Munging on the Command Line', 'Database Operations on the Command Line', 'Data Pipeline on the Command Line']\n",
      "['\\n          Downloading Data on the Command Line\\n        ', '\\n          Database Operations on the Command Line\\n        ', '\\n          Data Cleaning and Munging on the Command Line\\n        ', '\\n          Data Pipeline on the Command Line\\n        ', '\\n          Downloading Data on the Command Line\\n        ', '\\n          Data Cleaning and Munging on the Command Line\\n        ', '\\n          Database Operations on the Command Line\\n        ', '\\n          Data Pipeline on the Command Line\\n        ']\n"
     ]
    },
    {
     "name": "stderr",
     "output_type": "stream",
     "text": [
      "2020-07-23 19:42:36 [scrapy.core.engine] DEBUG: Crawled (200) <GET https://www.datacamp.com/courses/unit-testing-for-data-science-in-python> (referer: https://www.datacamp.com/courses/all)\n"
     ]
    },
    {
     "name": "stdout",
     "output_type": "stream",
     "text": [
      "['Unit testing basics', 'Test Organization and Execution', 'Intermediate unit testing', 'Testing Models, Plots and Much More', 'Unit testing basics', 'Intermediate unit testing', 'Test Organization and Execution', 'Testing Models, Plots and Much More']\n",
      "['\\n          Unit testing basics\\n        ', '\\n          Test Organization and Execution\\n        ', '\\n          Intermediate unit testing\\n        ', '\\n          Testing Models, Plots and Much More\\n        ', '\\n          Unit testing basics\\n        ', '\\n          Intermediate unit testing\\n        ', '\\n          Test Organization and Execution\\n        ', '\\n          Testing Models, Plots and Much More\\n        ']\n"
     ]
    },
    {
     "name": "stderr",
     "output_type": "stream",
     "text": [
      "2020-07-23 19:42:36 [scrapy.core.engine] DEBUG: Crawled (200) <GET https://www.datacamp.com/courses/data-driven-decision-making-in-sql> (referer: https://www.datacamp.com/courses/all)\n"
     ]
    },
    {
     "name": "stdout",
     "output_type": "stream",
     "text": [
      "['Introduction to business intelligence for a online movie rental database', 'Data Driven Decision Making with advanced SQL queries', 'Decision Making with simple SQL queries', 'Data Driven Decision Making with OLAP SQL queries', 'Introduction to business intelligence for a online movie rental database', 'Decision Making with simple SQL queries', 'Data Driven Decision Making with advanced SQL queries', 'Data Driven Decision Making with OLAP SQL queries']\n",
      "['\\n          Introduction to business intelligence for a online movie rental database\\n        ', '\\n          Data Driven Decision Making with advanced SQL queries\\n        ', '\\n          Decision Making with simple SQL queries\\n        ', '\\n          Data Driven Decision Making with OLAP SQL queries\\n        ', '\\n          Introduction to business intelligence for a online movie rental database\\n        ', '\\n          Decision Making with simple SQL queries\\n        ', '\\n          Data Driven Decision Making with advanced SQL queries\\n        ', '\\n          Data Driven Decision Making with OLAP SQL queries\\n        ']\n"
     ]
    },
    {
     "name": "stderr",
     "output_type": "stream",
     "text": [
      "2020-07-23 19:42:37 [scrapy.core.engine] DEBUG: Crawled (200) <GET https://www.datacamp.com/courses/marketing-analytics-in-spreadsheets> (referer: https://www.datacamp.com/courses/all)\n"
     ]
    },
    {
     "name": "stdout",
     "output_type": "stream",
     "text": [
      "['Data Validation for Clean Data Entry', 'Visualize the Data with Charts', 'Regular Expressions', 'Build a Paid Search Campaign Dashboard', 'Data Validation for Clean Data Entry', 'Regular Expressions', 'Visualize the Data with Charts', 'Build a Paid Search Campaign Dashboard']\n",
      "['\\n          Data Validation for Clean Data Entry\\n        ', '\\n          Visualize the Data with Charts\\n        ', '\\n          Regular Expressions\\n        ', '\\n          Build a Paid Search Campaign Dashboard\\n        ', '\\n          Data Validation for Clean Data Entry\\n        ', '\\n          Regular Expressions\\n        ', '\\n          Visualize the Data with Charts\\n        ', '\\n          Build a Paid Search Campaign Dashboard\\n        ']\n"
     ]
    },
    {
     "name": "stderr",
     "output_type": "stream",
     "text": [
      "2020-07-23 19:42:37 [scrapy.core.engine] DEBUG: Crawled (200) <GET https://www.datacamp.com/courses/introduction-to-deep-learning-with-pytorch> (referer: https://www.datacamp.com/courses/all)\n"
     ]
    },
    {
     "name": "stdout",
     "output_type": "stream",
     "text": [
      "['Introduction to PyTorch', 'Convolutional Neural Networks (CNNs)', 'Artificial Neural Networks', 'Using Convolutional Neural Networks', 'Introduction to PyTorch', 'Artificial Neural Networks', 'Convolutional Neural Networks (CNNs)', 'Using Convolutional Neural Networks']\n",
      "['\\n          Introduction to PyTorch\\n        ', '\\n          Convolutional Neural Networks (CNNs)\\n        ', '\\n          Artificial Neural Networks\\n        ', '\\n          Using Convolutional Neural Networks\\n        ', '\\n          Introduction to PyTorch\\n        ', '\\n          Artificial Neural Networks\\n        ', '\\n          Convolutional Neural Networks (CNNs)\\n        ', '\\n          Using Convolutional Neural Networks\\n        ']\n"
     ]
    },
    {
     "name": "stderr",
     "output_type": "stream",
     "text": [
      "2020-07-23 19:42:38 [scrapy.core.engine] DEBUG: Crawled (200) <GET https://www.datacamp.com/courses/generalized-linear-models-in-python> (referer: https://www.datacamp.com/courses/all)\n"
     ]
    },
    {
     "name": "stdout",
     "output_type": "stream",
     "text": [
      "['Introduction to GLMs', 'Modeling Count Data', 'Modeling Binary Data', 'Multivariable Logistic Regression', 'Introduction to GLMs', 'Modeling Binary Data', 'Modeling Count Data', 'Multivariable Logistic Regression']\n",
      "['\\n          Introduction to GLMs\\n        ', '\\n          Modeling Count Data\\n        ', '\\n          Modeling Binary Data\\n        ', '\\n          Multivariable Logistic Regression\\n        ', '\\n          Introduction to GLMs\\n        ', '\\n          Modeling Binary Data\\n        ', '\\n          Modeling Count Data\\n        ', '\\n          Multivariable Logistic Regression\\n        ']\n"
     ]
    },
    {
     "name": "stderr",
     "output_type": "stream",
     "text": [
      "2020-07-23 19:42:38 [scrapy.core.engine] DEBUG: Crawled (200) <GET https://www.datacamp.com/courses/ensemble-methods-in-python> (referer: https://www.datacamp.com/courses/all)\n"
     ]
    },
    {
     "name": "stdout",
     "output_type": "stream",
     "text": [
      "['Combining Multiple Models', 'Boosting', 'Bagging', 'Stacking', 'Combining Multiple Models', 'Bagging', 'Boosting', 'Stacking']\n",
      "['\\n          Combining Multiple Models\\n        ', '\\n          Boosting\\n        ', '\\n          Bagging\\n        ', '\\n          Stacking\\n        ', '\\n          Combining Multiple Models\\n        ', '\\n          Bagging\\n        ', '\\n          Boosting\\n        ', '\\n          Stacking\\n        ']\n"
     ]
    },
    {
     "name": "stderr",
     "output_type": "stream",
     "text": [
      "2020-07-23 19:42:40 [scrapy.core.engine] DEBUG: Crawled (200) <GET https://www.datacamp.com/courses/hyperparameter-tuning-in-python> (referer: https://www.datacamp.com/courses/all)\n",
      "2020-07-23 19:42:40 [scrapy.core.engine] DEBUG: Crawled (200) <GET https://www.datacamp.com/courses/analyzing-business-data-in-sql> (referer: https://www.datacamp.com/courses/all)\n"
     ]
    },
    {
     "name": "stdout",
     "output_type": "stream",
     "text": [
      "['Hyperparameters and Parameters', 'Random Search', 'Grid search', 'Informed Search', 'Hyperparameters and Parameters', 'Grid search', 'Random Search', 'Informed Search']\n",
      "['\\n          Hyperparameters and Parameters\\n        ', '\\n          Random Search\\n        ', '\\n          Grid search\\n        ', '\\n          Informed Search\\n        ', '\\n          Hyperparameters and Parameters\\n        ', '\\n          Grid search\\n        ', '\\n          Random Search\\n        ', '\\n          Informed Search\\n        ']\n",
      "['Revenue, cost, and profit', 'ARPU, histograms, and percentiles', 'User-centric KPIs', 'Generating an executive report', 'Revenue, cost, and profit', 'User-centric KPIs', 'ARPU, histograms, and percentiles', 'Generating an executive report']\n",
      "['\\n          Revenue, cost, and profit\\n        ', '\\n          ARPU, histograms, and percentiles\\n        ', '\\n          User-centric KPIs\\n        ', '\\n          Generating an executive report\\n        ', '\\n          Revenue, cost, and profit\\n        ', '\\n          User-centric KPIs\\n        ', '\\n          ARPU, histograms, and percentiles\\n        ', '\\n          Generating an executive report\\n        ']\n"
     ]
    },
    {
     "name": "stderr",
     "output_type": "stream",
     "text": [
      "2020-07-23 19:42:40 [scrapy.core.engine] DEBUG: Crawled (200) <GET https://www.datacamp.com/courses/improving-query-performance-in-sql-server> (referer: https://www.datacamp.com/courses/all)\n",
      "2020-07-23 19:42:41 [scrapy.core.engine] DEBUG: Crawled (200) <GET https://www.datacamp.com/courses/introduction-to-data-visualization-with-seaborn> (referer: https://www.datacamp.com/courses/all)\n"
     ]
    },
    {
     "name": "stdout",
     "output_type": "stream",
     "text": [
      "['Introduction, Review and The Order of Things', 'Sub-queries and presence or absence', 'Filtering and Data Interrogation', 'Query performance tuning', 'Introduction, Review and The Order of Things', 'Filtering and Data Interrogation', 'Sub-queries and presence or absence', 'Query performance tuning']\n",
      "['\\n           Introduction, Review and The Order of Things\\n        ', '\\n          Sub-queries and presence or absence\\n        ', '\\n          Filtering and Data Interrogation\\n        ', '\\n          Query performance tuning\\n        ', '\\n           Introduction, Review and The Order of Things\\n        ', '\\n          Filtering and Data Interrogation\\n        ', '\\n          Sub-queries and presence or absence\\n        ', '\\n          Query performance tuning\\n        ']\n",
      "['Introduction to Seaborn', 'Visualizing a Categorical and a Quantitative Variable', 'Visualizing Two Quantitative Variables', 'Customizing Seaborn Plots', 'Introduction to Seaborn', 'Visualizing Two Quantitative Variables', 'Visualizing a Categorical and a Quantitative Variable', 'Customizing Seaborn Plots']\n",
      "['\\n          Introduction to Seaborn\\n        ', '\\n          Visualizing a Categorical and a Quantitative Variable\\n        ', '\\n          Visualizing Two Quantitative Variables\\n        ', '\\n          Customizing Seaborn Plots\\n        ', '\\n          Introduction to Seaborn\\n        ', '\\n          Visualizing Two Quantitative Variables\\n        ', '\\n          Visualizing a Categorical and a Quantitative Variable\\n        ', '\\n          Customizing Seaborn Plots\\n        ']\n"
     ]
    },
    {
     "name": "stderr",
     "output_type": "stream",
     "text": [
      "2020-07-23 19:42:41 [scrapy.core.engine] DEBUG: Crawled (200) <GET https://www.datacamp.com/courses/functions-for-manipulating-data-in-sql-server> (referer: https://www.datacamp.com/courses/all)\n",
      "2020-07-23 19:42:41 [scrapy.core.engine] DEBUG: Crawled (200) <GET https://www.datacamp.com/courses/exploratory-data-analysis-in-python> (referer: https://www.datacamp.com/courses/all)\n"
     ]
    },
    {
     "name": "stdout",
     "output_type": "stream",
     "text": [
      "['Choosing the appropriate data type', 'Working With Strings', 'Manipulating time', 'Recognizing Numeric Data Properties', 'Choosing the appropriate data type', 'Manipulating time', 'Working With Strings', 'Recognizing Numeric Data Properties']\n",
      "['\\n          Choosing the appropriate data type\\n        ', '\\n          Working With Strings\\n        ', '\\n          Manipulating time\\n        ', '\\n          Recognizing Numeric Data Properties\\n        ', '\\n          Choosing the appropriate data type\\n        ', '\\n          Manipulating time\\n        ', '\\n          Working With Strings\\n        ', '\\n          Recognizing Numeric Data Properties\\n        ']\n",
      "['Read, clean, and validate', 'Relationships', 'Distributions', 'Multivariate Thinking', 'Read, clean, and validate', 'Distributions', 'Relationships', 'Multivariate Thinking']\n",
      "['\\n          Read, clean, and validate\\n        ', '\\n          Relationships\\n        ', '\\n          Distributions\\n        ', '\\n          Multivariate Thinking\\n        ', '\\n          Read, clean, and validate\\n        ', '\\n          Distributions\\n        ', '\\n          Relationships\\n        ', '\\n          Multivariate Thinking\\n        ']\n"
     ]
    },
    {
     "name": "stderr",
     "output_type": "stream",
     "text": [
      "2020-07-23 19:42:41 [scrapy.core.engine] DEBUG: Crawled (200) <GET https://www.datacamp.com/courses/conditional-formatting-in-spreadsheets> (referer: https://www.datacamp.com/courses/all)\n",
      "2020-07-23 19:42:41 [scrapy.core.engine] DEBUG: Crawled (200) <GET https://www.datacamp.com/courses/model-validation-in-python> (referer: https://www.datacamp.com/courses/all)\n"
     ]
    },
    {
     "name": "stdout",
     "output_type": "stream",
     "text": [
      "['A Primer on Conditional Formatting', 'Conditional Formatting Hacks', 'Custom Application of Conditional Formatting', 'Putting It All Together', 'A Primer on Conditional Formatting', 'Custom Application of Conditional Formatting', 'Conditional Formatting Hacks', 'Putting It All Together']\n",
      "['\\n          A Primer on Conditional Formatting\\n        ', '\\n          Conditional Formatting Hacks\\n        ', '\\n          Custom Application of Conditional Formatting\\n        ', '\\n          Putting It All Together\\n        ', '\\n          A Primer on Conditional Formatting\\n        ', '\\n          Custom Application of Conditional Formatting\\n        ', '\\n          Conditional Formatting Hacks\\n        ', '\\n          Putting It All Together\\n        ']\n",
      "['Basic Modeling in scikit-learn', 'Cross Validation', 'Validation Basics', 'Selecting the best model with Hyperparameter tuning.', 'Basic Modeling in scikit-learn', 'Validation Basics', 'Cross Validation', 'Selecting the best model with Hyperparameter tuning.']\n",
      "['\\n          Basic Modeling in scikit-learn\\n        ', '\\n          Cross Validation\\n        ', '\\n          Validation Basics\\n        ', '\\n          Selecting the best model with Hyperparameter tuning. \\n        ', '\\n          Basic Modeling in scikit-learn\\n        ', '\\n          Validation Basics\\n        ', '\\n          Cross Validation\\n        ', '\\n          Selecting the best model with Hyperparameter tuning. \\n        ']\n"
     ]
    },
    {
     "name": "stderr",
     "output_type": "stream",
     "text": [
      "2020-07-23 19:42:42 [scrapy.core.engine] DEBUG: Crawled (200) <GET https://www.datacamp.com/courses/financial-modeling-in-spreadsheets> (referer: https://www.datacamp.com/courses/all)\n"
     ]
    },
    {
     "name": "stdout",
     "output_type": "stream",
     "text": [
      "['What are Models?', 'Planning and Investing Models', 'Time Value Money Models', 'Probabilistic Models', 'What are Models?', 'Time Value Money Models', 'Planning and Investing Models', 'Probabilistic Models']\n",
      "['\\n          What are Models?\\n        ', '\\n          Planning and Investing Models\\n        ', '\\n          Time Value Money Models\\n        ', '\\n           Probabilistic Models\\n        ', '\\n          What are Models?\\n        ', '\\n          Time Value Money Models\\n        ', '\\n          Planning and Investing Models\\n        ', '\\n           Probabilistic Models\\n        ']\n"
     ]
    },
    {
     "name": "stderr",
     "output_type": "stream",
     "text": [
      "2020-07-23 19:42:44 [scrapy.core.engine] DEBUG: Crawled (200) <GET https://www.datacamp.com/courses/introduction-to-spark-sql-in-python> (referer: https://www.datacamp.com/courses/all)\n",
      "2020-07-23 19:42:44 [scrapy.core.engine] DEBUG: Crawled (200) <GET https://www.datacamp.com/courses/applying-sql-to-real-world-problems> (referer: https://www.datacamp.com/courses/all)\n"
     ]
    },
    {
     "name": "stdout",
     "output_type": "stream",
     "text": [
      "['Pyspark SQL', 'Caching, Logging, and the Spark UI', 'Using window function sql for natural language processing', 'Text classification', 'Pyspark SQL', 'Using window function sql for natural language processing', 'Caching, Logging, and the Spark UI', 'Text classification']\n",
      "['\\n          Pyspark SQL\\n        ', '\\n          Caching, Logging, and the Spark UI\\n        ', '\\n          Using window function sql for natural language processing\\n        ', '\\n          Text classification\\n        ', '\\n          Pyspark SQL\\n        ', '\\n          Using window function sql for natural language processing\\n        ', '\\n          Caching, Logging, and the Spark UI\\n        ', '\\n          Text classification\\n        ']\n"
     ]
    },
    {
     "name": "stderr",
     "output_type": "stream",
     "text": [
      "2020-07-23 19:42:44 [scrapy.core.engine] DEBUG: Crawled (200) <GET https://www.datacamp.com/courses/introduction-to-tensorflow-in-python> (referer: https://www.datacamp.com/courses/all)\n"
     ]
    },
    {
     "name": "stdout",
     "output_type": "stream",
     "text": [
      "['Use Real-World SQL', 'Manage Your Data', 'Find Your Data', 'Best Practices for Writing SQL', 'Use Real-World SQL', 'Find Your Data', 'Manage Your Data', 'Best Practices for Writing SQL']\n",
      "['\\n          Use Real-World SQL\\n        ', '\\n          Manage Your Data\\n        ', '\\n          Find Your Data\\n        ', '\\n          Best Practices for Writing SQL\\n        ', '\\n          Use Real-World SQL\\n        ', '\\n          Find Your Data\\n        ', '\\n          Manage Your Data\\n        ', '\\n          Best Practices for Writing SQL\\n        ']\n",
      "['Introduction to TensorFlow', 'Neural Networks', 'Linear models', 'High Level APIs', 'Introduction to TensorFlow', 'Linear models', 'Neural Networks', 'High Level APIs']\n",
      "['\\n          Introduction to TensorFlow\\n        ', '\\n          Neural Networks\\n        ', '\\n          Linear models\\n        ', '\\n          High Level APIs\\n        ', '\\n          Introduction to TensorFlow\\n        ', '\\n          Linear models\\n        ', '\\n          Neural Networks\\n        ', '\\n          High Level APIs\\n        ']\n"
     ]
    },
    {
     "name": "stderr",
     "output_type": "stream",
     "text": [
      "2020-07-23 19:42:44 [scrapy.core.engine] DEBUG: Crawled (200) <GET https://www.datacamp.com/courses/financial-analytics-in-spreadsheets> (referer: https://www.datacamp.com/courses/all)\n"
     ]
    },
    {
     "name": "stdout",
     "output_type": "stream",
     "text": [
      "['Monitoring historical prices', 'Monitoring the distribution of returns', 'Monitoring historical returns', 'Benchmarking performance', 'Monitoring historical prices', 'Monitoring historical returns', 'Monitoring the distribution of returns', 'Benchmarking performance']\n",
      "['\\n          Monitoring historical prices \\n        ', '\\n          Monitoring the distribution of returns \\n        ', '\\n          Monitoring historical returns\\n        ', '\\n          Benchmarking performance\\n        ', '\\n          Monitoring historical prices \\n        ', '\\n          Monitoring historical returns\\n        ', '\\n          Monitoring the distribution of returns \\n        ', '\\n          Benchmarking performance\\n        ']\n"
     ]
    },
    {
     "name": "stderr",
     "output_type": "stream",
     "text": [
      "2020-07-23 19:42:45 [scrapy.core.engine] DEBUG: Crawled (200) <GET https://www.datacamp.com/courses/machine-learning-with-pyspark> (referer: https://www.datacamp.com/courses/all)\n",
      "2020-07-23 19:42:45 [scrapy.core.engine] DEBUG: Crawled (200) <GET https://www.datacamp.com/courses/ai-fundamentals> (referer: https://www.datacamp.com/courses/all)\n"
     ]
    },
    {
     "name": "stdout",
     "output_type": "stream",
     "text": [
      "['Introduction', 'Regression', 'Classification', 'Ensembles & Pipelines', 'Introduction', 'Classification', 'Regression', 'Ensembles & Pipelines']\n",
      "['\\n          Introduction\\n        ', '\\n          Regression\\n        ', '\\n          Classification\\n        ', '\\n          Ensembles & Pipelines\\n        ', '\\n          Introduction\\n        ', '\\n          Classification\\n        ', '\\n          Regression\\n        ', '\\n          Ensembles & Pipelines\\n        ']\n",
      "['Introduction to AI', 'Unsupervised Learning', 'Supervised Learning', 'Deep Learning & Beyond', 'Introduction to AI', 'Supervised Learning', 'Unsupervised Learning', 'Deep Learning & Beyond']\n",
      "['\\n          Introduction to AI\\n        ', '\\n          Unsupervised Learning\\n        ', '\\n          Supervised Learning\\n        ', '\\n          Deep Learning & Beyond\\n        ', '\\n          Introduction to AI\\n        ', '\\n          Supervised Learning\\n        ', '\\n          Unsupervised Learning\\n        ', '\\n          Deep Learning & Beyond\\n        ']\n"
     ]
    },
    {
     "name": "stderr",
     "output_type": "stream",
     "text": [
      "2020-07-23 19:42:45 [scrapy.core.engine] DEBUG: Crawled (200) <GET https://www.datacamp.com/courses/cluster-analysis-in-python> (referer: https://www.datacamp.com/courses/all)\n"
     ]
    },
    {
     "name": "stdout",
     "output_type": "stream",
     "text": [
      "['Introduction to Clustering', 'K-Means Clustering', 'Hierarchical Clustering', 'Clustering in Real World', 'Introduction to Clustering', 'Hierarchical Clustering', 'K-Means Clustering', 'Clustering in Real World']\n",
      "['\\n          Introduction to Clustering\\n        ', '\\n          K-Means Clustering\\n        ', '\\n          Hierarchical Clustering\\n        ', '\\n          Clustering in Real World\\n        ', '\\n          Introduction to Clustering\\n        ', '\\n          Hierarchical Clustering\\n        ', '\\n          K-Means Clustering\\n        ', '\\n          Clustering in Real World\\n        ']\n"
     ]
    },
    {
     "name": "stderr",
     "output_type": "stream",
     "text": [
      "2020-07-23 19:42:46 [scrapy.core.engine] DEBUG: Crawled (200) <GET https://www.datacamp.com/courses/python-for-spreadsheet-users> (referer: https://www.datacamp.com/courses/all)\n"
     ]
    },
    {
     "name": "stdout",
     "output_type": "stream",
     "text": [
      "['Diving In', 'Working with Multiple Sheets', 'Pivoting in Python', 'Plotting Data', 'Diving In', 'Pivoting in Python', 'Working with Multiple Sheets', 'Plotting Data']\n",
      "['\\n          Diving In\\n        ', '\\n          Working with Multiple Sheets\\n        ', '\\n          Pivoting in Python\\n        ', '\\n          Plotting Data\\n        ', '\\n          Diving In\\n        ', '\\n          Pivoting in Python\\n        ', '\\n          Working with Multiple Sheets\\n        ', '\\n          Plotting Data\\n        ']\n"
     ]
    },
    {
     "name": "stderr",
     "output_type": "stream",
     "text": [
      "2020-07-23 19:42:46 [scrapy.core.engine] DEBUG: Crawled (200) <GET https://www.datacamp.com/courses/analyzing-marketing-campaigns-with-pandas> (referer: https://www.datacamp.com/courses/all)\n",
      "2020-07-23 19:42:46 [scrapy.core.engine] DEBUG: Crawled (200) <GET https://www.datacamp.com/courses/improving-your-data-visualizations-in-python> (referer: https://www.datacamp.com/courses/all)\n"
     ]
    },
    {
     "name": "stdout",
     "output_type": "stream",
     "text": [
      "['Pandas', 'Conversion Attribution', 'Exploratory Analysis & Summary Statistics', 'Personalization A/B Test', 'Pandas', 'Exploratory Analysis & Summary Statistics', 'Conversion Attribution', 'Personalization A/B Test']\n",
      "['\\n          Pandas\\n        ', '\\n          Conversion Attribution\\n        ', '\\n          Exploratory Analysis & Summary Statistics\\n        ', '\\n          Personalization A/B Test\\n        ', '\\n          Pandas\\n        ', '\\n          Exploratory Analysis & Summary Statistics\\n        ', '\\n          Conversion Attribution\\n        ', '\\n          Personalization A/B Test\\n        ']\n",
      "['Highlighting your data', 'Showing uncertainty', 'Using color in your visualizations', 'Visualization in the data science workflow', 'Highlighting your data', 'Using color in your visualizations', 'Showing uncertainty', 'Visualization in the data science workflow']\n",
      "['\\n          Highlighting your data\\n        ', '\\n          Showing uncertainty\\n        ', '\\n          Using color in your visualizations\\n        ', '\\n          Visualization in the data science workflow\\n        ', '\\n          Highlighting your data\\n        ', '\\n          Using color in your visualizations\\n        ', '\\n          Showing uncertainty\\n        ', '\\n          Visualization in the data science workflow\\n        ']\n"
     ]
    },
    {
     "name": "stderr",
     "output_type": "stream",
     "text": [
      "2020-07-23 19:42:49 [scrapy.core.engine] DEBUG: Crawled (200) <GET https://www.datacamp.com/courses/feature-engineering-for-machine-learning-in-python> (referer: https://www.datacamp.com/courses/all)\n"
     ]
    },
    {
     "name": "stdout",
     "output_type": "stream",
     "text": [
      "['Creating Features', 'Conforming to Statistical Assumptions', 'Dealing with Messy Data', 'Dealing with Text Data', 'Creating Features', 'Dealing with Messy Data', 'Conforming to Statistical Assumptions', 'Dealing with Text Data']\n",
      "['\\n          Creating Features\\n        ', '\\n          Conforming to Statistical Assumptions\\n        ', '\\n          Dealing with Messy Data\\n        ', '\\n          Dealing with Text Data\\n        ', '\\n          Creating Features\\n        ', '\\n          Dealing with Messy Data\\n        ', '\\n          Conforming to Statistical Assumptions\\n        ', '\\n          Dealing with Text Data\\n        ']\n"
     ]
    },
    {
     "name": "stderr",
     "output_type": "stream",
     "text": [
      "2020-07-23 19:42:49 [scrapy.core.engine] DEBUG: Crawled (200) <GET https://www.datacamp.com/courses/foundations-of-probability-in-python> (referer: https://www.datacamp.com/courses/all)\n",
      "2020-07-23 19:42:50 [scrapy.core.engine] DEBUG: Crawled (200) <GET https://www.datacamp.com/courses/postgresql-summary-stats-and-window-functions> (referer: https://www.datacamp.com/courses/all)\n"
     ]
    },
    {
     "name": "stdout",
     "output_type": "stream",
     "text": [
      "[\"Let's start flipping coins\", 'Important probability distributions', 'Calculate some probabilities', 'Probability meets statistics', \"Let's start flipping coins\", 'Calculate some probabilities', 'Important probability distributions', 'Probability meets statistics']\n",
      "[\"\\n          Let's start flipping coins\\n        \", '\\n          Important probability distributions\\n        ', '\\n          Calculate some probabilities\\n        ', '\\n          Probability meets statistics\\n        ', \"\\n          Let's start flipping coins\\n        \", '\\n          Calculate some probabilities\\n        ', '\\n          Important probability distributions\\n        ', '\\n          Probability meets statistics\\n        ']\n",
      "['Introduction to window functions', 'Aggregate window functions and frames', 'Fetching, ranking, and paging', 'Beyond window functions', 'Introduction to window functions', 'Fetching, ranking, and paging', 'Aggregate window functions and frames', 'Beyond window functions']\n",
      "['\\n          Introduction to window functions\\n        ', '\\n          Aggregate window functions and frames\\n        ', '\\n          Fetching, ranking, and paging\\n        ', '\\n          Beyond window functions\\n        ', '\\n          Introduction to window functions\\n        ', '\\n          Fetching, ranking, and paging\\n        ', '\\n          Aggregate window functions and frames\\n        ', '\\n          Beyond window functions\\n        ']\n"
     ]
    },
    {
     "name": "stderr",
     "output_type": "stream",
     "text": [
      "2020-07-23 19:42:50 [scrapy.core.engine] DEBUG: Crawled (200) <GET https://www.datacamp.com/courses/introduction-to-statistics-in-spreadsheets> (referer: https://www.datacamp.com/courses/all)\n",
      "2020-07-23 19:42:50 [scrapy.core.engine] DEBUG: Crawled (200) <GET https://www.datacamp.com/courses/reporting-in-sql> (referer: https://www.datacamp.com/courses/all)\n",
      "2020-07-23 19:42:50 [scrapy.core.engine] DEBUG: Crawled (200) <GET https://www.datacamp.com/courses/writing-efficient-code-with-pandas> (referer: https://www.datacamp.com/courses/all)\n"
     ]
    },
    {
     "name": "stdout",
     "output_type": "stream",
     "text": [
      "['Getting To Know Your Data', 'Statistical Hypothesis Testing', 'Statistical Data Visualization', 'Case Study: Dating Profile Analysis', 'Getting To Know Your Data', 'Statistical Data Visualization', 'Statistical Hypothesis Testing', 'Case Study: Dating Profile Analysis']\n",
      "['\\n          Getting To Know Your Data\\n        ', '\\n          Statistical Hypothesis Testing\\n        ', '\\n          Statistical Data Visualization\\n        ', '\\n          Case Study: Dating Profile Analysis\\n        ', '\\n          Getting To Know Your Data\\n        ', '\\n          Statistical Data Visualization\\n        ', '\\n          Statistical Hypothesis Testing\\n        ', '\\n          Case Study: Dating Profile Analysis\\n        ']\n",
      "['Exploring the Olympics Dataset', 'Cleaning & Validation', 'Creating Reports', 'Complex Calculations', 'Exploring the Olympics Dataset', 'Creating Reports', 'Cleaning & Validation', 'Complex Calculations']\n",
      "['\\n          Exploring the Olympics Dataset \\n        ', '\\n          Cleaning & Validation\\n        ', '\\n          Creating Reports\\n        ', '\\n          Complex Calculations\\n        ', '\\n          Exploring the Olympics Dataset \\n        ', '\\n          Creating Reports\\n        ', '\\n          Cleaning & Validation\\n        ', '\\n          Complex Calculations\\n        ']\n",
      "['Selecting columns and rows efficiently', 'Efficient iterating', 'Replacing values in a DataFrame', 'Data manipulation using .groupby()', 'Selecting columns and rows efficiently', 'Replacing values in a DataFrame', 'Efficient iterating', 'Data manipulation using .groupby()']\n",
      "['\\n          Selecting columns and rows efficiently\\n        ', '\\n          Efficient iterating\\n        ', '\\n          Replacing values in a DataFrame\\n        ', '\\n          Data manipulation using .groupby()\\n        ', '\\n          Selecting columns and rows efficiently\\n        ', '\\n          Replacing values in a DataFrame\\n        ', '\\n          Efficient iterating\\n        ', '\\n          Data manipulation using .groupby()\\n        ']\n"
     ]
    },
    {
     "name": "stderr",
     "output_type": "stream",
     "text": [
      "2020-07-23 19:42:50 [scrapy.core.engine] DEBUG: Crawled (200) <GET https://www.datacamp.com/courses/introduction-to-sql-server> (referer: https://www.datacamp.com/courses/all)\n",
      "2020-07-23 19:42:51 [scrapy.core.engine] DEBUG: Crawled (200) <GET https://www.datacamp.com/courses/introduction-to-data-visualization-with-matplotlib> (referer: https://www.datacamp.com/courses/all)\n"
     ]
    },
    {
     "name": "stdout",
     "output_type": "stream",
     "text": [
      "['SELECTion Box', 'Joining tables', 'Groups, strings, and counting things', \"You've  got the power\", 'SELECTion Box', 'Groups, strings, and counting things', 'Joining tables', \"You've  got the power\"]\n",
      "['\\n          SELECTion Box\\n        ', '\\n          Joining tables\\n        ', '\\n          Groups, strings, and counting things\\n        ', \"\\n          You've  got the power\\n        \", '\\n          SELECTion Box\\n        ', '\\n          Groups, strings, and counting things\\n        ', '\\n          Joining tables\\n        ', \"\\n          You've  got the power\\n        \"]\n",
      "['Introduction to Matplotlib', 'Quantitative comparisons and statistical visualizations', 'Plotting time-series', 'Sharing visualizations with others', 'Introduction to Matplotlib', 'Plotting time-series', 'Quantitative comparisons and statistical visualizations', 'Sharing visualizations with others']\n",
      "['\\n          Introduction to Matplotlib\\n        ', '\\n          Quantitative comparisons and statistical visualizations\\n        ', '\\n          Plotting time-series\\n        ', '\\n          Sharing visualizations with others\\n        ', '\\n          Introduction to Matplotlib\\n        ', '\\n          Plotting time-series\\n        ', '\\n          Quantitative comparisons and statistical visualizations\\n        ', '\\n          Sharing visualizations with others\\n        ']\n"
     ]
    },
    {
     "name": "stderr",
     "output_type": "stream",
     "text": [
      "2020-07-23 19:42:52 [scrapy.core.engine] DEBUG: Crawled (200) <GET https://www.datacamp.com/courses/introduction-to-text-analysis-in-r> (referer: https://www.datacamp.com/courses/all)\n"
     ]
    },
    {
     "name": "stdout",
     "output_type": "stream",
     "text": [
      "['Wrangling Text', 'Sentiment Analysis', 'Visualizing Text', 'Topic Modeling', 'Wrangling Text', 'Visualizing Text', 'Sentiment Analysis', 'Topic Modeling']\n",
      "['\\n          Wrangling Text\\n        ', '\\n          Sentiment Analysis\\n        ', '\\n          Visualizing Text\\n        ', '\\n          Topic Modeling\\n        ', '\\n          Wrangling Text\\n        ', '\\n          Visualizing Text\\n        ', '\\n          Sentiment Analysis\\n        ', '\\n          Topic Modeling\\n        ']\n"
     ]
    },
    {
     "name": "stderr",
     "output_type": "stream",
     "text": [
      "2020-07-23 19:42:56 [scrapy.core.engine] DEBUG: Crawled (200) <GET https://www.datacamp.com/courses/introduction-to-relational-databases-in-sql> (referer: https://www.datacamp.com/courses/all)\n"
     ]
    },
    {
     "name": "stdout",
     "output_type": "stream",
     "text": [
      "['Your first database', 'Uniquely identify records with key constraints', 'Enforce data consistency with attribute constraints', 'Glue together tables with foreign keys', 'Your first database', 'Enforce data consistency with attribute constraints', 'Uniquely identify records with key constraints', 'Glue together tables with foreign keys']\n",
      "['\\n          Your first database\\n        ', '\\n          Uniquely identify records with key constraints\\n        ', '\\n          Enforce data consistency with attribute constraints\\n        ', '\\n          Glue together tables with foreign keys\\n        ', '\\n          Your first database\\n        ', '\\n          Enforce data consistency with attribute constraints\\n        ', '\\n          Uniquely identify records with key constraints\\n        ', '\\n          Glue together tables with foreign keys\\n        ']\n"
     ]
    },
    {
     "name": "stderr",
     "output_type": "stream",
     "text": [
      "2020-07-23 19:42:58 [scrapy.core.engine] DEBUG: Crawled (200) <GET https://www.datacamp.com/courses/software-engineering-for-data-scientists-in-python> (referer: https://www.datacamp.com/courses/all)\n"
     ]
    },
    {
     "name": "stdout",
     "output_type": "stream",
     "text": [
      "['Software Engineering & Data Science', 'Utilizing Classes', 'Writing a Python Module', 'Maintainability', 'Software Engineering & Data Science', 'Writing a Python Module', 'Utilizing Classes', 'Maintainability']\n",
      "['\\n          Software Engineering & Data Science\\n        ', '\\n          Utilizing Classes\\n        ', '\\n          Writing a Python Module\\n        ', '\\n          Maintainability\\n        ', '\\n          Software Engineering & Data Science\\n        ', '\\n          Writing a Python Module\\n        ', '\\n          Utilizing Classes\\n        ', '\\n          Maintainability\\n        ']\n"
     ]
    },
    {
     "name": "stderr",
     "output_type": "stream",
     "text": [
      "2020-07-23 19:42:59 [scrapy.core.engine] DEBUG: Crawled (200) <GET https://www.datacamp.com/courses/writing-efficient-python-code> (referer: https://www.datacamp.com/courses/all)\n"
     ]
    },
    {
     "name": "stdout",
     "output_type": "stream",
     "text": [
      "['Foundations for efficiencies', 'Gaining efficiencies', 'Timing and profiling code', 'Basic pandas optimizations', 'Foundations for efficiencies', 'Timing and profiling code', 'Gaining efficiencies', 'Basic pandas optimizations']\n",
      "['\\n          Foundations for efficiencies\\n        ', '\\n          Gaining efficiencies\\n        ', '\\n          Timing and profiling code\\n        ', '\\n          Basic pandas optimizations\\n        ', '\\n          Foundations for efficiencies\\n        ', '\\n          Timing and profiling code\\n        ', '\\n          Gaining efficiencies\\n        ', '\\n          Basic pandas optimizations\\n        ']\n"
     ]
    },
    {
     "name": "stderr",
     "output_type": "stream",
     "text": [
      "2020-07-23 19:43:00 [scrapy.core.engine] DEBUG: Crawled (200) <GET https://www.datacamp.com/courses/intermediate-sql> (referer: https://www.datacamp.com/courses/all)\n"
     ]
    },
    {
     "name": "stdout",
     "output_type": "stream",
     "text": [
      "[\"We'll take the CASE\", 'Correlated Queries, Nested Queries, and Common Table Expressions', 'Short and Simple Subqueries', 'Window Functions', \"We'll take the CASE\", 'Short and Simple Subqueries', 'Correlated Queries, Nested Queries, and Common Table Expressions', 'Window Functions']\n",
      "[\"\\n          We'll take the CASE\\n        \", '\\n          Correlated Queries, Nested Queries, and Common Table Expressions\\n        ', '\\n          Short and Simple Subqueries\\n        ', '\\n          Window Functions\\n        ', \"\\n          We'll take the CASE\\n        \", '\\n          Short and Simple Subqueries\\n        ', '\\n          Correlated Queries, Nested Queries, and Common Table Expressions\\n        ', '\\n          Window Functions\\n        ']\n"
     ]
    },
    {
     "name": "stderr",
     "output_type": "stream",
     "text": [
      "2020-07-23 19:43:04 [scrapy.core.engine] DEBUG: Crawled (200) <GET https://www.datacamp.com/courses/working-with-dates-and-times-in-python> (referer: https://www.datacamp.com/courses/all)\n",
      "2020-07-23 19:43:04 [scrapy.core.engine] DEBUG: Crawled (200) <GET https://www.datacamp.com/courses/designing-machine-learning-workflows-in-python> (referer: https://www.datacamp.com/courses/all)\n"
     ]
    },
    {
     "name": "stdout",
     "output_type": "stream",
     "text": [
      "['Dates and Calendars', 'Time Zones and Daylight Saving', 'Combining Dates and Times', 'Easy and Powerful: Dates and Times in Pandas', 'Dates and Calendars', 'Combining Dates and Times', 'Time Zones and Daylight Saving', 'Easy and Powerful: Dates and Times in Pandas']\n",
      "['\\n          Dates and Calendars\\n        ', '\\n          Time Zones and Daylight Saving\\n        ', '\\n          Combining Dates and Times\\n        ', '\\n          Easy and Powerful: Dates and Times in Pandas\\n        ', '\\n          Dates and Calendars\\n        ', '\\n          Combining Dates and Times\\n        ', '\\n          Time Zones and Daylight Saving\\n        ', '\\n          Easy and Powerful: Dates and Times in Pandas\\n        ']\n"
     ]
    },
    {
     "name": "stderr",
     "output_type": "stream",
     "text": [
      "2020-07-23 19:43:04 [scrapy.core.engine] DEBUG: Crawled (200) <GET https://www.datacamp.com/courses/analyzing-us-census-data-in-python> (referer: https://www.datacamp.com/courses/all)\n",
      "2020-07-23 19:43:04 [scrapy.core.engine] DEBUG: Crawled (200) <GET https://www.datacamp.com/courses/big-data-fundamentals-with-pyspark> (referer: https://www.datacamp.com/courses/all)\n",
      "2020-07-23 19:43:04 [scrapy.core.engine] DEBUG: Crawled (200) <GET https://www.datacamp.com/courses/exploratory-data-analysis-in-sql> (referer: https://www.datacamp.com/courses/all)\n"
     ]
    },
    {
     "name": "stdout",
     "output_type": "stream",
     "text": [
      "['The Standard Workflow', 'Model Lifecycle Management', 'The Human in the Loop', 'Unsupervised Workflows', 'The Standard Workflow', 'The Human in the Loop', 'Model Lifecycle Management', 'Unsupervised Workflows']\n",
      "['\\n          The Standard Workflow\\n        ', '\\n          Model Lifecycle Management\\n        ', '\\n          The Human in the Loop\\n        ', '\\n          Unsupervised Workflows\\n        ', '\\n          The Standard Workflow\\n        ', '\\n          The Human in the Loop\\n        ', '\\n          Model Lifecycle Management\\n        ', '\\n          Unsupervised Workflows\\n        ']\n",
      "['Decennial Census of Population and Housing', 'Measuring Segregation', 'American Community Survey', 'Exploring Census Topics', 'Decennial Census of Population and Housing', 'American Community Survey', 'Measuring Segregation', 'Exploring Census Topics']\n",
      "['\\n          Decennial Census of Population and Housing\\n        ', '\\n          Measuring Segregation\\n        ', '\\n          American Community Survey\\n        ', '\\n          Exploring Census Topics\\n        ', '\\n          Decennial Census of Population and Housing\\n        ', '\\n          American Community Survey\\n        ', '\\n          Measuring Segregation\\n        ', '\\n          Exploring Census Topics\\n        ']\n",
      "['Introduction to Big Data analysis with Spark', 'PySpark SQL & DataFrames', 'Programming in PySpark RDD’s', 'Machine Learning with PySpark MLlib', 'Introduction to Big Data analysis with Spark', 'Programming in PySpark RDD’s', 'PySpark SQL & DataFrames', 'Machine Learning with PySpark MLlib']\n",
      "['\\n          Introduction to Big Data analysis with Spark\\n        ', '\\n          PySpark SQL & DataFrames\\n        ', '\\n          Programming in PySpark RDD’s\\n        ', '\\n          Machine Learning with PySpark MLlib\\n        ', '\\n          Introduction to Big Data analysis with Spark\\n        ', '\\n          Programming in PySpark RDD’s\\n        ', '\\n          PySpark SQL & DataFrames\\n        ', '\\n          Machine Learning with PySpark MLlib\\n        ']\n",
      "[\"What's in the database?\", 'Exploring categorical data and unstructured text', 'Summarizing and aggregating numeric data', 'Working with dates and timestamps', \"What's in the database?\", 'Summarizing and aggregating numeric data', 'Exploring categorical data and unstructured text', 'Working with dates and timestamps']\n",
      "[\"\\n          What's in the database?\\n        \", '\\n          Exploring categorical data and unstructured text\\n        ', '\\n          Summarizing and aggregating numeric data\\n        ', '\\n          Working with dates and timestamps\\n        ', \"\\n          What's in the database?\\n        \", '\\n          Summarizing and aggregating numeric data\\n        ', '\\n          Exploring categorical data and unstructured text\\n        ', '\\n          Working with dates and timestamps\\n        ']\n"
     ]
    },
    {
     "name": "stderr",
     "output_type": "stream",
     "text": [
      "2020-07-23 19:43:05 [scrapy.core.engine] DEBUG: Crawled (200) <GET https://www.datacamp.com/courses/dimensionality-reduction-in-python> (referer: https://www.datacamp.com/courses/all)\n",
      "2020-07-23 19:43:05 [scrapy.core.engine] DEBUG: Crawled (200) <GET https://www.datacamp.com/courses/r-for-sas-users> (referer: https://www.datacamp.com/courses/all)\n"
     ]
    },
    {
     "name": "stdout",
     "output_type": "stream",
     "text": [
      "['Exploring high dimensional data', 'Feature selection II, selecting for model accuracy', 'Feature selection I, selecting for feature information', 'Feature extraction', 'Exploring high dimensional data', 'Feature selection I, selecting for feature information', 'Feature selection II, selecting for model accuracy', 'Feature extraction']\n",
      "['\\n          Exploring high dimensional data\\n        ', '\\n          Feature selection II, selecting for model accuracy\\n        ', '\\n          Feature selection I, selecting for feature information\\n        ', '\\n          Feature extraction\\n        ', '\\n          Exploring high dimensional data\\n        ', '\\n          Feature selection I, selecting for feature information\\n        ', '\\n          Feature selection II, selecting for model accuracy\\n        ', '\\n          Feature extraction\\n        ']\n",
      "['Getting Started with R', 'Data Exploration', 'Data Wrangling', 'Models and Presentation', 'Getting Started with R', 'Data Wrangling', 'Data Exploration', 'Models and Presentation']\n",
      "['\\n          Getting Started with R\\n        ', '\\n          Data Exploration\\n        ', '\\n          Data Wrangling\\n        ', '\\n          Models and Presentation\\n        ', '\\n          Getting Started with R\\n        ', '\\n          Data Wrangling\\n        ', '\\n          Data Exploration\\n        ', '\\n          Models and Presentation\\n        ']\n"
     ]
    },
    {
     "name": "stderr",
     "output_type": "stream",
     "text": [
      "2020-07-23 19:43:05 [scrapy.core.engine] DEBUG: Crawled (200) <GET https://www.datacamp.com/courses/probability-puzzles-in-r> (referer: https://www.datacamp.com/courses/all)\n"
     ]
    },
    {
     "name": "stdout",
     "output_type": "stream",
     "text": [
      "['Introduction and Classic Puzzles', 'Inspired from the Web', 'Games with Dice', 'Poker', 'Introduction and Classic Puzzles', 'Games with Dice', 'Inspired from the Web', 'Poker']\n",
      "['\\n          Introduction and Classic Puzzles\\n        ', '\\n          Inspired from the Web\\n        ', '\\n          Games with Dice\\n        ', '\\n          Poker\\n        ', '\\n          Introduction and Classic Puzzles\\n        ', '\\n          Games with Dice\\n        ', '\\n          Inspired from the Web\\n        ', '\\n          Poker\\n        ']\n"
     ]
    },
    {
     "name": "stderr",
     "output_type": "stream",
     "text": [
      "2020-07-23 19:43:06 [scrapy.core.engine] DEBUG: Crawled (200) <GET https://www.datacamp.com/courses/feature-engineering-in-r> (referer: https://www.datacamp.com/courses/all)\n",
      "2020-07-23 19:43:06 [scrapy.core.engine] DEBUG: Crawled (200) <GET https://www.datacamp.com/courses/introduction-to-data-science-in-python> (referer: https://www.datacamp.com/courses/all)\n"
     ]
    },
    {
     "name": "stdout",
     "output_type": "stream",
     "text": [
      "['Creating Features from Categorical Data', 'Transforming Numerical Features', 'Creating Features from Numeric Data', 'Advanced Methods', 'Creating Features from Categorical Data', 'Creating Features from Numeric Data', 'Transforming Numerical Features', 'Advanced Methods']\n",
      "['\\n          Creating Features from Categorical Data\\n        ', '\\n          Transforming Numerical Features\\n        ', '\\n          Creating Features from Numeric Data\\n        ', '\\n          Advanced Methods\\n        ', '\\n          Creating Features from Categorical Data\\n        ', '\\n          Creating Features from Numeric Data\\n        ', '\\n          Transforming Numerical Features\\n        ', '\\n          Advanced Methods\\n        ']\n",
      "['Getting Started in Python', 'Plotting Data with matplotlib', 'Loading Data in pandas', 'Different Types of Plots', 'Getting Started in Python', 'Loading Data in pandas', 'Plotting Data with matplotlib', 'Different Types of Plots']\n",
      "['\\n          Getting Started in Python\\n        ', '\\n          Plotting Data with matplotlib\\n        ', '\\n          Loading Data in pandas\\n        ', '\\n          Different Types of Plots\\n        ', '\\n          Getting Started in Python\\n        ', '\\n          Loading Data in pandas\\n        ', '\\n          Plotting Data with matplotlib\\n        ', '\\n          Different Types of Plots\\n        ']\n"
     ]
    },
    {
     "name": "stderr",
     "output_type": "stream",
     "text": [
      "2020-07-23 19:43:06 [scrapy.core.engine] DEBUG: Crawled (200) <GET https://www.datacamp.com/courses/advanced-dimensionality-reduction-in-r> (referer: https://www.datacamp.com/courses/all)\n",
      "2020-07-23 19:43:06 [scrapy.extensions.logstats] INFO: Crawled 152 pages (at 94 pages/min), scraped 0 items (at 0 items/min)\n"
     ]
    },
    {
     "name": "stdout",
     "output_type": "stream",
     "text": [
      "['Introduction to Advanced Dimensionality Reduction', 'Using t-SNE with Predictive Models', 'Introduction to t-SNE', 'Generalized Low Rank Models (GLRM)', 'Introduction to Advanced Dimensionality Reduction', 'Introduction to t-SNE', 'Using t-SNE with Predictive Models', 'Generalized Low Rank Models (GLRM)']\n",
      "['\\n          Introduction to Advanced Dimensionality Reduction \\n        ', '\\n          Using t-SNE with Predictive Models\\n        ', '\\n          Introduction to t-SNE\\n        ', '\\n          Generalized Low Rank Models (GLRM)\\n        ', '\\n          Introduction to Advanced Dimensionality Reduction \\n        ', '\\n          Introduction to t-SNE\\n        ', '\\n          Using t-SNE with Predictive Models\\n        ', '\\n          Generalized Low Rank Models (GLRM)\\n        ']\n"
     ]
    },
    {
     "name": "stderr",
     "output_type": "stream",
     "text": [
      "2020-07-23 19:43:08 [scrapy.core.engine] DEBUG: Crawled (200) <GET https://www.datacamp.com/courses/topic-modeling-in-r> (referer: https://www.datacamp.com/courses/all)\n",
      "2020-07-23 19:43:08 [scrapy.core.engine] DEBUG: Crawled (200) <GET https://www.datacamp.com/courses/fraud-detection-in-python> (referer: https://www.datacamp.com/courses/all)\n"
     ]
    },
    {
     "name": "stdout",
     "output_type": "stream",
     "text": [
      "['Quick introduction to the workflow', 'Named entity recognition as unsupervised classification', 'Wordclouds, stopwords, and control arguments', 'How many topics is enough?', 'Quick introduction to the workflow', 'Wordclouds, stopwords, and control arguments', 'Named entity recognition as unsupervised classification', 'How many topics is enough?']\n",
      "['\\n          Quick introduction to the workflow\\n        ', '\\n          Named entity recognition as unsupervised classification\\n        ', '\\n          Wordclouds, stopwords, and control arguments\\n        ', '\\n          How many topics is enough?\\n        ', '\\n          Quick introduction to the workflow\\n        ', '\\n          Wordclouds, stopwords, and control arguments\\n        ', '\\n          Named entity recognition as unsupervised classification\\n        ', '\\n          How many topics is enough?\\n        ']\n",
      "['Introduction and preparing your data', 'Fraud detection using unlabelled data', 'Fraud detection using labelled data', 'Fraud detection using text', 'Introduction and preparing your data', 'Fraud detection using labelled data', 'Fraud detection using unlabelled data', 'Fraud detection using text']\n",
      "['\\n          Introduction and preparing your data\\n        ', '\\n          Fraud detection using unlabelled data\\n        ', '\\n          Fraud detection using labelled data\\n        ', '\\n          Fraud detection using text\\n        ', '\\n          Introduction and preparing your data\\n        ', '\\n          Fraud detection using labelled data\\n        ', '\\n          Fraud detection using unlabelled data\\n        ', '\\n          Fraud detection using text\\n        ']\n"
     ]
    },
    {
     "name": "stderr",
     "output_type": "stream",
     "text": [
      "2020-07-23 19:43:09 [scrapy.core.engine] DEBUG: Crawled (200) <GET https://www.datacamp.com/courses/data-visualization-in-spreadsheets> (referer: https://www.datacamp.com/courses/all)\n",
      "2020-07-23 19:43:09 [scrapy.core.engine] DEBUG: Crawled (200) <GET https://www.datacamp.com/courses/working-with-the-class-system-in-python> (referer: https://www.datacamp.com/courses/all)\n",
      "2020-07-23 19:43:09 [scrapy.core.engine] DEBUG: Crawled (200) <GET https://www.datacamp.com/courses/defensive-r-programming> (referer: https://www.datacamp.com/courses/all)\n",
      "2020-07-23 19:43:09 [scrapy.core.engine] DEBUG: Crawled (200) <GET https://www.datacamp.com/courses/customer-segmentation-in-python> (referer: https://www.datacamp.com/courses/all)\n"
     ]
    },
    {
     "name": "stdout",
     "output_type": "stream",
     "text": [
      "['Business Intelligence and Using Dashboards', 'Dashboard Controls', 'Conditional Formatting', 'Efficient Column Charts', 'Other Charts for Your Dashboard', 'Business Intelligence and Using Dashboards', 'Efficient Column Charts', 'Dashboard Controls', 'Other Charts for Your Dashboard', 'Conditional Formatting']\n",
      "['\\n          Business Intelligence and Using Dashboards\\n        ', '\\n          Dashboard Controls\\n        ', '\\n          Conditional Formatting\\n        ', '\\n          Efficient Column Charts\\n        ', '\\n          Other Charts for Your Dashboard\\n        ', '\\n          Business Intelligence and Using Dashboards\\n        ', '\\n          Efficient Column Charts\\n        ', '\\n          Dashboard Controls\\n        ', '\\n          Other Charts for Your Dashboard\\n        ', '\\n          Conditional Formatting\\n        ']\n",
      "['Getting ready for object-oriented programming', 'Fancy classes, fancy objects', 'Deep dive into classes and objects', 'Inheritance, polymorphism and composition', 'Getting ready for object-oriented programming', 'Deep dive into classes and objects', 'Fancy classes, fancy objects', 'Inheritance, polymorphism and composition']\n",
      "['\\n          Getting ready for object-oriented programming\\n        ', '\\n          Fancy classes, fancy objects\\n        ', '\\n          Deep dive into classes and objects\\n        ', '\\n          Inheritance, polymorphism and composition\\n        ', '\\n          Getting ready for object-oriented programming\\n        ', '\\n          Deep dive into classes and objects\\n        ', '\\n          Fancy classes, fancy objects\\n        ', '\\n          Inheritance, polymorphism and composition\\n        ']\n",
      "['Avoiding Conflict', 'Preparing your defenses', 'Early warning systems', 'Creating a Battle Plan', 'Avoiding Conflict', 'Early warning systems', 'Preparing your defenses', 'Creating a Battle Plan']\n",
      "['\\n          Avoiding Conflict\\n        ', '\\n          Preparing your defenses\\n        ', '\\n          Early warning systems\\n        ', '\\n          Creating a Battle Plan\\n        ', '\\n          Avoiding Conflict\\n        ', '\\n          Early warning systems\\n        ', '\\n          Preparing your defenses\\n        ', '\\n          Creating a Battle Plan\\n        ']\n",
      "['Cohort Analysis', 'Data pre-processing for clustering', 'Recency, Frequency, Monetary Value analysis', 'Customer Segmentation with K-means', 'Cohort Analysis', 'Recency, Frequency, Monetary Value analysis', 'Data pre-processing for clustering', 'Customer Segmentation with K-means']\n",
      "['\\n          Cohort Analysis\\n        ', '\\n          Data pre-processing for clustering\\n        ', '\\n          Recency, Frequency, Monetary Value analysis\\n        ', '\\n          Customer Segmentation with K-means \\n        ', '\\n          Cohort Analysis\\n        ', '\\n          Recency, Frequency, Monetary Value analysis\\n        ', '\\n          Data pre-processing for clustering\\n        ', '\\n          Customer Segmentation with K-means \\n        ']\n"
     ]
    },
    {
     "name": "stderr",
     "output_type": "stream",
     "text": [
      "2020-07-23 19:43:10 [scrapy.core.engine] DEBUG: Crawled (200) <GET https://www.datacamp.com/courses/course-creation-at-datacamp> (referer: https://www.datacamp.com/courses/all)\n"
     ]
    },
    {
     "name": "stdout",
     "output_type": "stream",
     "text": [
      "['Our Process', 'What Makes a Great Course?', 'Course Launch and Beyond!', 'Tools We Use', 'Start Developing!', 'Our Process', 'Tools We Use', 'What Makes a Great Course?', 'Start Developing!', 'Course Launch and Beyond!']\n",
      "['\\n          Our Process\\n        ', '\\n          What Makes a Great Course?\\n        ', '\\n          Course Launch and Beyond!\\n        ', '\\n          Tools We Use\\n        ', '\\n          Start Developing!\\n        ', '\\n          Our Process\\n        ', '\\n          Tools We Use\\n        ', '\\n          What Makes a Great Course?\\n        ', '\\n          Start Developing!\\n        ', '\\n          Course Launch and Beyond!\\n        ']\n"
     ]
    },
    {
     "name": "stderr",
     "output_type": "stream",
     "text": [
      "2020-07-23 19:43:10 [scrapy.core.engine] DEBUG: Crawled (200) <GET https://www.datacamp.com/courses/introduction-to-spreadsheets> (referer: https://www.datacamp.com/courses/all)\n"
     ]
    },
    {
     "name": "stdout",
     "output_type": "stream",
     "text": [
      "['Getting started', 'References', 'Getting started', 'References']\n",
      "['\\n          Getting started\\n        ', '\\n          References\\n        ', '\\n          Getting started\\n        ', '\\n          References\\n        ']\n"
     ]
    },
    {
     "name": "stderr",
     "output_type": "stream",
     "text": [
      "2020-07-23 19:43:11 [scrapy.core.engine] DEBUG: Crawled (200) <GET https://www.datacamp.com/courses/fraud-detection-in-r> (referer: https://www.datacamp.com/courses/all)\n",
      "2020-07-23 19:43:11 [scrapy.core.engine] DEBUG: Crawled (200) <GET https://www.datacamp.com/courses/intermediate-predictive-analytics-in-python> (referer: https://www.datacamp.com/courses/all)\n"
     ]
    },
    {
     "name": "stdout",
     "output_type": "stream",
     "text": [
      "['Introduction & Motivation', 'Imbalanced class distributions', 'Social network analytics', 'Digit analysis and robust statistics', 'Introduction & Motivation', 'Social network analytics', 'Imbalanced class distributions', 'Digit analysis and robust statistics']\n",
      "['\\n          Introduction & Motivation\\n        ', '\\n          Imbalanced class distributions\\n        ', '\\n          Social network analytics\\n        ', '\\n          Digit analysis and robust statistics\\n        ', '\\n          Introduction & Motivation\\n        ', '\\n          Social network analytics\\n        ', '\\n          Imbalanced class distributions\\n        ', '\\n          Digit analysis and robust statistics\\n        ']\n",
      "['Crucial base table concepts', 'Data preparation', 'Creating variables', 'Advanced base table concepts', 'Crucial base table concepts', 'Creating variables', 'Data preparation', 'Advanced base table concepts']\n",
      "['\\n          Crucial base table concepts\\n        ', '\\n          Data preparation\\n        ', '\\n          Creating variables\\n        ', '\\n          Advanced base table concepts\\n        ', '\\n          Crucial base table concepts\\n        ', '\\n          Creating variables\\n        ', '\\n          Data preparation\\n        ', '\\n          Advanced base table concepts\\n        ']\n"
     ]
    },
    {
     "name": "stderr",
     "output_type": "stream",
     "text": [
      "2020-07-23 19:43:11 [scrapy.core.engine] DEBUG: Crawled (200) <GET https://www.datacamp.com/courses/data-analysis-in-spreadsheets> (referer: https://www.datacamp.com/courses/all)\n"
     ]
    },
    {
     "name": "stdout",
     "output_type": "stream",
     "text": [
      "['Predefined functions', 'Conditional functions and lookups', 'Predefined functions', 'Conditional functions and lookups']\n",
      "['\\n          Predefined functions\\n        ', '\\n          Conditional functions and lookups\\n        ', '\\n          Predefined functions\\n        ', '\\n          Conditional functions and lookups\\n        ']\n"
     ]
    },
    {
     "name": "stderr",
     "output_type": "stream",
     "text": [
      "2020-07-23 19:43:13 [scrapy.core.engine] DEBUG: Crawled (200) <GET https://www.datacamp.com/courses/advanced-nlp-with-spacy> (referer: https://www.datacamp.com/courses/all)\n"
     ]
    },
    {
     "name": "stdout",
     "output_type": "stream",
     "text": [
      "['Finding words, phrases, names and concepts', 'Processing Pipelines', 'Large-scale data analysis with spaCy', 'Training a neural network model', 'Finding words, phrases, names and concepts', 'Large-scale data analysis with spaCy', 'Processing Pipelines', 'Training a neural network model']\n",
      "['\\n          Finding words, phrases, names and concepts\\n        ', '\\n          Processing Pipelines\\n        ', '\\n          Large-scale data analysis with spaCy\\n        ', '\\n          Training a neural network model\\n        ', '\\n          Finding words, phrases, names and concepts\\n        ', '\\n          Large-scale data analysis with spaCy\\n        ', '\\n          Processing Pipelines\\n        ', '\\n          Training a neural network model\\n        ']\n"
     ]
    },
    {
     "name": "stderr",
     "output_type": "stream",
     "text": [
      "2020-07-23 19:43:13 [scrapy.core.engine] DEBUG: Crawled (200) <GET https://www.datacamp.com/courses/analyzing-social-media-data-in-python> (referer: https://www.datacamp.com/courses/all)\n"
     ]
    },
    {
     "name": "stdout",
     "output_type": "stream",
     "text": [
      "['Basics of Analyzing Twitter Data', 'Twitter Networks', 'Processing Twitter text', 'Putting Twitter data on the map', 'Basics of Analyzing Twitter Data', 'Processing Twitter text', 'Twitter Networks', 'Putting Twitter data on the map']\n",
      "['\\n          Basics of Analyzing Twitter Data\\n        ', '\\n          Twitter Networks\\n        ', '\\n          Processing Twitter text\\n        ', '\\n          Putting Twitter data on the map\\n        ', '\\n          Basics of Analyzing Twitter Data\\n        ', '\\n          Processing Twitter text\\n        ', '\\n          Twitter Networks\\n        ', '\\n          Putting Twitter data on the map\\n        ']\n"
     ]
    },
    {
     "name": "stderr",
     "output_type": "stream",
     "text": [
      "2020-07-23 19:43:14 [scrapy.core.engine] DEBUG: Crawled (200) <GET https://www.datacamp.com/courses/supply-chain-analytics-in-python> (referer: https://www.datacamp.com/courses/all)\n"
     ]
    },
    {
     "name": "stdout",
     "output_type": "stream",
     "text": [
      "['Basics of supply chain optimization and PuLP', 'Solve and evaluate model', 'Modeling in PuLP', 'Sensitivity and simulation testing of model', 'Basics of supply chain optimization and PuLP', 'Modeling in PuLP', 'Solve and evaluate model', 'Sensitivity and simulation testing of model']\n",
      "['\\n          Basics of supply chain optimization and PuLP\\n        ', '\\n          Solve and evaluate model\\n        ', '\\n          Modeling in PuLP\\n        ', '\\n           Sensitivity and simulation testing of model\\n        ', '\\n          Basics of supply chain optimization and PuLP\\n        ', '\\n          Modeling in PuLP\\n        ', '\\n          Solve and evaluate model\\n        ', '\\n           Sensitivity and simulation testing of model\\n        ']\n"
     ]
    },
    {
     "name": "stderr",
     "output_type": "stream",
     "text": [
      "2020-07-23 19:43:14 [scrapy.core.engine] DEBUG: Crawled (200) <GET https://www.datacamp.com/courses/image-processing-with-keras-in-python> (referer: https://www.datacamp.com/courses/all)\n",
      "2020-07-23 19:43:14 [scrapy.core.engine] DEBUG: Crawled (200) <GET https://www.datacamp.com/courses/writing-functions-and-stored-procedures-in-sql-server> (referer: https://www.datacamp.com/courses/all)\n",
      "2020-07-23 19:43:14 [scrapy.core.engine] DEBUG: Crawled (200) <GET https://www.datacamp.com/courses/generalized-linear-models-in-r> (referer: https://www.datacamp.com/courses/all)\n"
     ]
    },
    {
     "name": "stdout",
     "output_type": "stream",
     "text": [
      "['Image Processing With Neural Networks', 'Going Deeper', 'Using Convolutions', 'Understanding and Improving Deep Convolutional Networks', 'Image Processing With Neural Networks', 'Using Convolutions', 'Going Deeper', 'Understanding and Improving Deep Convolutional Networks']\n",
      "['\\n          Image Processing With Neural Networks\\n        ', '\\n          Going Deeper\\n        ', '\\n          Using Convolutions\\n        ', '\\n          Understanding and Improving Deep Convolutional Networks\\n        ', '\\n          Image Processing With Neural Networks\\n        ', '\\n          Using Convolutions\\n        ', '\\n          Going Deeper\\n        ', '\\n          Understanding and Improving Deep Convolutional Networks\\n        ']\n",
      "['Temporal EDA, Variables & Date Manipulation', 'Stored Procedures', 'User Defined Functions', 'NYC Taxi Ride Case Study', 'Temporal EDA, Variables & Date Manipulation', 'User Defined Functions', 'Stored Procedures', 'NYC Taxi Ride Case Study']\n",
      "['\\n          Temporal EDA, Variables & Date Manipulation\\n        ', '\\n          Stored Procedures\\n        ', '\\n          User Defined Functions\\n        ', '\\n          NYC Taxi Ride Case Study\\n        ', '\\n          Temporal EDA, Variables & Date Manipulation\\n        ', '\\n          User Defined Functions\\n        ', '\\n          Stored Procedures\\n        ', '\\n          NYC Taxi Ride Case Study\\n        ']\n",
      "['GLMs, an extension of your regression toolbox', 'Interpreting and visualizing GLMs', 'Logistic Regression', 'Multiple regression with GLMs', 'GLMs, an extension of your regression toolbox', 'Logistic Regression', 'Interpreting and visualizing GLMs', 'Multiple regression with GLMs']\n",
      "['\\n          GLMs, an extension of your regression toolbox\\n        ', '\\n          Interpreting and visualizing GLMs \\n        ', '\\n          Logistic Regression\\n        ', '\\n          Multiple regression with GLMs\\n        ', '\\n          GLMs, an extension of your regression toolbox\\n        ', '\\n          Logistic Regression\\n        ', '\\n          Interpreting and visualizing GLMs \\n        ', '\\n          Multiple regression with GLMs\\n        ']\n"
     ]
    },
    {
     "name": "stderr",
     "output_type": "stream",
     "text": [
      "2020-07-23 19:43:15 [scrapy.core.engine] DEBUG: Crawled (200) <GET https://www.datacamp.com/courses/intermediate-spreadsheets> (referer: https://www.datacamp.com/courses/all)\n"
     ]
    },
    {
     "name": "stdout",
     "output_type": "stream",
     "text": [
      "[\"What's in a cell?\", 'Logic  & Errors', 'Working with numbers', 'Positional Matching', \"What's in a cell?\", 'Working with numbers', 'Logic  & Errors', 'Positional Matching']\n",
      "[\"\\n          What's in a cell?\\n        \", '\\n          Logic  & Errors\\n        ', '\\n          Working with numbers\\n        ', '\\n          Positional Matching\\n        ', \"\\n          What's in a cell?\\n        \", '\\n          Working with numbers\\n        ', '\\n          Logic  & Errors\\n        ', '\\n          Positional Matching\\n        ']\n"
     ]
    },
    {
     "name": "stderr",
     "output_type": "stream",
     "text": [
      "2020-07-23 19:43:16 [scrapy.core.engine] DEBUG: Crawled (200) <GET https://www.datacamp.com/courses/garch-models-in-r> (referer: https://www.datacamp.com/courses/all)\n"
     ]
    },
    {
     "name": "stdout",
     "output_type": "stream",
     "text": [
      "['The standard GARCH model as the workhorse model', 'Performance evaluation', 'Improvements of the normal GARCH model', 'Applications', 'The standard GARCH model as the workhorse model', 'Improvements of the normal GARCH model', 'Performance evaluation', 'Applications']\n",
      "['\\n          The standard GARCH model as the workhorse model\\n        ', '\\n          Performance evaluation\\n        ', '\\n          Improvements of the normal GARCH model\\n        ', '\\n          Applications\\n        ', '\\n          The standard GARCH model as the workhorse model\\n        ', '\\n          Improvements of the normal GARCH model\\n        ', '\\n          Performance evaluation\\n        ', '\\n          Applications\\n        ']\n"
     ]
    },
    {
     "name": "stderr",
     "output_type": "stream",
     "text": [
      "2020-07-23 19:43:16 [scrapy.core.engine] DEBUG: Crawled (200) <GET https://www.datacamp.com/courses/single-cell-rna-seq-with-bioconductor-in-r> (referer: https://www.datacamp.com/courses/all)\n",
      "2020-07-23 19:43:16 [scrapy.core.engine] DEBUG: Crawled (200) <GET https://www.datacamp.com/courses/linear-algebra-for-data-science-in-r> (referer: https://www.datacamp.com/courses/all)\n"
     ]
    },
    {
     "name": "stdout",
     "output_type": "stream",
     "text": [
      "['What is Single-Cell RNA-Seq?', 'Visualization and Dimensionality Reduction', 'Quality Control and Normalization', 'Cell Clustering and Differential expression analysis', 'What is Single-Cell RNA-Seq?', 'Quality Control and Normalization', 'Visualization and Dimensionality Reduction', 'Cell Clustering and Differential expression analysis']\n",
      "['\\n          What is Single-Cell RNA-Seq?\\n        ', '\\n          Visualization and Dimensionality Reduction\\n        ', '\\n          Quality Control and Normalization\\n        ', '\\n          Cell Clustering and Differential expression analysis\\n        ', '\\n          What is Single-Cell RNA-Seq?\\n        ', '\\n          Quality Control and Normalization\\n        ', '\\n          Visualization and Dimensionality Reduction\\n        ', '\\n          Cell Clustering and Differential expression analysis\\n        ']\n",
      "['Introduction to Linear Algebra', 'Eigenvalues and Eigenvectors', 'Matrix-Vector Equations', 'Principal Component Analysis', 'Introduction to Linear Algebra', 'Matrix-Vector Equations', 'Eigenvalues and Eigenvectors', 'Principal Component Analysis']\n",
      "['\\n          Introduction to Linear Algebra\\n        ', '\\n          Eigenvalues and Eigenvectors\\n        ', '\\n          Matrix-Vector Equations\\n        ', '\\n          Principal Component Analysis\\n        ', '\\n          Introduction to Linear Algebra\\n        ', '\\n          Matrix-Vector Equations\\n        ', '\\n          Eigenvalues and Eigenvectors\\n        ', '\\n          Principal Component Analysis\\n        ']\n"
     ]
    },
    {
     "name": "stderr",
     "output_type": "stream",
     "text": [
      "2020-07-23 19:43:17 [scrapy.core.engine] DEBUG: Crawled (200) <GET https://www.datacamp.com/courses/pivot-tables-in-spreadsheets> (referer: https://www.datacamp.com/courses/all)\n"
     ]
    },
    {
     "name": "stdout",
     "output_type": "stream",
     "text": [
      "['Introduction to Pivot Tables for Google Sheets', 'Advanced Options', 'Behind the Scenes of the Pivot Table', 'Editing Data and Troubleshooting', 'Introduction to Pivot Tables for Google Sheets', 'Behind the Scenes of the Pivot Table', 'Advanced Options', 'Editing Data and Troubleshooting']\n",
      "['\\n          Introduction to Pivot Tables for Google Sheets\\n        ', '\\n          Advanced Options\\n        ', '\\n          Behind the Scenes of the Pivot Table\\n        ', '\\n           Editing Data and Troubleshooting\\n        ', '\\n          Introduction to Pivot Tables for Google Sheets\\n        ', '\\n          Behind the Scenes of the Pivot Table\\n        ', '\\n          Advanced Options\\n        ', '\\n           Editing Data and Troubleshooting\\n        ']\n"
     ]
    },
    {
     "name": "stderr",
     "output_type": "stream",
     "text": [
      "2020-07-23 19:43:17 [scrapy.core.engine] DEBUG: Crawled (200) <GET https://www.datacamp.com/courses/web-scraping-with-python> (referer: https://www.datacamp.com/courses/all)\n",
      "2020-07-23 19:43:17 [scrapy.core.engine] DEBUG: Crawled (200) <GET https://www.datacamp.com/courses/designing-and-analyzing-clinical-trials-in-r> (referer: https://www.datacamp.com/courses/all)\n"
     ]
    },
    {
     "name": "stdout",
     "output_type": "stream",
     "text": [
      "['Introduction to HTML', 'CSS Locators, Chaining, and Responses', 'XPaths and Selectors', 'Spiders', 'Introduction to HTML', 'XPaths and Selectors', 'CSS Locators, Chaining, and Responses', 'Spiders']\n",
      "['\\n          Introduction to HTML\\n        ', '\\n          CSS Locators, Chaining, and Responses\\n        ', '\\n          XPaths and Selectors\\n        ', '\\n          Spiders\\n        ', '\\n          Introduction to HTML\\n        ', '\\n          XPaths and Selectors\\n        ', '\\n          CSS Locators, Chaining, and Responses\\n        ', '\\n          Spiders\\n        ']\n",
      "['Principles', 'Sample Size and Power', 'Trial Designs', 'Statistical Analysis', 'Principles', 'Trial Designs', 'Sample Size and Power', 'Statistical Analysis']\n",
      "['\\n          Principles\\n        ', '\\n          Sample Size and Power\\n        ', '\\n          Trial Designs\\n        ', '\\n          Statistical Analysis\\n        ', '\\n          Principles\\n        ', '\\n          Trial Designs\\n        ', '\\n          Sample Size and Power\\n        ', '\\n          Statistical Analysis\\n        ']\n"
     ]
    },
    {
     "name": "stderr",
     "output_type": "stream",
     "text": [
      "2020-07-23 19:43:19 [scrapy.core.engine] DEBUG: Crawled (200) <GET https://www.datacamp.com/courses/interactive-data-visualization-with-rbokeh> (referer: https://www.datacamp.com/courses/all)\n",
      "2020-07-23 19:43:19 [scrapy.core.engine] DEBUG: Crawled (200) <GET https://www.datacamp.com/courses/intermediate-t-sql> (referer: https://www.datacamp.com/courses/all)\n"
     ]
    },
    {
     "name": "stdout",
     "output_type": "stream",
     "text": [
      "['rbokeh Introduction', 'Data Manipulation for Visualization and More rbokeh Layers', 'rbokeh Aesthetic Attributes and Figure Options', 'Grid Plots and Maps', 'rbokeh Introduction', 'rbokeh Aesthetic Attributes and Figure Options', 'Data Manipulation for Visualization and More rbokeh Layers', 'Grid Plots and Maps']\n",
      "['\\n          rbokeh Introduction\\n        ', '\\n          Data Manipulation for Visualization and More rbokeh Layers\\n        ', '\\n          rbokeh Aesthetic Attributes and Figure Options\\n        ', '\\n          Grid Plots and Maps\\n        ', '\\n          rbokeh Introduction\\n        ', '\\n          rbokeh Aesthetic Attributes and Figure Options\\n        ', '\\n          Data Manipulation for Visualization and More rbokeh Layers\\n        ', '\\n          Grid Plots and Maps\\n        ']\n",
      "['Summarizing Data', 'Processing Data in SQL Server', 'Math Functions', 'Window Functions', 'Summarizing Data', 'Math Functions', 'Processing Data in SQL Server', 'Window Functions']\n",
      "['\\n          Summarizing Data\\n        ', '\\n          Processing Data in SQL Server\\n        ', '\\n          Math Functions\\n        ', '\\n          Window Functions\\n        ', '\\n          Summarizing Data\\n        ', '\\n          Math Functions\\n        ', '\\n          Processing Data in SQL Server\\n        ', '\\n          Window Functions\\n        ']\n"
     ]
    },
    {
     "name": "stderr",
     "output_type": "stream",
     "text": [
      "2020-07-23 19:43:20 [scrapy.core.engine] DEBUG: Crawled (200) <GET https://www.datacamp.com/courses/financial-analytics-in-r> (referer: https://www.datacamp.com/courses/all)\n"
     ]
    },
    {
     "name": "stdout",
     "output_type": "stream",
     "text": [
      "['Cash is King (Intro to Valuations)', 'Prioritizing Profitability (Financial Metrics)', 'Time is Money (Key Financial Concepts)', 'Understanding Outcomes', 'Cash is King (Intro to Valuations)', 'Time is Money (Key Financial Concepts)', 'Prioritizing Profitability (Financial Metrics)', 'Understanding Outcomes']\n",
      "['\\n          Cash is King (Intro to Valuations)\\n        ', '\\n          Prioritizing Profitability (Financial Metrics)\\n        ', '\\n          Time is Money (Key Financial Concepts)\\n        ', '\\n          Understanding Outcomes\\n        ', '\\n          Cash is King (Intro to Valuations)\\n        ', '\\n          Time is Money (Key Financial Concepts)\\n        ', '\\n          Prioritizing Profitability (Financial Metrics)\\n        ', '\\n          Understanding Outcomes\\n        ']\n"
     ]
    },
    {
     "name": "stderr",
     "output_type": "stream",
     "text": [
      "2020-07-23 19:43:21 [scrapy.core.engine] DEBUG: Crawled (200) <GET https://www.datacamp.com/courses/working-with-geospatial-data-in-python> (referer: https://www.datacamp.com/courses/all)\n"
     ]
    },
    {
     "name": "stdout",
     "output_type": "stream",
     "text": [
      "['Introduction to geospatial vector data', 'Projecting and transforming geometries', 'Spatial relationships', 'Putting it all together - Artisanal mining sites case study', 'Introduction to geospatial vector data', 'Spatial relationships', 'Projecting and transforming geometries', 'Putting it all together - Artisanal mining sites case study']\n",
      "['\\n          Introduction to geospatial vector data\\n        ', '\\n          Projecting and transforming geometries\\n        ', '\\n          Spatial relationships\\n        ', '\\n          Putting it all together - Artisanal mining sites case study\\n        ', '\\n          Introduction to geospatial vector data\\n        ', '\\n          Spatial relationships\\n        ', '\\n          Projecting and transforming geometries\\n        ', '\\n          Putting it all together - Artisanal mining sites case study\\n        ']\n"
     ]
    },
    {
     "name": "stderr",
     "output_type": "stream",
     "text": [
      "2020-07-23 19:43:22 [scrapy.core.engine] DEBUG: Crawled (200) <GET https://www.datacamp.com/courses/biomedical-image-analysis-in-python> (referer: https://www.datacamp.com/courses/all)\n"
     ]
    },
    {
     "name": "stdout",
     "output_type": "stream",
     "text": [
      "['Exploration', 'Measurement', 'Masks and Filters', 'Image Comparison', 'Exploration', 'Masks and Filters', 'Measurement', 'Image Comparison']\n",
      "['\\n          Exploration\\n        ', '\\n          Measurement\\n        ', '\\n          Masks and Filters\\n        ', '\\n          Image Comparison\\n        ', '\\n          Exploration\\n        ', '\\n          Masks and Filters\\n        ', '\\n          Measurement\\n        ', '\\n          Image Comparison\\n        ']\n"
     ]
    },
    {
     "name": "stderr",
     "output_type": "stream",
     "text": [
      "2020-07-23 19:43:23 [scrapy.core.engine] DEBUG: Crawled (200) <GET https://www.datacamp.com/courses/predictive-analytics-using-networked-data-in-r> (referer: https://www.datacamp.com/courses/all)\n",
      "2020-07-23 19:43:23 [scrapy.core.engine] DEBUG: Crawled (200) <GET https://www.datacamp.com/courses/machine-learning-in-the-tidyverse> (referer: https://www.datacamp.com/courses/all)\n"
     ]
    },
    {
     "name": "stdout",
     "output_type": "stream",
     "text": [
      "['Introduction, networks and labelled networks', 'Network Featurization', 'Homophily', 'Putting it all together', 'Introduction, networks and labelled networks', 'Homophily', 'Network Featurization', 'Putting it all together']\n",
      "['\\n          Introduction, networks and labelled networks\\n        ', '\\n          Network Featurization\\n        ', '\\n          Homophily\\n        ', '\\n          Putting it all together\\n        ', '\\n          Introduction, networks and labelled networks\\n        ', '\\n          Homophily\\n        ', '\\n          Network Featurization\\n        ', '\\n          Putting it all together\\n        ']\n",
      "['Foundations of \"tidy\" Machine learning', 'Build, Tune & Evaluate Regression Models', 'Multiple Models with broom', 'Build, Tune & Evaluate Classification Models', 'Foundations of \"tidy\" Machine learning', 'Multiple Models with broom', 'Build, Tune & Evaluate Regression Models', 'Build, Tune & Evaluate Classification Models']\n",
      "['\\n          Foundations of \"tidy\" Machine learning\\n        ', '\\n          Build, Tune & Evaluate Regression Models\\n        ', '\\n          Multiple Models with broom\\n        ', '\\n          Build, Tune & Evaluate Classification Models\\n        ', '\\n          Foundations of \"tidy\" Machine learning\\n        ', '\\n          Multiple Models with broom\\n        ', '\\n          Build, Tune & Evaluate Regression Models\\n        ', '\\n          Build, Tune & Evaluate Classification Models\\n        ']\n"
     ]
    },
    {
     "name": "stderr",
     "output_type": "stream",
     "text": [
      "2020-07-23 19:43:23 [scrapy.core.engine] DEBUG: Crawled (200) <GET https://www.datacamp.com/courses/visualizing-geospatial-data-in-python> (referer: https://www.datacamp.com/courses/all)\n"
     ]
    },
    {
     "name": "stdout",
     "output_type": "stream",
     "text": [
      "['Building 2-layer maps : combining polygons and scatterplots', 'GeoSeries and  folium', 'Creating and joining GeoDataFrames', 'Creating a choropleth building permit density in Nashville', 'Building 2-layer maps : combining polygons and scatterplots', 'Creating and joining GeoDataFrames', 'GeoSeries and  folium', 'Creating a choropleth building permit density in Nashville']\n",
      "['\\n          Building 2-layer maps : combining polygons and scatterplots\\n        ', '\\n          GeoSeries and  folium\\n        ', '\\n          Creating and joining GeoDataFrames\\n        ', '\\n          Creating a choropleth building permit density in Nashville\\n        ', '\\n          Building 2-layer maps : combining polygons and scatterplots\\n        ', '\\n          Creating and joining GeoDataFrames\\n        ', '\\n          GeoSeries and  folium\\n        ', '\\n          Creating a choropleth building permit density in Nashville\\n        ']\n"
     ]
    },
    {
     "name": "stderr",
     "output_type": "stream",
     "text": [
      "2020-07-23 19:43:24 [scrapy.core.engine] DEBUG: Crawled (200) <GET https://www.datacamp.com/courses/python-for-matlab-users> (referer: https://www.datacamp.com/courses/all)\n",
      "2020-07-23 19:43:24 [scrapy.core.engine] DEBUG: Crawled (200) <GET https://www.datacamp.com/courses/recommendation-engines-in-pyspark> (referer: https://www.datacamp.com/courses/all)\n",
      "2020-07-23 19:43:24 [scrapy.core.engine] DEBUG: Crawled (200) <GET https://www.datacamp.com/courses/intermediate-interactive-data-visualization-with-plotly-in-r> (referer: https://www.datacamp.com/courses/all)\n",
      "2020-07-23 19:43:24 [scrapy.core.engine] DEBUG: Crawled (200) <GET https://www.datacamp.com/courses/survival-analysis-in-r> (referer: https://www.datacamp.com/courses/all)\n"
     ]
    },
    {
     "name": "stdout",
     "output_type": "stream",
     "text": [
      "['From MATLAB to Python', 'Dictionaries and pandas', 'NumPy and Matplotlib', 'Control Flow and Loops', 'From MATLAB to Python', 'NumPy and Matplotlib', 'Dictionaries and pandas', 'Control Flow and Loops']\n",
      "['\\n          From MATLAB to Python\\n        ', '\\n          Dictionaries and pandas\\n        ', '\\n          NumPy and Matplotlib\\n        ', '\\n          Control Flow and Loops\\n        ', '\\n          From MATLAB to Python\\n        ', '\\n          NumPy and Matplotlib\\n        ', '\\n          Dictionaries and pandas\\n        ', '\\n          Control Flow and Loops\\n        ']\n",
      "['Recommendations Are Everywhere', 'Recommending Movies', 'How does ALS work?', \"What if you don't have customer ratings?\", 'Recommendations Are Everywhere', 'How does ALS work?', 'Recommending Movies', \"What if you don't have customer ratings?\"]\n",
      "['\\n          Recommendations Are Everywhere\\n        ', '\\n          Recommending Movies\\n        ', '\\n          How does ALS work?\\n        ', \"\\n          What if you don't have customer ratings?\\n        \", '\\n          Recommendations Are Everywhere\\n        ', '\\n          How does ALS work?\\n        ', '\\n          Recommending Movies\\n        ', \"\\n          What if you don't have customer ratings?\\n        \"]\n",
      "['Introduction and review of plotly', 'Linking graphics', 'Animating graphics', 'Case Study: Space launches', 'Introduction and review of plotly', 'Animating graphics', 'Linking graphics', 'Case Study: Space launches']\n",
      "['\\n          Introduction and review of plotly\\n        ', '\\n          Linking graphics\\n        ', '\\n          Animating graphics\\n        ', '\\n          Case Study: Space launches\\n        ', '\\n          Introduction and review of plotly\\n        ', '\\n          Animating graphics\\n        ', '\\n          Linking graphics\\n        ', '\\n          Case Study: Space launches\\n        ']\n",
      "['What is Survival Analysis?', 'The Weibull model', 'Estimation of survival curves', 'The Cox Model', 'What is Survival Analysis?', 'Estimation of survival curves', 'The Weibull model', 'The Cox Model']\n",
      "['\\n          What is Survival Analysis?\\n        ', '\\n          The Weibull model\\n        ', '\\n          Estimation of survival curves\\n        ', '\\n          The Cox Model\\n        ', '\\n          What is Survival Analysis?\\n        ', '\\n          Estimation of survival curves\\n        ', '\\n          The Weibull model\\n        ', '\\n          The Cox Model\\n        ']\n"
     ]
    },
    {
     "name": "stderr",
     "output_type": "stream",
     "text": [
      "2020-07-23 19:43:25 [scrapy.core.engine] DEBUG: Crawled (200) <GET https://www.datacamp.com/courses/dealing-with-missing-data-in-r> (referer: https://www.datacamp.com/courses/all)\n"
     ]
    },
    {
     "name": "stdout",
     "output_type": "stream",
     "text": [
      "['Why care about missing data?', 'Testing missing relationships', 'Wrangling and tidying up missing values', 'Connecting the dots (Imputation)', 'Why care about missing data?', 'Wrangling and tidying up missing values', 'Testing missing relationships', 'Connecting the dots (Imputation)']\n",
      "['\\n          Why care about missing data?\\n        ', '\\n          Testing missing relationships\\n        ', '\\n          Wrangling and tidying up missing values\\n        ', '\\n          Connecting the dots (Imputation)\\n        ', '\\n          Why care about missing data?\\n        ', '\\n          Wrangling and tidying up missing values\\n        ', '\\n          Testing missing relationships\\n        ', '\\n          Connecting the dots (Imputation)\\n        ']\n"
     ]
    },
    {
     "name": "stderr",
     "output_type": "stream",
     "text": [
      "2020-07-23 19:43:25 [scrapy.core.engine] DEBUG: Crawled (200) <GET https://www.datacamp.com/courses/anomaly-detection-in-r> (referer: https://www.datacamp.com/courses/all)\n"
     ]
    },
    {
     "name": "stdout",
     "output_type": "stream",
     "text": [
      "['Statistical outlier detection', 'Isolation forest', 'Distance and density based anomaly detection', 'Comparing performance', 'Statistical outlier detection', 'Distance and density based anomaly detection', 'Isolation forest', 'Comparing performance']\n",
      "['\\n          Statistical outlier detection\\n        ', '\\n          Isolation forest\\n        ', '\\n          Distance and density based anomaly detection\\n        ', '\\n          Comparing performance\\n        ', '\\n          Statistical outlier detection\\n        ', '\\n          Distance and density based anomaly detection\\n        ', '\\n          Isolation forest\\n        ', '\\n          Comparing performance\\n        ']\n"
     ]
    },
    {
     "name": "stderr",
     "output_type": "stream",
     "text": [
      "2020-07-23 19:43:26 [scrapy.core.engine] DEBUG: Crawled (200) <GET https://www.datacamp.com/courses/intermediate-data-visualization-with-seaborn> (referer: https://www.datacamp.com/courses/all)\n",
      "2020-07-23 19:43:26 [scrapy.core.engine] DEBUG: Crawled (200) <GET https://www.datacamp.com/courses/statistical-simulation-in-python> (referer: https://www.datacamp.com/courses/all)\n"
     ]
    },
    {
     "name": "stdout",
     "output_type": "stream",
     "text": [
      "['Seaborn Introduction', 'Additional Plot Types', 'Customizing Seaborn Plots', 'Creating Plots on Data Aware Grids', 'Seaborn Introduction', 'Customizing Seaborn Plots', 'Additional Plot Types', 'Creating Plots on Data Aware Grids']\n",
      "['\\n          Seaborn Introduction\\n        ', '\\n          Additional Plot Types\\n        ', '\\n          Customizing Seaborn Plots\\n        ', '\\n          Creating Plots on Data Aware Grids\\n        ', '\\n          Seaborn Introduction\\n        ', '\\n          Customizing Seaborn Plots\\n        ', '\\n          Additional Plot Types\\n        ', '\\n          Creating Plots on Data Aware Grids\\n        ']\n",
      "['Basics of randomness & simulation', 'Resampling methods', 'Probability & data generation process', 'Advanced Applications of Simulation', 'Basics of randomness & simulation', 'Probability & data generation process', 'Resampling methods', 'Advanced Applications of Simulation']\n",
      "['\\n          Basics of randomness & simulation\\n        ', '\\n          Resampling methods\\n        ', '\\n          Probability & data generation process\\n        ', '\\n          Advanced Applications of Simulation\\n        ', '\\n          Basics of randomness & simulation\\n        ', '\\n          Probability & data generation process\\n        ', '\\n          Resampling methods\\n        ', '\\n          Advanced Applications of Simulation\\n        ']\n"
     ]
    },
    {
     "name": "stderr",
     "output_type": "stream",
     "text": [
      "2020-07-23 19:43:27 [scrapy.core.engine] DEBUG: Crawled (200) <GET https://www.datacamp.com/courses/rna-seq-with-bioconductor-in-r> (referer: https://www.datacamp.com/courses/all)\n"
     ]
    },
    {
     "name": "stdout",
     "output_type": "stream",
     "text": [
      "['Introduction to RNA-Seq theory and workflow', 'Differential expression analysis with DESeq2', 'Exploratory data analysis', 'Exploration of differential expression results', 'Introduction to RNA-Seq theory and workflow', 'Exploratory data analysis', 'Differential expression analysis with DESeq2', 'Exploration of differential expression results']\n",
      "['\\n          Introduction to RNA-Seq theory and workflow\\n        ', '\\n          Differential expression analysis with DESeq2\\n        ', '\\n          Exploratory data analysis\\n        ', '\\n          Exploration of differential expression results\\n        ', '\\n          Introduction to RNA-Seq theory and workflow\\n        ', '\\n          Exploratory data analysis\\n        ', '\\n          Differential expression analysis with DESeq2\\n        ', '\\n          Exploration of differential expression results\\n        ']\n"
     ]
    },
    {
     "name": "stderr",
     "output_type": "stream",
     "text": [
      "2020-07-23 19:43:28 [scrapy.core.engine] DEBUG: Crawled (200) <GET https://www.datacamp.com/courses/analyzing-us-census-data-in-r> (referer: https://www.datacamp.com/courses/all)\n",
      "2020-07-23 19:43:28 [scrapy.core.engine] DEBUG: Crawled (200) <GET https://www.datacamp.com/courses/financial-forecasting-in-python> (referer: https://www.datacamp.com/courses/all)\n",
      "2020-07-23 19:43:28 [scrapy.core.engine] DEBUG: Crawled (200) <GET https://www.datacamp.com/courses/building-and-distributing-packages-with-conda> (referer: https://www.datacamp.com/courses/all)\n"
     ]
    },
    {
     "name": "stdout",
     "output_type": "stream",
     "text": [
      "['Census data in R with tidycensus', 'US Census geographic data in R', 'Wrangling US Census Data', 'Mapping US Census Data', 'Census data in R with tidycensus', 'Wrangling US Census Data', 'US Census geographic data in R', 'Mapping US Census Data']\n",
      "['\\n          Census data in R with tidycensus\\n        ', '\\n          US Census geographic data in R\\n        ', '\\n          Wrangling US Census Data\\n        ', '\\n          Mapping US Census Data\\n        ', '\\n          Census data in R with tidycensus\\n        ', '\\n          Wrangling US Census Data\\n        ', '\\n          US Census geographic data in R\\n        ', '\\n          Mapping US Census Data\\n        ']\n",
      "['Income statements', 'Formatting raw data, managing dates and financial periods', 'Balance sheet and forecast ratios', 'Assumptions and variances in forecasts', 'Income statements', 'Balance sheet and forecast ratios', 'Formatting raw data, managing dates and financial periods', 'Assumptions and variances in forecasts']\n",
      "['\\n          Income statements\\n        ', '\\n          Formatting raw data, managing dates and financial periods\\n        ', '\\n          Balance sheet and forecast ratios\\n        ', '\\n          Assumptions and variances in forecasts\\n        ', '\\n          Income statements\\n        ', '\\n          Balance sheet and forecast ratios\\n        ', '\\n          Formatting raw data, managing dates and financial periods\\n        ', '\\n          Assumptions and variances in forecasts\\n        ']\n",
      "['Anaconda Project', 'Conda Packages', 'Python Packages', 'Anaconda Project', 'Python Packages', 'Conda Packages']\n",
      "['\\n          Anaconda Project\\n        ', '\\n          Conda Packages\\n        ', '\\n          Python Packages\\n        ', '\\n          Anaconda Project\\n        ', '\\n          Python Packages\\n        ', '\\n          Conda Packages\\n        ']\n"
     ]
    },
    {
     "name": "stderr",
     "output_type": "stream",
     "text": [
      "2020-07-23 19:43:34 [scrapy.core.engine] DEBUG: Crawled (200) <GET https://www.datacamp.com/courses/support-vector-machines-in-r> (referer: https://www.datacamp.com/courses/all)\n",
      "2020-07-23 19:43:34 [scrapy.core.engine] DEBUG: Crawled (200) <GET https://www.datacamp.com/courses/ab-testing-in-r> (referer: https://www.datacamp.com/courses/all)\n",
      "2020-07-23 19:43:34 [scrapy.core.engine] DEBUG: Crawled (200) <GET https://www.datacamp.com/courses/analyzing-police-activity-with-pandas> (referer: https://www.datacamp.com/courses/all)\n"
     ]
    },
    {
     "name": "stdout",
     "output_type": "stream",
     "text": [
      "['Introduction', 'Polynomial Kernels', 'Support Vector Classifiers - Linear Kernels', 'Radial Basis Function Kernels', 'Introduction', 'Support Vector Classifiers - Linear Kernels', 'Polynomial Kernels', 'Radial Basis Function Kernels']\n",
      "['\\n          Introduction\\n        ', '\\n          Polynomial Kernels\\n        ', '\\n          Support Vector Classifiers - Linear Kernels\\n        ', '\\n          Radial Basis Function Kernels\\n        ', '\\n          Introduction\\n        ', '\\n          Support Vector Classifiers - Linear Kernels\\n        ', '\\n          Polynomial Kernels\\n        ', '\\n          Radial Basis Function Kernels\\n        ']\n",
      "['Chapter 1: Mini case study in A/B Testing', 'Chapter 3: Experimental Design in A/B Testing', 'Chapter 2: Mini case study in A/B Testing Part 2', 'Chapter 4: Statistical Analyses in A/B Testing', 'Chapter 1: Mini case study in A/B Testing', 'Chapter 2: Mini case study in A/B Testing Part 2', 'Chapter 3: Experimental Design in A/B Testing', 'Chapter 4: Statistical Analyses in A/B Testing']\n",
      "['\\n          Chapter 1: Mini case study in A/B Testing\\n        ', '\\n          Chapter 3: Experimental Design in A/B Testing\\n        ', '\\n          Chapter 2: Mini case study in A/B Testing Part 2\\n        ', '\\n          Chapter 4: Statistical Analyses in A/B Testing\\n        ', '\\n          Chapter 1: Mini case study in A/B Testing\\n        ', '\\n          Chapter 2: Mini case study in A/B Testing Part 2\\n        ', '\\n          Chapter 3: Experimental Design in A/B Testing\\n        ', '\\n          Chapter 4: Statistical Analyses in A/B Testing\\n        ']\n",
      "['Preparing the data for analysis', 'Visual exploratory data analysis', 'Exploring the relationship between gender and policing', 'Analyzing the effect of weather on policing', 'Preparing the data for analysis', 'Exploring the relationship between gender and policing', 'Visual exploratory data analysis', 'Analyzing the effect of weather on policing']\n",
      "['\\n          Preparing the data for analysis\\n        ', '\\n          Visual exploratory data analysis\\n        ', '\\n          Exploring the relationship between gender and policing\\n        ', '\\n          Analyzing the effect of weather on policing\\n        ', '\\n          Preparing the data for analysis\\n        ', '\\n          Exploring the relationship between gender and policing\\n        ', '\\n          Visual exploratory data analysis\\n        ', '\\n          Analyzing the effect of weather on policing\\n        ']\n"
     ]
    },
    {
     "name": "stderr",
     "output_type": "stream",
     "text": [
      "2020-07-23 19:43:34 [scrapy.core.engine] DEBUG: Crawled (200) <GET https://www.datacamp.com/courses/analyzing-election-and-polling-data-in-r> (referer: https://www.datacamp.com/courses/all)\n"
     ]
    },
    {
     "name": "stdout",
     "output_type": "stream",
     "text": [
      "['Presidential Job Approval Polls', 'Election Results and Political Demography', 'U.S. House and Senate Polling', 'Predicting the Future of Politics', 'Presidential Job Approval Polls', 'U.S. House and Senate Polling', 'Election Results and Political Demography', 'Predicting the Future of Politics']\n",
      "['\\n          Presidential Job Approval Polls\\n        ', '\\n          Election Results and Political Demography\\n        ', '\\n          U.S. House and Senate Polling\\n        ', '\\n          Predicting the Future of Politics\\n        ', '\\n          Presidential Job Approval Polls\\n        ', '\\n          U.S. House and Senate Polling\\n        ', '\\n          Election Results and Political Demography\\n        ', '\\n          Predicting the Future of Politics\\n        ']\n"
     ]
    },
    {
     "name": "stderr",
     "output_type": "stream",
     "text": [
      "2020-07-23 19:43:36 [scrapy.core.engine] DEBUG: Crawled (200) <GET https://www.datacamp.com/courses/hyperparameter-tuning-in-r> (referer: https://www.datacamp.com/courses/all)\n",
      "2020-07-23 19:43:36 [scrapy.core.engine] DEBUG: Crawled (200) <GET https://www.datacamp.com/courses/interactive-maps-with-leaflet-in-r> (referer: https://www.datacamp.com/courses/all)\n",
      "2020-07-23 19:43:36 [scrapy.core.engine] DEBUG: Crawled (200) <GET https://www.datacamp.com/courses/network-analysis-in-the-tidyverse> (referer: https://www.datacamp.com/courses/all)\n",
      "2020-07-23 19:43:36 [scrapy.core.engine] DEBUG: Crawled (200) <GET https://www.datacamp.com/courses/mixture-models-in-r> (referer: https://www.datacamp.com/courses/all)\n"
     ]
    },
    {
     "name": "stdout",
     "output_type": "stream",
     "text": [
      "['Introduction to hyperparameters', 'Hyperparameter tuning with mlr', 'Hyperparameter tuning with caret', 'Hyperparameter tuning with h2o', 'Introduction to hyperparameters', 'Hyperparameter tuning with caret', 'Hyperparameter tuning with mlr', 'Hyperparameter tuning with h2o']\n",
      "['\\n          Introduction to hyperparameters\\n        ', '\\n          Hyperparameter tuning with mlr\\n        ', '\\n          Hyperparameter tuning with caret\\n        ', '\\n          Hyperparameter tuning with h2o\\n        ', '\\n          Introduction to hyperparameters\\n        ', '\\n          Hyperparameter tuning with caret\\n        ', '\\n          Hyperparameter tuning with mlr\\n        ', '\\n          Hyperparameter tuning with h2o\\n        ']\n",
      "['Setting Up Interactive Web Maps', 'Groups, Layers, and Extras', 'Plotting Points', 'Plotting Polygons', 'Setting Up Interactive Web Maps', 'Plotting Points', 'Groups, Layers, and Extras', 'Plotting Polygons']\n",
      "['\\n          Setting Up Interactive Web Maps\\n        ', '\\n          Groups, Layers, and Extras\\n        ', '\\n          Plotting Points\\n        ', '\\n          Plotting Polygons\\n        ', '\\n          Setting Up Interactive Web Maps\\n        ', '\\n          Plotting Points\\n        ', '\\n          Groups, Layers, and Extras\\n        ', '\\n          Plotting Polygons\\n        ']\n",
      "['The hubs of the network', 'Connection patterns', 'In its weakness lies its strength', 'Similarity clusters', 'The hubs of the network', 'In its weakness lies its strength', 'Connection patterns', 'Similarity clusters']\n",
      "['\\n          The hubs of the network\\n        ', '\\n          Connection patterns\\n        ', '\\n          In its weakness lies its strength\\n        ', '\\n          Similarity clusters\\n        ', '\\n          The hubs of the network\\n        ', '\\n          In its weakness lies its strength\\n        ', '\\n          Connection patterns\\n        ', '\\n          Similarity clusters\\n        ']\n",
      "['Introduction to Mixture Models', 'Mixture of Gaussians with `flexmix`', 'Structure of Mixture Models and Parameters Estimation', 'Mixture Models Beyond Gaussians', 'Introduction to Mixture Models', 'Structure of Mixture Models and Parameters Estimation', 'Mixture of Gaussians with `flexmix`', 'Mixture Models Beyond Gaussians']\n",
      "['\\n          Introduction to Mixture Models\\n        ', '\\n          Mixture of Gaussians with `flexmix`\\n        ', '\\n          Structure of Mixture Models and Parameters Estimation\\n        ', '\\n          Mixture Models Beyond Gaussians\\n        ', '\\n          Introduction to Mixture Models\\n        ', '\\n          Structure of Mixture Models and Parameters Estimation\\n        ', '\\n          Mixture of Gaussians with `flexmix`\\n        ', '\\n          Mixture Models Beyond Gaussians\\n        ']\n"
     ]
    },
    {
     "name": "stderr",
     "output_type": "stream",
     "text": [
      "2020-07-23 19:43:36 [scrapy.core.engine] DEBUG: Crawled (200) <GET https://www.datacamp.com/courses/intermediate-functional-programming-with-purrr> (referer: https://www.datacamp.com/courses/all)\n"
     ]
    },
    {
     "name": "stdout",
     "output_type": "stream",
     "text": [
      "['Programming with purrr', 'Better code with purrr', 'Functional programming: from theory to practice', 'Case study', 'Programming with purrr', 'Functional programming: from theory to practice', 'Better code with purrr', 'Case study']\n",
      "['\\n          Programming with purrr\\n        ', '\\n          Better code with purrr\\n        ', '\\n          Functional programming: from theory to practice\\n        ', '\\n          Case study\\n        ', '\\n          Programming with purrr\\n        ', '\\n          Functional programming: from theory to practice\\n        ', '\\n          Better code with purrr\\n        ', '\\n          Case study\\n        ']\n"
     ]
    },
    {
     "name": "stderr",
     "output_type": "stream",
     "text": [
      "2020-07-23 19:43:37 [scrapy.core.engine] DEBUG: Crawled (200) <GET https://www.datacamp.com/courses/analyzing-survey-data-in-r> (referer: https://www.datacamp.com/courses/all)\n"
     ]
    },
    {
     "name": "stdout",
     "output_type": "stream",
     "text": [
      "['Introduction to survey data', 'Exploring quantitative data', 'Exploring categorical data', 'Modeling quantitative data', 'Introduction to survey data', 'Exploring categorical data', 'Exploring quantitative data', 'Modeling quantitative data']\n",
      "['\\n          Introduction to survey data\\n        ', '\\n          Exploring quantitative data\\n        ', '\\n          Exploring categorical data\\n        ', '\\n          Modeling quantitative data\\n        ', '\\n          Introduction to survey data\\n        ', '\\n          Exploring categorical data\\n        ', '\\n          Exploring quantitative data\\n        ', '\\n          Modeling quantitative data\\n        ']\n"
     ]
    },
    {
     "name": "stderr",
     "output_type": "stream",
     "text": [
      "2020-07-23 19:43:38 [scrapy.core.engine] DEBUG: Crawled (200) <GET https://www.datacamp.com/courses/building-response-models-in-r> (referer: https://www.datacamp.com/courses/all)\n"
     ]
    },
    {
     "name": "stdout",
     "output_type": "stream",
     "text": [
      "['Response models for aggregate data', 'Response models for individual-level data', 'Extended sales-response modeling', 'Extended choice modeling', 'Response models for aggregate data', 'Extended sales-response modeling', 'Response models for individual-level data', 'Extended choice modeling']\n",
      "['\\n          Response models for aggregate data\\n        ', '\\n          Response models for individual-level data\\n        ', '\\n          Extended sales-response modeling\\n        ', '\\n          Extended choice modeling\\n        ', '\\n          Response models for aggregate data\\n        ', '\\n          Extended sales-response modeling\\n        ', '\\n          Response models for individual-level data\\n        ', '\\n          Extended choice modeling\\n        ']\n"
     ]
    },
    {
     "name": "stderr",
     "output_type": "stream",
     "text": [
      "2020-07-23 19:43:39 [scrapy.core.engine] DEBUG: Crawled (200) <GET https://www.datacamp.com/courses/experimental-design-in-r> (referer: https://www.datacamp.com/courses/all)\n"
     ]
    },
    {
     "name": "stdout",
     "output_type": "stream",
     "text": [
      "['Introduction to Experimental Design', 'Randomized Complete (& Balanced Incomplete) Block Designs', 'Basic Experiments', 'Latin Squares, Graeco-Latin Squares, & Factorial experiments', 'Introduction to Experimental Design', 'Basic Experiments', 'Randomized Complete (& Balanced Incomplete) Block Designs', 'Latin Squares, Graeco-Latin Squares, & Factorial experiments']\n",
      "['\\n          Introduction to Experimental Design\\n        ', '\\n          Randomized Complete (& Balanced Incomplete) Block Designs\\n        ', '\\n          Basic Experiments\\n        ', '\\n          Latin Squares, Graeco-Latin Squares, & Factorial experiments\\n        ', '\\n          Introduction to Experimental Design\\n        ', '\\n          Basic Experiments\\n        ', '\\n          Randomized Complete (& Balanced Incomplete) Block Designs\\n        ', '\\n          Latin Squares, Graeco-Latin Squares, & Factorial experiments\\n        ']\n"
     ]
    },
    {
     "name": "stderr",
     "output_type": "stream",
     "text": [
      "2020-07-23 19:43:39 [scrapy.core.engine] DEBUG: Crawled (200) <GET https://www.datacamp.com/courses/machine-learning-for-finance-in-python> (referer: https://www.datacamp.com/courses/all)\n"
     ]
    },
    {
     "name": "stdout",
     "output_type": "stream",
     "text": [
      "['Preparing data and a linear model', 'Neural networks and KNN', 'Machine learning tree methods', 'Machine learning with modern portfolio theory', 'Preparing data and a linear model', 'Machine learning tree methods', 'Neural networks and KNN', 'Machine learning with modern portfolio theory']\n",
      "['\\n          Preparing data and a linear model\\n        ', '\\n          Neural networks and KNN\\n        ', '\\n          Machine learning tree methods\\n        ', '\\n          Machine learning with modern portfolio theory\\n        ', '\\n          Preparing data and a linear model\\n        ', '\\n          Machine learning tree methods\\n        ', '\\n          Neural networks and KNN\\n        ', '\\n          Machine learning with modern portfolio theory\\n        ']\n"
     ]
    },
    {
     "name": "stderr",
     "output_type": "stream",
     "text": [
      "2020-07-23 19:43:40 [scrapy.core.engine] DEBUG: Crawled (200) <GET https://www.datacamp.com/courses/multivariate-probability-distributions-in-r> (referer: https://www.datacamp.com/courses/all)\n",
      "2020-07-23 19:43:40 [scrapy.core.engine] DEBUG: Crawled (200) <GET https://www.datacamp.com/courses/preprocessing-for-machine-learning-in-python> (referer: https://www.datacamp.com/courses/all)\n"
     ]
    },
    {
     "name": "stdout",
     "output_type": "stream",
     "text": [
      "['Reading and plotting multivariate data', 'Other Multivariate Distributions', 'Multivariate Normal Distribution', 'Principal Component Analysis and Multidimensional Scaling', 'Reading and plotting multivariate data', 'Multivariate Normal Distribution', 'Other Multivariate Distributions', 'Principal Component Analysis and Multidimensional Scaling']\n",
      "['\\n          Reading and plotting multivariate data\\n        ', '\\n          Other Multivariate Distributions\\n        ', '\\n          Multivariate Normal Distribution\\n        ', '\\n          Principal Component Analysis and Multidimensional Scaling\\n        ', '\\n          Reading and plotting multivariate data\\n        ', '\\n          Multivariate Normal Distribution\\n        ', '\\n          Other Multivariate Distributions\\n        ', '\\n          Principal Component Analysis and Multidimensional Scaling\\n        ']\n",
      "['Introduction to Data Preprocessing', 'Feature Engineering', 'Putting it all together', 'Standardizing Data', 'Selecting features for modeling', 'Introduction to Data Preprocessing', 'Standardizing Data', 'Feature Engineering', 'Selecting features for modeling', 'Putting it all together']\n",
      "['\\n          Introduction to Data Preprocessing\\n        ', '\\n          Feature Engineering\\n        ', '\\n          Putting it all together\\n        ', '\\n          Standardizing Data\\n        ', '\\n          Selecting features for modeling\\n        ', '\\n          Introduction to Data Preprocessing\\n        ', '\\n          Standardizing Data\\n        ', '\\n          Feature Engineering\\n        ', '\\n          Selecting features for modeling\\n        ', '\\n          Putting it all together\\n        ']\n"
     ]
    },
    {
     "name": "stderr",
     "output_type": "stream",
     "text": [
      "2020-07-23 19:43:40 [scrapy.core.engine] DEBUG: Crawled (200) <GET https://www.datacamp.com/courses/introduction-to-python-for-finance> (referer: https://www.datacamp.com/courses/all)\n"
     ]
    },
    {
     "name": "stdout",
     "output_type": "stream",
     "text": [
      "['Welcome to Python', 'Arrays in Python', 'S&P 100 Case Study', 'Lists', 'Visualization in Python', 'Welcome to Python', 'Lists', 'Arrays in Python', 'Visualization in Python', 'S&P 100 Case Study']\n",
      "['\\n          Welcome to Python\\n        ', '\\n          Arrays in Python\\n        ', '\\n          S&P 100 Case Study\\n        ', '\\n          Lists\\n        ', '\\n          Visualization in Python\\n        ', '\\n          Welcome to Python\\n        ', '\\n          Lists\\n        ', '\\n          Arrays in Python\\n        ', '\\n          Visualization in Python\\n        ', '\\n          S&P 100 Case Study\\n        ']\n"
     ]
    },
    {
     "name": "stderr",
     "output_type": "stream",
     "text": [
      "2020-07-23 19:43:41 [scrapy.core.engine] DEBUG: Crawled (200) <GET https://www.datacamp.com/courses/categorical-data-in-the-tidyverse> (referer: https://www.datacamp.com/courses/all)\n"
     ]
    },
    {
     "name": "stdout",
     "output_type": "stream",
     "text": [
      "['Introduction to Factor Variables', 'Creating Factor Variables', 'Manipulating Factor Variables', 'Case Study on Flight Etiquette', 'Introduction to Factor Variables', 'Manipulating Factor Variables', 'Creating Factor Variables', 'Case Study on Flight Etiquette']\n",
      "['\\n          Introduction to Factor Variables\\n        ', '\\n          Creating Factor Variables\\n        ', '\\n          Manipulating Factor Variables\\n        ', '\\n          Case Study on Flight Etiquette\\n        ', '\\n          Introduction to Factor Variables\\n        ', '\\n          Manipulating Factor Variables\\n        ', '\\n          Creating Factor Variables\\n        ', '\\n          Case Study on Flight Etiquette\\n        ']\n"
     ]
    },
    {
     "name": "stderr",
     "output_type": "stream",
     "text": [
      "2020-07-23 19:43:41 [scrapy.core.engine] DEBUG: Crawled (200) <GET https://www.datacamp.com/courses/advanced-deep-learning-with-keras> (referer: https://www.datacamp.com/courses/all)\n",
      "2020-07-23 19:43:41 [scrapy.core.engine] DEBUG: Crawled (200) <GET https://www.datacamp.com/courses/introduction-to-predictive-analytics-in-python> (referer: https://www.datacamp.com/courses/all)\n",
      "2020-07-23 19:43:42 [scrapy.core.engine] DEBUG: Crawled (200) <GET https://www.datacamp.com/courses/choice-modeling-for-marketing-in-r> (referer: https://www.datacamp.com/courses/all)\n",
      "2020-07-23 19:43:42 [scrapy.core.engine] DEBUG: Crawled (200) <GET https://www.datacamp.com/courses/bayesian-regression-modeling-with-rstanarm> (referer: https://www.datacamp.com/courses/all)\n"
     ]
    },
    {
     "name": "stdout",
     "output_type": "stream",
     "text": [
      "['The Keras Functional API', 'Multiple Inputs: 3 Inputs (and Beyond!)', 'Two Input Networks Using Categorical Embeddings, Shared Layers, and Merge Layers', 'Multiple Outputs', 'The Keras Functional API', 'Two Input Networks Using Categorical Embeddings, Shared Layers, and Merge Layers', 'Multiple Inputs: 3 Inputs (and Beyond!)', 'Multiple Outputs']\n",
      "['\\n          The Keras Functional API\\n        ', '\\n          Multiple Inputs: 3 Inputs (and Beyond!)\\n        ', '\\n          Two Input Networks Using Categorical Embeddings, Shared Layers, and Merge Layers\\n        ', '\\n          Multiple Outputs\\n        ', '\\n          The Keras Functional API\\n        ', '\\n          Two Input Networks Using Categorical Embeddings, Shared Layers, and Merge Layers\\n        ', '\\n          Multiple Inputs: 3 Inputs (and Beyond!)\\n        ', '\\n          Multiple Outputs\\n        ']\n",
      "['Building Logistic Regression Models', 'Explaining model performance to business', 'Forward stepwise variable selection for logistic regression', 'Interpreting and explaining models', 'Building Logistic Regression Models', 'Forward stepwise variable selection for logistic regression', 'Explaining model performance to business', 'Interpreting and explaining models']\n",
      "['\\n          Building Logistic Regression Models\\n        ', '\\n          Explaining model performance to business\\n        ', '\\n          Forward stepwise variable selection for logistic regression\\n        ', '\\n          Interpreting and explaining models\\n        ', '\\n          Building Logistic Regression Models\\n        ', '\\n          Forward stepwise variable selection for logistic regression\\n        ', '\\n          Explaining model performance to business\\n        ', '\\n          Interpreting and explaining models\\n        ']\n",
      "['Quickstart Guide', 'Building Choice Models', 'Managing and Summarizing Choice Data', 'Hierarchical Choice Models', 'Quickstart Guide', 'Managing and Summarizing Choice Data', 'Building Choice Models', 'Hierarchical Choice Models']\n",
      "['\\n          Quickstart Guide\\n        ', '\\n          Building Choice Models\\n        ', '\\n          Managing and Summarizing Choice Data\\n        ', '\\n          Hierarchical Choice Models\\n        ', '\\n          Quickstart Guide\\n        ', '\\n          Managing and Summarizing Choice Data\\n        ', '\\n          Building Choice Models\\n        ', '\\n          Hierarchical Choice Models\\n        ']\n",
      "['Introduction to Bayesian Linear Models', 'Assessing Model Fit', 'Modifying a Bayesian Model', 'Presenting and Using a Bayesian Regression', 'Introduction to Bayesian Linear Models', 'Modifying a Bayesian Model', 'Assessing Model Fit', 'Presenting and Using a Bayesian Regression']\n",
      "['\\n          Introduction to Bayesian Linear Models\\n        ', '\\n          Assessing Model Fit\\n        ', '\\n          Modifying a Bayesian Model\\n        ', '\\n          Presenting and Using a Bayesian Regression\\n        ', '\\n          Introduction to Bayesian Linear Models\\n        ', '\\n          Modifying a Bayesian Model\\n        ', '\\n          Assessing Model Fit\\n        ', '\\n          Presenting and Using a Bayesian Regression\\n        ']\n"
     ]
    },
    {
     "name": "stderr",
     "output_type": "stream",
     "text": [
      "2020-07-23 19:43:42 [scrapy.core.engine] DEBUG: Crawled (200) <GET https://www.datacamp.com/courses/factor-analysis-in-r> (referer: https://www.datacamp.com/courses/all)\n"
     ]
    },
    {
     "name": "stdout",
     "output_type": "stream",
     "text": [
      "['Evaluating your measure with factor analysis', 'Confirmatory Factor Analysis', 'Multidimensional EFA', 'Refining your measure and/or model', 'Evaluating your measure with factor analysis', 'Multidimensional EFA', 'Confirmatory Factor Analysis', 'Refining your measure and/or model']\n",
      "['\\n          Evaluating your measure with factor analysis\\n        ', '\\n          Confirmatory Factor Analysis\\n        ', '\\n          Multidimensional EFA\\n        ', '\\n          Refining your measure and/or model\\n        ', '\\n          Evaluating your measure with factor analysis\\n        ', '\\n          Multidimensional EFA\\n        ', '\\n          Confirmatory Factor Analysis\\n        ', '\\n          Refining your measure and/or model\\n        ']\n"
     ]
    },
    {
     "name": "stderr",
     "output_type": "stream",
     "text": [
      "2020-07-23 19:43:43 [scrapy.core.engine] DEBUG: Crawled (200) <GET https://www.datacamp.com/courses/data-privacy-and-anonymization-in-r> (referer: https://www.datacamp.com/courses/all)\n"
     ]
    },
    {
     "name": "stdout",
     "output_type": "stream",
     "text": [
      "['Introduction to Data Privacy', 'Differentially Private Properties', 'Introduction to Differential Privacy', 'Differentially Private Data Synthesis', 'Introduction to Data Privacy', 'Introduction to Differential Privacy', 'Differentially Private Properties', 'Differentially Private Data Synthesis']\n",
      "['\\n          Introduction to Data Privacy\\n        ', '\\n          Differentially Private Properties\\n        ', '\\n          Introduction to Differential Privacy\\n        ', '\\n          Differentially Private Data Synthesis\\n        ', '\\n          Introduction to Data Privacy\\n        ', '\\n          Introduction to Differential Privacy\\n        ', '\\n          Differentially Private Properties\\n        ', '\\n          Differentially Private Data Synthesis\\n        ']\n"
     ]
    },
    {
     "name": "stderr",
     "output_type": "stream",
     "text": [
      "2020-07-23 19:43:44 [scrapy.core.engine] DEBUG: Crawled (200) <GET https://www.datacamp.com/courses/bayesian-modeling-with-rjags> (referer: https://www.datacamp.com/courses/all)\n"
     ]
    },
    {
     "name": "stdout",
     "output_type": "stream",
     "text": [
      "['Introduction to Bayesian Modeling', 'Bayesian Inference & Prediction', 'Bayesian Models & Markov Chains', 'Multivariate & Generalized Linear Models', 'Introduction to Bayesian Modeling', 'Bayesian Models & Markov Chains', 'Bayesian Inference & Prediction', 'Multivariate & Generalized Linear Models']\n",
      "['\\n          Introduction to Bayesian Modeling\\n        ', '\\n          Bayesian Inference & Prediction\\n        ', '\\n          Bayesian Models & Markov Chains\\n        ', '\\n          Multivariate & Generalized Linear Models\\n        ', '\\n          Introduction to Bayesian Modeling\\n        ', '\\n          Bayesian Models & Markov Chains\\n        ', '\\n          Bayesian Inference & Prediction\\n        ', '\\n          Multivariate & Generalized Linear Models\\n        ']\n"
     ]
    },
    {
     "name": "stderr",
     "output_type": "stream",
     "text": [
      "2020-07-23 19:43:44 [scrapy.core.engine] DEBUG: Crawled (200) <GET https://www.datacamp.com/courses/differential-expression-analysis-with-limma-in-r> (referer: https://www.datacamp.com/courses/all)\n"
     ]
    },
    {
     "name": "stdout",
     "output_type": "stream",
     "text": [
      "['Differential Expression Analysis', 'Pre- and post-processing', 'Flexible Models for Common Study Designs', 'Case Study: Effect of Doxorubicin Treatment', 'Differential Expression Analysis', 'Flexible Models for Common Study Designs', 'Pre- and post-processing', 'Case Study: Effect of Doxorubicin Treatment']\n",
      "['\\n          Differential Expression Analysis\\n        ', '\\n          Pre- and post-processing\\n        ', '\\n          Flexible Models for Common Study Designs\\n        ', '\\n          Case Study: Effect of Doxorubicin Treatment\\n        ', '\\n          Differential Expression Analysis\\n        ', '\\n          Flexible Models for Common Study Designs\\n        ', '\\n          Pre- and post-processing\\n        ', '\\n          Case Study: Effect of Doxorubicin Treatment\\n        ']\n"
     ]
    },
    {
     "name": "stderr",
     "output_type": "stream",
     "text": [
      "2020-07-23 19:43:44 [scrapy.core.engine] DEBUG: Crawled (200) <GET https://www.datacamp.com/courses/marketing-analytics-predicting-customer-churn-in-python> (referer: https://www.datacamp.com/courses/all)\n"
     ]
    },
    {
     "name": "stdout",
     "output_type": "stream",
     "text": [
      "['Exploratory Data Analysis', 'Churn Prediction', 'Preprocessing for Churn Modeling', 'Model Tuning', 'Exploratory Data Analysis', 'Preprocessing for Churn Modeling', 'Churn Prediction', 'Model Tuning']\n",
      "['\\n          Exploratory Data Analysis\\n        ', '\\n          Churn Prediction\\n        ', '\\n          Preprocessing for Churn Modeling\\n        ', '\\n          Model Tuning\\n        ', '\\n          Exploratory Data Analysis\\n        ', '\\n          Preprocessing for Churn Modeling\\n        ', '\\n          Churn Prediction\\n        ', '\\n          Model Tuning\\n        ']\n"
     ]
    },
    {
     "name": "stderr",
     "output_type": "stream",
     "text": [
      "2020-07-23 19:43:45 [scrapy.core.engine] DEBUG: Crawled (200) <GET https://www.datacamp.com/courses/structural-equation-modeling-with-lavaan-in-r> (referer: https://www.datacamp.com/courses/all)\n"
     ]
    },
    {
     "name": "stdout",
     "output_type": "stream",
     "text": [
      "['One-Factor Models', 'Troubleshooting Model Errors and Diagrams', 'Multi-Factor Models', 'Full Example and an Extension', 'One-Factor Models', 'Multi-Factor Models', 'Troubleshooting Model Errors and Diagrams', 'Full Example and an Extension']\n",
      "['\\n          One-Factor Models\\n        ', '\\n          Troubleshooting Model Errors and Diagrams\\n        ', '\\n          Multi-Factor Models\\n        ', '\\n          Full Example and an Extension\\n        ', '\\n          One-Factor Models\\n        ', '\\n          Multi-Factor Models\\n        ', '\\n          Troubleshooting Model Errors and Diagrams\\n        ', '\\n          Full Example and an Extension\\n        ']\n"
     ]
    },
    {
     "name": "stderr",
     "output_type": "stream",
     "text": [
      "2020-07-23 19:43:46 [scrapy.core.engine] DEBUG: Crawled (200) <GET https://www.datacamp.com/courses/machine-learning-with-tree-based-models-in-python> (referer: https://www.datacamp.com/courses/all)\n"
     ]
    },
    {
     "name": "stdout",
     "output_type": "stream",
     "text": [
      "['Classification and Regression Trees', 'Bagging and Random Forests', 'Model Tuning', 'The Bias-Variance Tradeoff', 'Boosting', 'Classification and Regression Trees', 'The Bias-Variance Tradeoff', 'Bagging and Random Forests', 'Boosting', 'Model Tuning']\n",
      "['\\n          Classification and Regression Trees\\n        ', '\\n          Bagging and Random Forests\\n        ', '\\n          Model Tuning\\n        ', '\\n          The Bias-Variance Tradeoff\\n        ', '\\n          Boosting\\n        ', '\\n          Classification and Regression Trees\\n        ', '\\n          The Bias-Variance Tradeoff\\n        ', '\\n          Bagging and Random Forests\\n        ', '\\n          Boosting\\n        ', '\\n          Model Tuning\\n        ']\n"
     ]
    },
    {
     "name": "stderr",
     "output_type": "stream",
     "text": [
      "2020-07-23 19:43:46 [scrapy.core.engine] DEBUG: Crawled (200) <GET https://www.datacamp.com/courses/human-resources-analytics-predicting-employee-churn-in-r> (referer: https://www.datacamp.com/courses/all)\n"
     ]
    },
    {
     "name": "stdout",
     "output_type": "stream",
     "text": [
      "['Introduction', 'Predicting Turnover', 'Feature Engineering', 'Model Validation, HR Interventions, and ROI', 'Introduction', 'Feature Engineering', 'Predicting Turnover', 'Model Validation, HR Interventions, and ROI']\n",
      "['\\n          Introduction\\n        ', '\\n          Predicting Turnover\\n        ', '\\n          Feature Engineering\\n        ', '\\n          Model Validation, HR Interventions, and ROI\\n        ', '\\n          Introduction\\n        ', '\\n          Feature Engineering\\n        ', '\\n          Predicting Turnover\\n        ', '\\n          Model Validation, HR Interventions, and ROI\\n        ']\n"
     ]
    },
    {
     "name": "stderr",
     "output_type": "stream",
     "text": [
      "2020-07-23 19:43:47 [scrapy.core.engine] DEBUG: Crawled (200) <GET https://www.datacamp.com/courses/feature-engineering-with-pyspark> (referer: https://www.datacamp.com/courses/all)\n",
      "2020-07-23 19:43:47 [scrapy.core.engine] DEBUG: Crawled (200) <GET https://www.datacamp.com/courses/introduction-to-bioconductor-in-r> (referer: https://www.datacamp.com/courses/all)\n",
      "2020-07-23 19:43:47 [scrapy.core.engine] DEBUG: Crawled (200) <GET https://www.datacamp.com/courses/nonlinear-modeling-in-r-with-gams> (referer: https://www.datacamp.com/courses/all)\n"
     ]
    },
    {
     "name": "stdout",
     "output_type": "stream",
     "text": [
      "['Exploratory Data Analysis', 'Feature Engineering', 'Wrangling with Spark Functions', 'Building a Model', 'Exploratory Data Analysis', 'Wrangling with Spark Functions', 'Feature Engineering', 'Building a Model']\n",
      "['\\n          Exploratory Data Analysis\\n        ', '\\n          Feature Engineering\\n        ', '\\n          Wrangling with Spark Functions\\n        ', '\\n          Building a Model\\n        ', '\\n          Exploratory Data Analysis\\n        ', '\\n          Wrangling with Spark Functions\\n        ', '\\n          Feature Engineering\\n        ', '\\n          Building a Model\\n        ']\n",
      "['What is Bioconductor?', 'IRanges and GenomicRanges', 'Biostrings and when to use them?', 'Introducing ShortRead', 'What is Bioconductor?', 'Biostrings and when to use them?', 'IRanges and GenomicRanges', 'Introducing ShortRead']\n",
      "['\\n          What is Bioconductor?\\n        ', '\\n          IRanges and GenomicRanges\\n        ', '\\n          Biostrings and when to use them?\\n        ', '\\n          Introducing ShortRead \\n        ', '\\n          What is Bioconductor?\\n        ', '\\n          Biostrings and when to use them?\\n        ', '\\n          IRanges and GenomicRanges\\n        ', '\\n          Introducing ShortRead \\n        ']\n",
      "['Introduction to Generalized Additive Models', 'Spatial GAMs and Interactions', 'Interpreting and Visualizing GAMs', 'Logistic GAMs for Classification', 'Introduction to Generalized Additive Models', 'Interpreting and Visualizing GAMs', 'Spatial GAMs and Interactions', 'Logistic GAMs for Classification']\n",
      "['\\n          Introduction to Generalized Additive Models\\n        ', '\\n          Spatial GAMs and Interactions\\n        ', '\\n          Interpreting and Visualizing GAMs\\n        ', '\\n          Logistic GAMs for Classification\\n        ', '\\n          Introduction to Generalized Additive Models\\n        ', '\\n          Interpreting and Visualizing GAMs\\n        ', '\\n          Spatial GAMs and Interactions\\n        ', '\\n          Logistic GAMs for Classification\\n        ']\n"
     ]
    },
    {
     "name": "stderr",
     "output_type": "stream",
     "text": [
      "2020-07-23 19:43:48 [scrapy.core.engine] DEBUG: Crawled (200) <GET https://www.datacamp.com/courses/human-resources-analytics-predicting-employee-churn-in-python> (referer: https://www.datacamp.com/courses/all)\n"
     ]
    },
    {
     "name": "stdout",
     "output_type": "stream",
     "text": [
      "['Introduction to HR Analytics', 'Evaluating the turnover prediction model', 'Predicting employee turnover', 'Choosing the best turnover prediction model', 'Introduction to HR Analytics', 'Predicting employee turnover', 'Evaluating the turnover prediction model', 'Choosing the best turnover prediction model']\n",
      "['\\n          Introduction to HR Analytics\\n        ', '\\n          Evaluating the turnover prediction model\\n        ', '\\n          Predicting employee turnover\\n        ', '\\n          Choosing the best turnover prediction model\\n        ', '\\n          Introduction to HR Analytics\\n        ', '\\n          Predicting employee turnover\\n        ', '\\n          Evaluating the turnover prediction model\\n        ', '\\n          Choosing the best turnover prediction model\\n        ']\n"
     ]
    },
    {
     "name": "stderr",
     "output_type": "stream",
     "text": [
      "2020-07-23 19:43:48 [scrapy.core.engine] DEBUG: Crawled (200) <GET https://www.datacamp.com/courses/customer-analytics-and-ab-testing-in-python> (referer: https://www.datacamp.com/courses/all)\n"
     ]
    },
    {
     "name": "stdout",
     "output_type": "stream",
     "text": [
      "['Key Performance Indicators: Measuring Business Success', 'The Design and Application of A/B Testing', 'Exploring and Visualizing Customer Behavior', 'Analyzing A/B Testing Results', 'Key Performance Indicators: Measuring Business Success', 'Exploring and Visualizing Customer Behavior', 'The Design and Application of A/B Testing', 'Analyzing A/B Testing Results']\n",
      "['\\n          Key Performance Indicators: Measuring Business Success\\n        ', '\\n          The Design and Application of A/B Testing\\n        ', '\\n          Exploring and Visualizing Customer Behavior\\n        ', '\\n          Analyzing A/B Testing Results\\n        ', '\\n          Key Performance Indicators: Measuring Business Success\\n        ', '\\n          Exploring and Visualizing Customer Behavior\\n        ', '\\n          The Design and Application of A/B Testing\\n        ', '\\n          Analyzing A/B Testing Results\\n        ']\n"
     ]
    },
    {
     "name": "stderr",
     "output_type": "stream",
     "text": [
      "2020-07-23 19:43:49 [scrapy.core.engine] DEBUG: Crawled (200) <GET https://www.datacamp.com/courses/parallel-programming-in-r> (referer: https://www.datacamp.com/courses/all)\n"
     ]
    },
    {
     "name": "stdout",
     "output_type": "stream",
     "text": [
      "['Can I Run My Application in Parallel?', 'foreach, future.apply and Load Balancing', 'The parallel Package', 'Random Numbers and Reproducibility', 'Can I Run My Application in Parallel?', 'The parallel Package', 'foreach, future.apply and Load Balancing', 'Random Numbers and Reproducibility']\n",
      "['\\n          Can I Run My Application in Parallel?\\n        ', '\\n          foreach, future.apply and Load Balancing\\n        ', '\\n          The parallel Package\\n        ', '\\n          Random Numbers and Reproducibility\\n        ', '\\n          Can I Run My Application in Parallel?\\n        ', '\\n          The parallel Package\\n        ', '\\n          foreach, future.apply and Load Balancing\\n        ', '\\n          Random Numbers and Reproducibility\\n        ']\n"
     ]
    },
    {
     "name": "stderr",
     "output_type": "stream",
     "text": [
      "2020-07-23 19:43:49 [scrapy.core.engine] DEBUG: Crawled (200) <GET https://www.datacamp.com/courses/linear-classifiers-in-python> (referer: https://www.datacamp.com/courses/all)\n"
     ]
    },
    {
     "name": "stdout",
     "output_type": "stream",
     "text": [
      "['Applying logistic regression and SVM', 'Logistic regression', 'Loss functions', 'Support Vector Machines', 'Applying logistic regression and SVM', 'Loss functions', 'Logistic regression', 'Support Vector Machines']\n",
      "['\\n          Applying logistic regression and SVM\\n        ', '\\n          Logistic regression\\n        ', '\\n          Loss functions\\n        ', '\\n          Support Vector Machines\\n        ', '\\n          Applying logistic regression and SVM\\n        ', '\\n          Loss functions\\n        ', '\\n          Logistic regression\\n        ', '\\n          Support Vector Machines\\n        ']\n"
     ]
    },
    {
     "name": "stderr",
     "output_type": "stream",
     "text": [
      "2020-07-23 19:43:51 [scrapy.core.engine] DEBUG: Crawled (200) <GET https://www.datacamp.com/courses/hierarchical-and-mixed-effects-models-in-r> (referer: https://www.datacamp.com/courses/all)\n"
     ]
    },
    {
     "name": "stdout",
     "output_type": "stream",
     "text": [
      "['Overview and introduction to hierarchical and mixed models', 'Generalized linear mixed-effect models', 'Linear mixed-effect models', 'Repeated Measures', 'Overview and introduction to hierarchical and mixed models', 'Linear mixed-effect models', 'Generalized linear mixed-effect models', 'Repeated Measures']\n",
      "['\\n          Overview and introduction to hierarchical and mixed models\\n        ', '\\n          Generalized linear mixed-effect models\\n        ', '\\n          Linear mixed-effect models\\n        ', '\\n          Repeated Measures\\n        ', '\\n          Overview and introduction to hierarchical and mixed models\\n        ', '\\n          Linear mixed-effect models\\n        ', '\\n          Generalized linear mixed-effect models\\n        ', '\\n          Repeated Measures\\n        ']\n"
     ]
    },
    {
     "name": "stderr",
     "output_type": "stream",
     "text": [
      "2020-07-23 19:43:51 [scrapy.core.engine] DEBUG: Crawled (200) <GET https://www.datacamp.com/courses/forecasting-product-demand-in-r> (referer: https://www.datacamp.com/courses/all)\n",
      "2020-07-23 19:43:51 [scrapy.core.engine] DEBUG: Crawled (200) <GET https://www.datacamp.com/courses/machine-learning-for-time-series-data-in-python> (referer: https://www.datacamp.com/courses/all)\n",
      "2020-07-23 19:43:52 [scrapy.core.engine] DEBUG: Crawled (200) <GET https://www.datacamp.com/courses/machine-learning-for-marketing-analytics-in-r> (referer: https://www.datacamp.com/courses/all)\n"
     ]
    },
    {
     "name": "stdout",
     "output_type": "stream",
     "text": [
      "['Forecasting demand with time series', 'Blending regression with time series', 'Components of demand', 'Hierarchical forecasting', 'Forecasting demand with time series', 'Components of demand', 'Blending regression with time series', 'Hierarchical forecasting']\n",
      "['\\n          Forecasting demand with time series\\n        ', '\\n          Blending regression with time series\\n        ', '\\n          Components of demand\\n        ', '\\n          Hierarchical forecasting\\n        ', '\\n          Forecasting demand with time series\\n        ', '\\n          Components of demand\\n        ', '\\n          Blending regression with time series\\n        ', '\\n          Hierarchical forecasting\\n        ']\n",
      "['Time Series and Machine Learning Primer', 'Predicting Time Series Data', 'Time Series as Inputs to a Model', 'Validating and Inspecting Time Series Models', 'Time Series and Machine Learning Primer', 'Time Series as Inputs to a Model', 'Predicting Time Series Data', 'Validating and Inspecting Time Series Models']\n",
      "['\\n          Time Series and Machine Learning Primer\\n        ', '\\n          Predicting Time Series Data\\n        ', '\\n          Time Series as Inputs to a Model\\n        ', '\\n          Validating and Inspecting Time Series Models\\n        ', '\\n          Time Series and Machine Learning Primer\\n        ', '\\n          Time Series as Inputs to a Model\\n        ', '\\n          Predicting Time Series Data\\n        ', '\\n          Validating and Inspecting Time Series Models\\n        ']\n",
      "['Modeling Customer Lifetime Value with Linear Regression', 'Modeling Time to Reorder with Survival Analysis', 'Logistic Regression for Churn Prevention', 'Reducing Dimensionality with Principal Component Analysis', 'Modeling Customer Lifetime Value with Linear Regression', 'Logistic Regression for Churn Prevention', 'Modeling Time to Reorder with Survival Analysis', 'Reducing Dimensionality with Principal Component Analysis']\n",
      "['\\n          Modeling Customer Lifetime Value with Linear Regression\\n        ', '\\n          Modeling Time to Reorder with Survival Analysis\\n        ', '\\n          Logistic Regression for Churn Prevention\\n        ', '\\n          Reducing Dimensionality with Principal Component Analysis\\n        ', '\\n          Modeling Customer Lifetime Value with Linear Regression\\n        ', '\\n          Logistic Regression for Churn Prevention\\n        ', '\\n          Modeling Time to Reorder with Survival Analysis\\n        ', '\\n          Reducing Dimensionality with Principal Component Analysis\\n        ']\n"
     ]
    },
    {
     "name": "stderr",
     "output_type": "stream",
     "text": [
      "2020-07-23 19:43:52 [scrapy.core.engine] DEBUG: Crawled (200) <GET https://www.datacamp.com/courses/case-studies-network-analysis-in-r> (referer: https://www.datacamp.com/courses/all)\n",
      "2020-07-23 19:43:53 [scrapy.core.engine] DEBUG: Crawled (200) <GET https://www.datacamp.com/courses/human-resources-analytics-exploring-employee-data-in-r> (referer: https://www.datacamp.com/courses/all)\n"
     ]
    },
    {
     "name": "stdout",
     "output_type": "stream",
     "text": [
      "['Exploring graphs through time', 'Bike sharing in Chicago', 'How do people talk about R on Twitter?', 'Other ways to visualize graph data', 'Exploring graphs through time', 'How do people talk about R on Twitter?', 'Bike sharing in Chicago', 'Other ways to visualize graph data']\n",
      "['\\n          Exploring graphs through time\\n        ', '\\n          Bike sharing in Chicago\\n        ', '\\n          How do people talk about R on Twitter?\\n        ', '\\n          Other ways to visualize graph data\\n        ', '\\n          Exploring graphs through time\\n        ', '\\n          How do people talk about R on Twitter?\\n        ', '\\n          Bike sharing in Chicago\\n        ', '\\n          Other ways to visualize graph data\\n        ']\n",
      "['Identifying the best recruiting source', 'Are new hires getting paid too much?', 'Improving employee safety with data', 'What is driving low employee engagement?', 'Are performance ratings being given consistently?', 'Identifying the best recruiting source', 'What is driving low employee engagement?', 'Are new hires getting paid too much?', 'Are performance ratings being given consistently?', 'Improving employee safety with data']\n",
      "['\\n          Identifying the best recruiting source\\n        ', '\\n          Are new hires getting paid too much?\\n        ', '\\n          Improving employee safety with data\\n        ', '\\n          What is driving low employee engagement?\\n        ', '\\n          Are performance ratings being given consistently?\\n        ', '\\n          Identifying the best recruiting source\\n        ', '\\n          What is driving low employee engagement?\\n        ', '\\n          Are new hires getting paid too much?\\n        ', '\\n          Are performance ratings being given consistently?\\n        ', '\\n          Improving employee safety with data\\n        ']\n"
     ]
    },
    {
     "name": "stderr",
     "output_type": "stream",
     "text": [
      "2020-07-23 19:43:53 [scrapy.core.engine] DEBUG: Crawled (200) <GET https://www.datacamp.com/courses/working-with-data-in-the-tidyverse> (referer: https://www.datacamp.com/courses/all)\n",
      "2020-07-23 19:43:53 [scrapy.core.engine] DEBUG: Crawled (200) <GET https://www.datacamp.com/courses/business-process-analytics-in-r> (referer: https://www.datacamp.com/courses/all)\n"
     ]
    },
    {
     "name": "stdout",
     "output_type": "stream",
     "text": [
      "['Explore your data', 'Tidy your data', 'Tame your data', 'Transform your data', 'Explore your data', 'Tame your data', 'Tidy your data', 'Transform your data']\n",
      "['\\n          Explore your data\\n        ', '\\n          Tidy your data\\n        ', '\\n          Tame your data\\n        ', '\\n          Transform your data\\n        ', '\\n          Explore your data\\n        ', '\\n          Tame your data\\n        ', '\\n          Tidy your data\\n        ', '\\n          Transform your data\\n        ']\n",
      "['Introduction to process analysis', 'Event data processing', 'Analysis techniques', 'Case study', 'Introduction to process analysis', 'Analysis techniques', 'Event data processing', 'Case study']\n",
      "['\\n          Introduction to process analysis\\n        ', '\\n          Event data processing\\n        ', '\\n          Analysis techniques\\n        ', '\\n          Case study\\n        ', '\\n          Introduction to process analysis\\n        ', '\\n          Analysis techniques\\n        ', '\\n          Event data processing\\n        ', '\\n          Case study\\n        ']\n"
     ]
    },
    {
     "name": "stderr",
     "output_type": "stream",
     "text": [
      "2020-07-23 19:43:54 [scrapy.core.engine] DEBUG: Crawled (200) <GET https://www.datacamp.com/courses/visualization-best-practices-in-r> (referer: https://www.datacamp.com/courses/all)\n"
     ]
    },
    {
     "name": "stdout",
     "output_type": "stream",
     "text": [
      "['Proportions of a whole', 'Single distributions', 'Point data', 'Comparing distributions', 'Proportions of a whole', 'Point data', 'Single distributions', 'Comparing distributions']\n",
      "['\\n          Proportions of a whole\\n        ', '\\n          Single distributions\\n        ', '\\n          Point data\\n        ', '\\n          Comparing distributions\\n        ', '\\n          Proportions of a whole\\n        ', '\\n          Point data\\n        ', '\\n          Single distributions\\n        ', '\\n          Comparing distributions\\n        ']\n"
     ]
    },
    {
     "name": "stderr",
     "output_type": "stream",
     "text": [
      "2020-07-23 19:43:55 [scrapy.core.engine] DEBUG: Crawled (200) <GET https://www.datacamp.com/courses/joining-data-with-datatable-in-r> (referer: https://www.datacamp.com/courses/all)\n"
     ]
    },
    {
     "name": "stdout",
     "output_type": "stream",
     "text": [
      "['Joining Multiple data.tables', 'Diagnosing and Fixing Common Join Problems', 'Joins Using data.table Syntax', 'Concatenating and Reshaping data.tables', 'Joining Multiple data.tables', 'Joins Using data.table Syntax', 'Diagnosing and Fixing Common Join Problems', 'Concatenating and Reshaping data.tables']\n",
      "['\\n          Joining Multiple data.tables \\n        ', '\\n          Diagnosing and Fixing Common Join Problems\\n        ', '\\n          Joins Using data.table Syntax\\n        ', '\\n          Concatenating and Reshaping data.tables\\n        ', '\\n          Joining Multiple data.tables \\n        ', '\\n          Joins Using data.table Syntax\\n        ', '\\n          Diagnosing and Fixing Common Join Problems\\n        ', '\\n          Concatenating and Reshaping data.tables\\n        ']\n"
     ]
    },
    {
     "name": "stderr",
     "output_type": "stream",
     "text": [
      "2020-07-23 19:43:55 [scrapy.core.engine] DEBUG: Crawled (200) <GET https://www.datacamp.com/courses/building-dashboards-with-shinydashboard> (referer: https://www.datacamp.com/courses/all)\n"
     ]
    },
    {
     "name": "stdout",
     "output_type": "stream",
     "text": [
      "['Building Static Dashboards', 'Customizing Style', 'Building Dynamic Dashboards', 'Case Study', 'Building Static Dashboards', 'Building Dynamic Dashboards', 'Customizing Style', 'Case Study']\n",
      "['\\n          Building Static Dashboards\\n        ', '\\n          Customizing Style\\n        ', '\\n          Building Dynamic Dashboards\\n        ', '\\n          Case Study\\n        ', '\\n          Building Static Dashboards\\n        ', '\\n          Building Dynamic Dashboards\\n        ', '\\n          Customizing Style\\n        ', '\\n          Case Study\\n        ']\n"
     ]
    },
    {
     "name": "stderr",
     "output_type": "stream",
     "text": [
      "2020-07-23 19:43:57 [scrapy.core.engine] DEBUG: Crawled (200) <GET https://www.datacamp.com/courses/chip-seq-with-bioconductor-in-r> (referer: https://www.datacamp.com/courses/all)\n",
      "2020-07-23 19:43:57 [scrapy.core.engine] DEBUG: Crawled (200) <GET https://www.datacamp.com/courses/foundations-of-functional-programming-with-purrr> (referer: https://www.datacamp.com/courses/all)\n"
     ]
    },
    {
     "name": "stdout",
     "output_type": "stream",
     "text": [
      "['Introduction to ChIP-seq', 'Comparing ChIP-seq samples', 'Back to Basics - Preparing ChIP-seq data', 'From Peaks to Genes to Function', 'Introduction to ChIP-seq', 'Back to Basics - Preparing ChIP-seq data', 'Comparing ChIP-seq samples', 'From Peaks to Genes to Function']\n",
      "['\\n          Introduction to ChIP-seq\\n        ', '\\n          Comparing ChIP-seq samples\\n        ', '\\n          Back to Basics - Preparing ChIP-seq data\\n        ', '\\n          From Peaks to Genes to Function\\n        ', '\\n          Introduction to ChIP-seq\\n        ', '\\n          Back to Basics - Preparing ChIP-seq data\\n        ', '\\n          Comparing ChIP-seq samples\\n        ', '\\n          From Peaks to Genes to Function\\n        ']\n",
      "['Simplifying Iteration and Lists With purrr', 'Troubleshooting lists with purrr', 'More complex iterations', 'Problem solving with purrr', 'Simplifying Iteration and Lists With purrr', 'More complex iterations', 'Troubleshooting lists with purrr', 'Problem solving with purrr']\n",
      "['\\n          Simplifying Iteration and Lists With purrr\\n        ', '\\n          Troubleshooting lists with purrr\\n        ', '\\n          More complex iterations\\n        ', '\\n          Problem solving with purrr\\n        ', '\\n          Simplifying Iteration and Lists With purrr\\n        ', '\\n          More complex iterations\\n        ', '\\n          Troubleshooting lists with purrr\\n        ', '\\n          Problem solving with purrr\\n        ']\n"
     ]
    },
    {
     "name": "stderr",
     "output_type": "stream",
     "text": [
      "2020-07-23 19:43:58 [scrapy.core.engine] DEBUG: Crawled (200) <GET https://www.datacamp.com/courses/modeling-with-data-in-the-tidyverse> (referer: https://www.datacamp.com/courses/all)\n",
      "2020-07-23 19:43:58 [scrapy.core.engine] DEBUG: Crawled (200) <GET https://www.datacamp.com/courses/communicating-with-data-in-the-tidyverse> (referer: https://www.datacamp.com/courses/all)\n",
      "2020-07-23 19:43:58 [scrapy.core.engine] DEBUG: Crawled (200) <GET https://www.datacamp.com/courses/introduction-to-linear-modeling-in-python> (referer: https://www.datacamp.com/courses/all)\n"
     ]
    },
    {
     "name": "stdout",
     "output_type": "stream",
     "text": [
      "['Introduction to Modeling', 'Modeling with Multiple Regression', 'Modeling with Basic Regression', 'Model Assessment and Selection', 'Introduction to Modeling', 'Modeling with Basic Regression', 'Modeling with Multiple Regression', 'Model Assessment and Selection']\n",
      "['\\n          Introduction to Modeling\\n        ', '\\n          Modeling with Multiple Regression\\n        ', '\\n          Modeling with Basic Regression\\n        ', '\\n          Model Assessment and Selection\\n        ', '\\n          Introduction to Modeling\\n        ', '\\n          Modeling with Basic Regression\\n        ', '\\n          Modeling with Multiple Regression\\n        ', '\\n          Model Assessment and Selection\\n        ']\n",
      "['Custom ggplot2 themes', 'Introduction to RMarkdown', 'Creating a custom and unique visualization', 'Customizing your RMarkdown report', 'Custom ggplot2 themes', 'Creating a custom and unique visualization', 'Introduction to RMarkdown', 'Customizing your RMarkdown report']\n",
      "['\\n          Custom ggplot2 themes\\n        ', '\\n           Introduction to RMarkdown\\n        ', '\\n          Creating a custom and unique visualization\\n        ', '\\n          Customizing your RMarkdown report\\n        ', '\\n          Custom ggplot2 themes\\n        ', '\\n          Creating a custom and unique visualization\\n        ', '\\n           Introduction to RMarkdown\\n        ', '\\n          Customizing your RMarkdown report\\n        ']\n",
      "['Exploring Linear Trends', 'Making Model Predictions', 'Building Linear Models', 'Estimating Model Parameters', 'Exploring Linear Trends', 'Building Linear Models', 'Making Model Predictions', 'Estimating Model Parameters']\n",
      "['\\n          Exploring Linear Trends\\n        ', '\\n          Making Model Predictions\\n        ', '\\n          Building Linear Models\\n        ', '\\n          Estimating Model Parameters\\n        ', '\\n          Exploring Linear Trends\\n        ', '\\n          Building Linear Models\\n        ', '\\n          Making Model Predictions\\n        ', '\\n          Estimating Model Parameters\\n        ']\n"
     ]
    },
    {
     "name": "stderr",
     "output_type": "stream",
     "text": [
      "2020-07-23 19:43:59 [scrapy.core.engine] DEBUG: Crawled (200) <GET https://www.datacamp.com/courses/building-dashboards-with-flexdashboard> (referer: https://www.datacamp.com/courses/all)\n",
      "2020-07-23 19:43:59 [scrapy.core.engine] DEBUG: Crawled (200) <GET https://www.datacamp.com/courses/introduction-to-using-mongodb-for-data-science-with-python> (referer: https://www.datacamp.com/courses/all)\n"
     ]
    },
    {
     "name": "stdout",
     "output_type": "stream",
     "text": [
      "['Dashboard Layouts', 'Dashboard Components', 'Data Visualization for Dashboards', 'Adding Interactivity with Shiny', 'Dashboard Layouts', 'Data Visualization for Dashboards', 'Dashboard Components', 'Adding Interactivity with Shiny']\n",
      "['\\n          Dashboard Layouts\\n        ', '\\n          Dashboard Components\\n        ', '\\n          Data Visualization for Dashboards\\n        ', '\\n          Adding Interactivity with Shiny\\n        ', '\\n          Dashboard Layouts\\n        ', '\\n          Data Visualization for Dashboards\\n        ', '\\n          Dashboard Components\\n        ', '\\n          Adding Interactivity with Shiny\\n        ']\n",
      "['Flexibly Structured Data', 'Get Only What You Need, and Fast', 'Working with Distinct Values and Sets', 'Aggregation Pipelines: Let the Server Do It For You', 'Flexibly Structured Data', 'Working with Distinct Values and Sets', 'Get Only What You Need, and Fast', 'Aggregation Pipelines: Let the Server Do It For You']\n",
      "['\\n          Flexibly Structured Data\\n        ', '\\n          Get Only What You Need, and Fast\\n        ', '\\n          Working with Distinct Values and Sets\\n        ', '\\n          Aggregation Pipelines: Let the Server Do It For You\\n        ', '\\n          Flexibly Structured Data\\n        ', '\\n          Working with Distinct Values and Sets\\n        ', '\\n          Get Only What You Need, and Fast\\n        ', '\\n          Aggregation Pipelines: Let the Server Do It For You\\n        ']\n"
     ]
    },
    {
     "name": "stderr",
     "output_type": "stream",
     "text": [
      "2020-07-23 19:44:00 [scrapy.core.engine] DEBUG: Crawled (200) <GET https://www.datacamp.com/courses/interactive-data-visualization-with-plotly-in-r> (referer: https://www.datacamp.com/courses/all)\n"
     ]
    },
    {
     "name": "stdout",
     "output_type": "stream",
     "text": [
      "['Introduction to plotly', 'Advanced charts', 'Styling and customizing your graphics', 'Case Study', 'Introduction to plotly', 'Styling and customizing your graphics', 'Advanced charts', 'Case Study']\n",
      "['\\n          Introduction to plotly\\n        ', '\\n          Advanced charts\\n        ', '\\n          Styling and customizing your graphics\\n        ', '\\n          Case Study\\n        ', '\\n          Introduction to plotly\\n        ', '\\n          Styling and customizing your graphics\\n        ', '\\n          Advanced charts\\n        ', '\\n          Case Study\\n        ']\n"
     ]
    },
    {
     "name": "stderr",
     "output_type": "stream",
     "text": [
      "2020-07-23 19:44:01 [scrapy.core.engine] DEBUG: Crawled (200) <GET https://www.datacamp.com/courses/visualizing-big-data-with-trelliscope-in-r> (referer: https://www.datacamp.com/courses/all)\n"
     ]
    },
    {
     "name": "stdout",
     "output_type": "stream",
     "text": [
      "['General strategies for visualizing big data', 'Trelliscope in the Tidyverse', 'ggplot2 + TrelliscopeJS', 'Case Study: Exploring Montreal BIXI Bike Data', 'General strategies for visualizing big data', 'ggplot2 + TrelliscopeJS', 'Trelliscope in the Tidyverse', 'Case Study: Exploring Montreal BIXI Bike Data']\n",
      "['\\n          General strategies for visualizing big data\\n        ', '\\n          Trelliscope in the Tidyverse\\n        ', '\\n          ggplot2 + TrelliscopeJS\\n        ', '\\n          Case Study: Exploring Montreal BIXI Bike Data\\n        ', '\\n          General strategies for visualizing big data\\n        ', '\\n          ggplot2 + TrelliscopeJS\\n        ', '\\n          Trelliscope in the Tidyverse\\n        ', '\\n          Case Study: Exploring Montreal BIXI Bike Data\\n        ']\n"
     ]
    },
    {
     "name": "stderr",
     "output_type": "stream",
     "text": [
      "2020-07-23 19:44:01 [scrapy.core.engine] DEBUG: Crawled (200) <GET https://www.datacamp.com/courses/inference-for-categorical-data-in-r> (referer: https://www.datacamp.com/courses/all)\n"
     ]
    },
    {
     "name": "stdout",
     "output_type": "stream",
     "text": [
      "['Inference for a single parameter', 'Comparing many parameters: independence', 'Proportions: testing and power', 'Comparing many parameters: goodness of fit', 'Inference for a single parameter', 'Proportions: testing and power', 'Comparing many parameters: independence', 'Comparing many parameters: goodness of fit']\n",
      "['\\n          Inference for a single parameter\\n        ', '\\n          Comparing many parameters: independence\\n        ', '\\n          Proportions: testing and power\\n        ', '\\n          Comparing many parameters: goodness of fit\\n        ', '\\n          Inference for a single parameter\\n        ', '\\n          Proportions: testing and power\\n        ', '\\n          Comparing many parameters: independence\\n        ', '\\n          Comparing many parameters: goodness of fit\\n        ']\n"
     ]
    },
    {
     "name": "stderr",
     "output_type": "stream",
     "text": [
      "2020-07-23 19:44:02 [scrapy.core.engine] DEBUG: Crawled (200) <GET https://www.datacamp.com/courses/introduction-to-portfolio-risk-management-in-python> (referer: https://www.datacamp.com/courses/all)\n",
      "2020-07-23 19:44:02 [scrapy.core.engine] DEBUG: Crawled (200) <GET https://www.datacamp.com/courses/conda-essentials> (referer: https://www.datacamp.com/courses/all)\n"
     ]
    },
    {
     "name": "stdout",
     "output_type": "stream",
     "text": [
      "['Univariate Investment Risk and Returns', 'Factor Investing', 'Portfolio Investing', 'Value at Risk', 'Univariate Investment Risk and Returns', 'Portfolio Investing', 'Factor Investing', 'Value at Risk']\n",
      "['\\n          Univariate Investment Risk and Returns\\n        ', '\\n          Factor Investing\\n        ', '\\n          Portfolio Investing\\n        ', '\\n          Value at Risk\\n        ', '\\n          Univariate Investment Risk and Returns\\n        ', '\\n          Portfolio Investing\\n        ', '\\n          Factor Investing\\n        ', '\\n          Value at Risk\\n        ']\n",
      "['Installing Packages', 'Working with Environments', 'Utilizing Channels', 'Case Study on Using Environments', 'Installing Packages', 'Utilizing Channels', 'Working with Environments', 'Case Study on Using Environments']\n",
      "['\\n          Installing Packages\\n        ', '\\n          Working with Environments\\n        ', '\\n          Utilizing Channels\\n        ', '\\n          Case Study on Using Environments\\n        ', '\\n          Installing Packages\\n        ', '\\n          Utilizing Channels\\n        ', '\\n          Working with Environments\\n        ', '\\n          Case Study on Using Environments\\n        ']\n"
     ]
    },
    {
     "name": "stderr",
     "output_type": "stream",
     "text": [
      "2020-07-23 19:44:03 [scrapy.core.engine] DEBUG: Crawled (200) <GET https://www.datacamp.com/courses/cluster-analysis-in-r> (referer: https://www.datacamp.com/courses/all)\n",
      "2020-07-23 19:44:03 [scrapy.core.engine] DEBUG: Crawled (200) <GET https://www.datacamp.com/courses/introduction-to-financial-concepts-in-python> (referer: https://www.datacamp.com/courses/all)\n"
     ]
    },
    {
     "name": "stdout",
     "output_type": "stream",
     "text": [
      "['Calculating distance between observations', 'K-means clustering', 'Hierarchical clustering', 'Case Study: National Occupational mean wage', 'Calculating distance between observations', 'Hierarchical clustering', 'K-means clustering', 'Case Study: National Occupational mean wage']\n",
      "['\\n          Calculating distance between observations\\n        ', '\\n          K-means clustering\\n        ', '\\n          Hierarchical clustering\\n        ', '\\n          Case Study: National Occupational mean wage\\n        ', '\\n          Calculating distance between observations\\n        ', '\\n          Hierarchical clustering\\n        ', '\\n          K-means clustering\\n        ', '\\n          Case Study: National Occupational mean wage\\n        ']\n",
      "['The Time Value of Money', 'Simulating a Mortgage Loan', 'Making Data-Driven Financial Decisions', 'Budgeting Application', 'The Time Value of Money', 'Making Data-Driven Financial Decisions', 'Simulating a Mortgage Loan', 'Budgeting Application']\n",
      "['\\n          The Time Value of Money\\n        ', '\\n          Simulating a Mortgage Loan\\n        ', '\\n           Making Data-Driven Financial Decisions\\n        ', '\\n          Budgeting Application\\n        ', '\\n          The Time Value of Money\\n        ', '\\n           Making Data-Driven Financial Decisions\\n        ', '\\n          Simulating a Mortgage Loan\\n        ', '\\n          Budgeting Application\\n        ']\n"
     ]
    },
    {
     "name": "stderr",
     "output_type": "stream",
     "text": [
      "2020-07-23 19:44:04 [scrapy.core.engine] DEBUG: Crawled (200) <GET https://www.datacamp.com/courses/python-for-r-users> (referer: https://www.datacamp.com/courses/all)\n",
      "2020-07-23 19:44:04 [scrapy.core.engine] DEBUG: Crawled (200) <GET https://www.datacamp.com/courses/introduction-to-git> (referer: https://www.datacamp.com/courses/all)\n"
     ]
    },
    {
     "name": "stdout",
     "output_type": "stream",
     "text": [
      "['The Basics', 'Pandas', 'Capstone', 'Control flow, Loops, and Functions', 'Plotting', 'The Basics', 'Control flow, Loops, and Functions', 'Pandas', 'Plotting', 'Capstone']\n",
      "['\\n          The Basics\\n        ', '\\n          Pandas\\n        ', '\\n          Capstone\\n        ', '\\n          Control flow, Loops, and Functions\\n        ', '\\n          Plotting\\n        ', '\\n          The Basics\\n        ', '\\n          Control flow, Loops, and Functions\\n        ', '\\n          Pandas\\n        ', '\\n          Plotting\\n        ', '\\n          Capstone\\n        ']\n",
      "['Basic workflow', 'Undo', 'Collaborating', 'Repositories', 'Working with branches', 'Basic workflow', 'Repositories', 'Undo', 'Working with branches', 'Collaborating']\n",
      "['\\n          Basic workflow\\n        ', '\\n          Undo\\n        ', '\\n          Collaborating\\n        ', '\\n          Repositories\\n        ', '\\n          Working with branches\\n        ', '\\n          Basic workflow\\n        ', '\\n          Repositories\\n        ', '\\n          Undo\\n        ', '\\n          Working with branches\\n        ', '\\n          Collaborating\\n        ']\n"
     ]
    },
    {
     "name": "stderr",
     "output_type": "stream",
     "text": [
      "2020-07-23 19:44:06 [scrapy.core.engine] DEBUG: Crawled (200) <GET https://www.datacamp.com/courses/fundamentals-of-bayesian-data-analysis-in-r> (referer: https://www.datacamp.com/courses/all)\n"
     ]
    },
    {
     "name": "stdout",
     "output_type": "stream",
     "text": [
      "['What is Bayesian Data Analysis?', 'Why use Bayesian Data Analysis?', 'More parameters, more data, and more Bayes', 'How does Bayesian inference work?', \"Bayesian inference with Bayes' theorem\", 'What is Bayesian Data Analysis?', 'How does Bayesian inference work?', 'Why use Bayesian Data Analysis?', \"Bayesian inference with Bayes' theorem\", 'More parameters, more data, and more Bayes']\n",
      "['\\n          What is Bayesian Data Analysis?\\n        ', '\\n          Why use Bayesian Data Analysis?\\n        ', '\\n          More parameters, more data, and more Bayes\\n        ', '\\n          How does Bayesian inference work?\\n        ', \"\\n          Bayesian inference with Bayes' theorem\\n        \", '\\n          What is Bayesian Data Analysis?\\n        ', '\\n          How does Bayesian inference work?\\n        ', '\\n          Why use Bayesian Data Analysis?\\n        ', \"\\n          Bayesian inference with Bayes' theorem\\n        \", '\\n          More parameters, more data, and more Bayes\\n        ']\n"
     ]
    },
    {
     "name": "stderr",
     "output_type": "stream",
     "text": [
      "2020-07-23 19:44:06 [scrapy.core.engine] DEBUG: Crawled (200) <GET https://www.datacamp.com/courses/data-manipulation-with-datatable-in-r> (referer: https://www.datacamp.com/courses/all)\n"
     ]
    },
    {
     "name": "stdout",
     "output_type": "stream",
     "text": [
      "['Introduction to data.table', 'Groupwise Operations', 'Importing and Exporting Data', 'Selecting and Computing on Columns', 'Reference Semantics', 'Introduction to data.table', 'Selecting and Computing on Columns', 'Groupwise Operations', 'Reference Semantics', 'Importing and Exporting Data']\n",
      "['\\n          Introduction to data.table\\n        ', '\\n          Groupwise Operations\\n        ', '\\n          Importing and Exporting Data\\n        ', '\\n          Selecting and Computing on Columns\\n        ', '\\n          Reference Semantics\\n        ', '\\n          Introduction to data.table\\n        ', '\\n          Selecting and Computing on Columns\\n        ', '\\n          Groupwise Operations\\n        ', '\\n          Reference Semantics\\n        ', '\\n          Importing and Exporting Data\\n        ']\n"
     ]
    },
    {
     "name": "stderr",
     "output_type": "stream",
     "text": [
      "2020-07-23 19:44:06 [scrapy.extensions.logstats] INFO: Crawled 261 pages (at 109 pages/min), scraped 0 items (at 0 items/min)\n",
      "2020-07-23 19:44:07 [scrapy.core.engine] DEBUG: Crawled (200) <GET https://www.datacamp.com/courses/working-with-dates-and-times-in-r> (referer: https://www.datacamp.com/courses/all)\n",
      "2020-07-23 19:44:07 [scrapy.core.engine] DEBUG: Crawled (200) <GET https://www.datacamp.com/courses/inference-for-numerical-data-in-r> (referer: https://www.datacamp.com/courses/all)\n"
     ]
    },
    {
     "name": "stdout",
     "output_type": "stream",
     "text": [
      "['Dates and Times in R', 'Arithmetic with Dates and Times', 'Parsing and Manipulating Dates and Times with lubridate', 'Problems in practice', 'Dates and Times in R', 'Parsing and Manipulating Dates and Times with lubridate', 'Arithmetic with Dates and Times', 'Problems in practice']\n",
      "['\\n          Dates and Times in R\\n        ', '\\n          Arithmetic with Dates and Times\\n        ', '\\n          Parsing and Manipulating Dates and Times with lubridate\\n        ', '\\n          Problems in practice\\n        ', '\\n          Dates and Times in R\\n        ', '\\n          Parsing and Manipulating Dates and Times with lubridate\\n        ', '\\n          Arithmetic with Dates and Times\\n        ', '\\n          Problems in practice\\n        ']\n",
      "['Bootstrapping for estimating a parameter', 'Inference for difference in two parameters', 'Introducing the t-distribution', 'Comparing many means', 'Bootstrapping for estimating a parameter', 'Introducing the t-distribution', 'Inference for difference in two parameters', 'Comparing many means']\n",
      "['\\n          Bootstrapping for estimating a parameter\\n        ', '\\n          Inference for difference in two parameters\\n        ', '\\n          Introducing the t-distribution\\n        ', '\\n          Comparing many means\\n        ', '\\n          Bootstrapping for estimating a parameter\\n        ', '\\n          Introducing the t-distribution\\n        ', '\\n          Inference for difference in two parameters\\n        ', '\\n          Comparing many means\\n        ']\n"
     ]
    },
    {
     "name": "stderr",
     "output_type": "stream",
     "text": [
      "2020-07-23 19:44:08 [scrapy.core.engine] DEBUG: Crawled (200) <GET https://www.datacamp.com/courses/developing-r-packages> (referer: https://www.datacamp.com/courses/all)\n",
      "2020-07-23 19:44:08 [scrapy.core.engine] DEBUG: Crawled (200) <GET https://www.datacamp.com/courses/visualizing-time-series-data-in-python> (referer: https://www.datacamp.com/courses/all)\n",
      "2020-07-23 19:44:08 [scrapy.core.engine] DEBUG: Crawled (200) <GET https://www.datacamp.com/courses/introduction-to-shell> (referer: https://www.datacamp.com/courses/all)\n"
     ]
    },
    {
     "name": "stdout",
     "output_type": "stream",
     "text": [
      "['The R Package Structure', 'Checking and Building R Packages', 'Documenting Packages', 'Adding Unit Tests to R Packages', 'The R Package Structure', 'Documenting Packages', 'Checking and Building R Packages', 'Adding Unit Tests to R Packages']\n",
      "['\\n          The R Package Structure\\n        ', '\\n          Checking and Building R Packages\\n        ', '\\n          Documenting Packages\\n        ', '\\n          Adding Unit Tests to R Packages\\n        ', '\\n          The R Package Structure\\n        ', '\\n          Documenting Packages\\n        ', '\\n          Checking and Building R Packages\\n        ', '\\n          Adding Unit Tests to R Packages\\n        ']\n",
      "['Introduction', 'Seasonality, Trend and Noise', 'Case Study', 'Summary Statistics and Diagnostics', 'Work with Multiple Time Series', 'Introduction', 'Summary Statistics and Diagnostics', 'Seasonality, Trend and Noise', 'Work with Multiple Time Series', 'Case Study']\n",
      "['\\n          Introduction\\n        ', '\\n          Seasonality, Trend and Noise\\n        ', '\\n          Case Study\\n        ', '\\n          Summary Statistics and Diagnostics\\n        ', '\\n          Work with Multiple Time Series\\n        ', '\\n          Introduction\\n        ', '\\n          Summary Statistics and Diagnostics\\n        ', '\\n          Seasonality, Trend and Noise\\n        ', '\\n          Work with Multiple Time Series\\n        ', '\\n          Case Study\\n        ']\n",
      "['Manipulating files and directories', 'Combining tools', 'Creating new tools', 'Manipulating data', 'Batch processing', 'Manipulating files and directories', 'Manipulating data', 'Combining tools', 'Batch processing', 'Creating new tools']\n",
      "['\\n          Manipulating files and directories\\n        ', '\\n          Combining tools\\n        ', '\\n          Creating new tools\\n        ', '\\n          Manipulating data\\n        ', '\\n          Batch processing\\n        ', '\\n          Manipulating files and directories\\n        ', '\\n          Manipulating data\\n        ', '\\n          Combining tools\\n        ', '\\n          Batch processing\\n        ', '\\n          Creating new tools\\n        ']\n"
     ]
    },
    {
     "name": "stderr",
     "output_type": "stream",
     "text": [
      "2020-07-23 19:44:09 [scrapy.core.engine] DEBUG: Crawled (200) <GET https://www.datacamp.com/courses/introduction-to-the-tidyverse> (referer: https://www.datacamp.com/courses/all)\n"
     ]
    },
    {
     "name": "stdout",
     "output_type": "stream",
     "text": [
      "['Data wrangling', 'Grouping and summarizing', 'Data visualization', 'Types of visualizations', 'Data wrangling', 'Data visualization', 'Grouping and summarizing', 'Types of visualizations']\n",
      "['\\n          Data wrangling\\n        ', '\\n          Grouping and summarizing\\n        ', '\\n          Data visualization\\n        ', '\\n          Types of visualizations\\n        ', '\\n          Data wrangling\\n        ', '\\n          Data visualization\\n        ', '\\n          Grouping and summarizing\\n        ', '\\n          Types of visualizations\\n        ']\n"
     ]
    },
    {
     "name": "stderr",
     "output_type": "stream",
     "text": [
      "2020-07-23 19:44:10 [scrapy.core.engine] DEBUG: Crawled (200) <GET https://www.datacamp.com/courses/introduction-to-pyspark> (referer: https://www.datacamp.com/courses/all)\n"
     ]
    },
    {
     "name": "stdout",
     "output_type": "stream",
     "text": [
      "['Getting to know PySpark', 'Getting started with machine learning pipelines', 'Manipulating data', 'Model tuning and selection', 'Getting to know PySpark', 'Manipulating data', 'Getting started with machine learning pipelines', 'Model tuning and selection']\n",
      "['\\n          Getting to know PySpark\\n        ', '\\n          Getting started with machine learning pipelines\\n        ', '\\n          Manipulating data\\n        ', '\\n          Model tuning and selection\\n        ', '\\n          Getting to know PySpark\\n        ', '\\n          Manipulating data\\n        ', '\\n          Getting started with machine learning pipelines\\n        ', '\\n          Model tuning and selection\\n        ']\n"
     ]
    },
    {
     "name": "stderr",
     "output_type": "stream",
     "text": [
      "2020-07-23 19:44:10 [scrapy.core.engine] DEBUG: Crawled (200) <GET https://www.datacamp.com/courses/network-analysis-in-r> (referer: https://www.datacamp.com/courses/all)\n"
     ]
    },
    {
     "name": "stdout",
     "output_type": "stream",
     "text": [
      "['Introduction to networks', 'Characterizing network structures', 'Identifying important vertices in a network', 'Identifying special relationships', 'Introduction to networks', 'Identifying important vertices in a network', 'Characterizing network structures', 'Identifying special relationships']\n",
      "['\\n          Introduction to networks\\n        ', '\\n          Characterizing network structures\\n        ', '\\n          Identifying important vertices in a network\\n        ', '\\n          Identifying special relationships\\n        ', '\\n          Introduction to networks\\n        ', '\\n          Identifying important vertices in a network\\n        ', '\\n          Characterizing network structures\\n        ', '\\n          Identifying special relationships\\n        ']\n"
     ]
    },
    {
     "name": "stderr",
     "output_type": "stream",
     "text": [
      "2020-07-23 19:44:11 [scrapy.core.engine] DEBUG: Crawled (200) <GET https://www.datacamp.com/courses/joining-data-in-postgresql> (referer: https://www.datacamp.com/courses/all)\n",
      "2020-07-23 19:44:11 [scrapy.core.engine] DEBUG: Crawled (200) <GET https://www.datacamp.com/courses/parallel-programming-with-dask-in-python> (referer: https://www.datacamp.com/courses/all)\n"
     ]
    },
    {
     "name": "stdout",
     "output_type": "stream",
     "text": [
      "['Introduction to joins', 'Set theory clauses', 'Outer joins and cross joins', 'Subqueries', 'Introduction to joins', 'Outer joins and cross joins', 'Set theory clauses', 'Subqueries']\n",
      "['\\n          Introduction to joins\\n        ', '\\n          Set theory clauses\\n        ', '\\n          Outer joins and cross joins\\n        ', '\\n          Subqueries\\n        ', '\\n          Introduction to joins\\n        ', '\\n          Outer joins and cross joins\\n        ', '\\n          Set theory clauses\\n        ', '\\n          Subqueries\\n        ']\n",
      "['Working with Big Data', 'Working with Dask DataFrames', 'Case Study: Analyzing Flight Delays', 'Working with Dask Arrays', 'Working with Dask Bags for Unstructured Data', 'Working with Big Data', 'Working with Dask Arrays', 'Working with Dask DataFrames', 'Working with Dask Bags for Unstructured Data', 'Case Study: Analyzing Flight Delays']\n",
      "['\\n          Working with Big Data\\n        ', '\\n          Working with Dask DataFrames\\n        ', '\\n          Case Study: Analyzing Flight Delays\\n        ', '\\n          Working with Dask Arrays\\n        ', '\\n          Working with Dask Bags for Unstructured Data\\n        ', '\\n          Working with Big Data\\n        ', '\\n          Working with Dask Arrays\\n        ', '\\n          Working with Dask DataFrames\\n        ', '\\n          Working with Dask Bags for Unstructured Data\\n        ', '\\n          Case Study: Analyzing Flight Delays\\n        ']\n"
     ]
    },
    {
     "name": "stderr",
     "output_type": "stream",
     "text": [
      "2020-07-23 19:44:11 [scrapy.core.engine] DEBUG: Crawled (200) <GET https://www.datacamp.com/courses/spatial-analysis-with-sf-and-raster-in-r> (referer: https://www.datacamp.com/courses/all)\n",
      "2020-07-23 19:44:11 [scrapy.core.engine] DEBUG: Crawled (200) <GET https://www.datacamp.com/courses/time-series-analysis-in-python> (referer: https://www.datacamp.com/courses/all)\n"
     ]
    },
    {
     "name": "stdout",
     "output_type": "stream",
     "text": [
      "['Vector and Raster Spatial Data in R', 'Conducting spatial analysis with the sf and raster packages', 'Preparing layers for spatial analysis', 'Combine your new skills into a mini-analysis', 'Vector and Raster Spatial Data in R', 'Preparing layers for spatial analysis', 'Conducting spatial analysis with the sf and raster packages', 'Combine your new skills into a mini-analysis']\n",
      "['\\n          Vector and Raster Spatial Data in R\\n        ', '\\n          Conducting spatial analysis with the sf and raster packages\\n        ', '\\n          Preparing layers for spatial analysis\\n        ', '\\n          Combine your new skills into a mini-analysis\\n        ', '\\n          Vector and Raster Spatial Data in R\\n        ', '\\n          Preparing layers for spatial analysis\\n        ', '\\n          Conducting spatial analysis with the sf and raster packages\\n        ', '\\n          Combine your new skills into a mini-analysis\\n        ']\n",
      "['Correlation and Autocorrelation', 'Autoregressive (AR) Models', 'Putting It All Together', 'Some Simple Time Series', 'Moving Average (MA) and ARMA Models', 'Correlation and Autocorrelation', 'Some Simple Time Series', 'Autoregressive (AR) Models', 'Moving Average (MA) and ARMA Models', 'Putting It All Together']\n",
      "['\\n          Correlation and Autocorrelation\\n        ', '\\n          Autoregressive (AR) Models\\n        ', '\\n          Putting It All Together\\n        ', '\\n          Some Simple Time Series\\n        ', '\\n          Moving Average (MA) and ARMA Models\\n        ', '\\n          Correlation and Autocorrelation\\n        ', '\\n          Some Simple Time Series\\n        ', '\\n          Autoregressive (AR) Models\\n        ', '\\n          Moving Average (MA) and ARMA Models\\n        ', '\\n          Putting It All Together\\n        ']\n"
     ]
    },
    {
     "name": "stderr",
     "output_type": "stream",
     "text": [
      "2020-07-23 19:44:12 [scrapy.core.engine] DEBUG: Crawled (200) <GET https://www.datacamp.com/courses/case-studies-in-statistical-thinking> (referer: https://www.datacamp.com/courses/all)\n"
     ]
    },
    {
     "name": "stdout",
     "output_type": "stream",
     "text": [
      "['Fish sleep and bacteria growth: A review of Statistical Thinking I and II', 'The \"Current Controversy\" of the 2013 World Championships', 'Earthquakes and oil mining in Oklahoma', 'Analysis of results of the 2015 FINA World Swimming Championships', 'Statistical seismology and the Parkfield region', 'Fish sleep and bacteria growth: A review of Statistical Thinking I and II', 'Analysis of results of the 2015 FINA World Swimming Championships', 'The \"Current Controversy\" of the 2013 World Championships', 'Statistical seismology and the Parkfield region', 'Earthquakes and oil mining in Oklahoma']\n",
      "['\\n          Fish sleep and bacteria growth: A review of Statistical Thinking I and II\\n        ', '\\n          The \"Current Controversy\" of the 2013 World Championships\\n        ', '\\n          Earthquakes and oil mining in Oklahoma\\n        ', '\\n          Analysis of results of the 2015 FINA World Swimming Championships\\n        ', '\\n          Statistical seismology and the Parkfield region\\n        ', '\\n          Fish sleep and bacteria growth: A review of Statistical Thinking I and II\\n        ', '\\n          Analysis of results of the 2015 FINA World Swimming Championships\\n        ', '\\n          The \"Current Controversy\" of the 2013 World Championships\\n        ', '\\n          Statistical seismology and the Parkfield region\\n        ', '\\n          Earthquakes and oil mining in Oklahoma\\n        ']\n"
     ]
    },
    {
     "name": "stderr",
     "output_type": "stream",
     "text": [
      "2020-07-23 19:44:12 [scrapy.core.engine] DEBUG: Crawled (200) <GET https://www.datacamp.com/courses/manipulating-time-series-data-in-python> (referer: https://www.datacamp.com/courses/all)\n"
     ]
    },
    {
     "name": "stdout",
     "output_type": "stream",
     "text": [
      "['Working with Time Series in Pandas', 'Window Functions: Rolling & Expanding Metrics', 'Basic Time Series Metrics & Resampling', 'Putting it all together: Building a value-weighted index', 'Working with Time Series in Pandas', 'Basic Time Series Metrics & Resampling', 'Window Functions: Rolling & Expanding Metrics', 'Putting it all together: Building a value-weighted index']\n",
      "['\\n          Working with Time Series in Pandas\\n        ', '\\n          Window Functions: Rolling & Expanding Metrics\\n        ', '\\n          Basic Time Series Metrics & Resampling\\n        ', '\\n          \\nPutting it all together: Building a value-weighted index\\n        ', '\\n          Working with Time Series in Pandas\\n        ', '\\n          Basic Time Series Metrics & Resampling\\n        ', '\\n          Window Functions: Rolling & Expanding Metrics\\n        ', '\\n          \\nPutting it all together: Building a value-weighted index\\n        ']\n"
     ]
    },
    {
     "name": "stderr",
     "output_type": "stream",
     "text": [
      "2020-07-23 19:44:13 [scrapy.core.engine] DEBUG: Crawled (200) <GET https://www.datacamp.com/courses/optimizing-r-code-with-rcpp> (referer: https://www.datacamp.com/courses/all)\n"
     ]
    },
    {
     "name": "stdout",
     "output_type": "stream",
     "text": [
      "['Introduction', 'Vector classes', 'Functions and Control Flow', 'Case Studies', 'Introduction', 'Functions and Control Flow', 'Vector classes', 'Case Studies']\n",
      "['\\n          Introduction\\n        ', '\\n          Vector classes\\n        ', '\\n          Functions and Control Flow\\n        ', '\\n          Case Studies\\n        ', '\\n          Introduction\\n        ', '\\n          Functions and Control Flow\\n        ', '\\n          Vector classes\\n        ', '\\n          Case Studies\\n        ']\n"
     ]
    },
    {
     "name": "stderr",
     "output_type": "stream",
     "text": [
      "2020-07-23 19:44:14 [scrapy.core.engine] DEBUG: Crawled (200) <GET https://www.datacamp.com/courses/case-studies-building-web-applications-with-shiny-in-r> (referer: https://www.datacamp.com/courses/all)\n",
      "2020-07-23 19:44:15 [scrapy.core.engine] DEBUG: Crawled (200) <GET https://www.datacamp.com/courses/extreme-gradient-boosting-with-xgboost> (referer: https://www.datacamp.com/courses/all)\n"
     ]
    },
    {
     "name": "stdout",
     "output_type": "stream",
     "text": [
      "['Shiny review', 'Explore a dataset interactively with Shiny', 'Make the perfect plot using Shiny', 'Create your own word cloud in Shiny', 'Shiny review', 'Make the perfect plot using Shiny', 'Explore a dataset interactively with Shiny', 'Create your own word cloud in Shiny']\n",
      "['\\n          Shiny review\\n        ', '\\n          Explore a dataset interactively with Shiny\\n        ', '\\n          Make the perfect plot using Shiny\\n        ', '\\n          Create your own word cloud in Shiny\\n        ', '\\n          Shiny review\\n        ', '\\n          Make the perfect plot using Shiny\\n        ', '\\n          Explore a dataset interactively with Shiny\\n        ', '\\n          Create your own word cloud in Shiny\\n        ']\n"
     ]
    },
    {
     "name": "stderr",
     "output_type": "stream",
     "text": [
      "2020-07-23 19:44:15 [scrapy.core.engine] DEBUG: Crawled (200) <GET https://www.datacamp.com/courses/equity-valuation-in-r> (referer: https://www.datacamp.com/courses/all)\n"
     ]
    },
    {
     "name": "stdout",
     "output_type": "stream",
     "text": [
      "['Classification with XGBoost', 'Fine-tuning your XGBoost model', 'Regression with XGBoost', 'Using XGBoost in pipelines', 'Classification with XGBoost', 'Regression with XGBoost', 'Fine-tuning your XGBoost model', 'Using XGBoost in pipelines']\n",
      "['\\n          Classification with XGBoost\\n        ', '\\n          Fine-tuning your XGBoost model\\n        ', '\\n          Regression with XGBoost\\n        ', '\\n          Using XGBoost in pipelines\\n        ', '\\n          Classification with XGBoost\\n        ', '\\n          Regression with XGBoost\\n        ', '\\n          Fine-tuning your XGBoost model\\n        ', '\\n          Using XGBoost in pipelines\\n        ']\n",
      "['Present Value Approaches', 'Discount Rate / Cost of Capital Estimation', 'Comprehensive Exercise', 'Perpetuity Growth Rate, Analyzing Projections, and Using a Dividend Discount Model', 'Relative Valuation', 'Present Value Approaches', 'Perpetuity Growth Rate, Analyzing Projections, and Using a Dividend Discount Model', 'Discount Rate / Cost of Capital Estimation', 'Relative Valuation', 'Comprehensive Exercise']\n",
      "['\\n          Present Value Approaches\\n        ', '\\n          Discount Rate / Cost of Capital Estimation\\n        ', '\\n          Comprehensive Exercise\\n        ', '\\n          Perpetuity Growth Rate, Analyzing Projections, and Using a Dividend Discount Model\\n        ', '\\n          Relative Valuation\\n        ', '\\n          Present Value Approaches\\n        ', '\\n          Perpetuity Growth Rate, Analyzing Projections, and Using a Dividend Discount Model\\n        ', '\\n          Discount Rate / Cost of Capital Estimation\\n        ', '\\n          Relative Valuation\\n        ', '\\n          Comprehensive Exercise\\n        ']\n"
     ]
    },
    {
     "name": "stderr",
     "output_type": "stream",
     "text": [
      "2020-07-23 19:44:15 [scrapy.core.engine] DEBUG: Crawled (200) <GET https://www.datacamp.com/courses/importing-and-managing-financial-data-in-python> (referer: https://www.datacamp.com/courses/all)\n"
     ]
    },
    {
     "name": "stdout",
     "output_type": "stream",
     "text": [
      "['Importing stock listing data from Excel', 'Summarizing your data and visualizing the result', 'Importing financial data from the web', 'Aggregating and describing your data by category', 'Importing stock listing data from Excel', 'Importing financial data from the web', 'Summarizing your data and visualizing the result', 'Aggregating and describing your data by category']\n",
      "['\\n          Importing stock listing data from Excel\\n        ', '\\n          Summarizing your data and visualizing the result\\n        ', '\\n          Importing financial data from the web\\n        ', '\\n          \\nAggregating and describing your data by category\\n        ', '\\n          Importing stock listing data from Excel\\n        ', '\\n          Importing financial data from the web\\n        ', '\\n          Summarizing your data and visualizing the result\\n        ', '\\n          \\nAggregating and describing your data by category\\n        ']\n"
     ]
    },
    {
     "name": "stderr",
     "output_type": "stream",
     "text": [
      "2020-07-23 19:44:16 [scrapy.core.engine] DEBUG: Crawled (200) <GET https://www.datacamp.com/courses/building-chatbots-in-python> (referer: https://www.datacamp.com/courses/all)\n",
      "2020-07-23 19:44:16 [scrapy.core.engine] DEBUG: Crawled (200) <GET https://www.datacamp.com/courses/supervised-learning-in-r-regression> (referer: https://www.datacamp.com/courses/all)\n"
     ]
    },
    {
     "name": "stdout",
     "output_type": "stream",
     "text": [
      "['Chatbots 101', 'Building a virtual assistant', 'Understanding natural language', 'Dialogue', 'Chatbots 101', 'Understanding natural language', 'Building a virtual assistant', 'Dialogue']\n",
      "['\\n          Chatbots 101\\n        ', '\\n          Building a virtual assistant\\n        ', '\\n          Understanding natural language\\n        ', '\\n          Dialogue\\n        ', '\\n          Chatbots 101\\n        ', '\\n          Understanding natural language\\n        ', '\\n          Building a virtual assistant\\n        ', '\\n          Dialogue\\n        ']\n",
      "['What is Regression?', 'Issues to Consider', 'Tree-Based Methods', 'Training and Evaluating Regression Models', 'Dealing with Non-Linear Responses', 'What is Regression?', 'Training and Evaluating Regression Models', 'Issues to Consider', 'Dealing with Non-Linear Responses', 'Tree-Based Methods']\n",
      "['\\n          What is Regression?\\n        ', '\\n          Issues to Consider\\n        ', '\\n          Tree-Based Methods\\n        ', '\\n          Training and Evaluating Regression Models\\n        ', '\\n          Dealing with Non-Linear Responses\\n        ', '\\n          What is Regression?\\n        ', '\\n          Training and Evaluating Regression Models\\n        ', '\\n          Issues to Consider\\n        ', '\\n          Dealing with Non-Linear Responses\\n        ', '\\n          Tree-Based Methods\\n        ']\n"
     ]
    },
    {
     "name": "stderr",
     "output_type": "stream",
     "text": [
      "2020-07-23 19:44:17 [scrapy.core.engine] DEBUG: Crawled (200) <GET https://www.datacamp.com/courses/introduction-to-natural-language-processing-in-python> (referer: https://www.datacamp.com/courses/all)\n"
     ]
    },
    {
     "name": "stdout",
     "output_type": "stream",
     "text": [
      "['Regular expressions & word tokenization', 'Named-entity recognition', 'Simple topic identification', 'Building a \"fake news\" classifier', 'Regular expressions & word tokenization', 'Simple topic identification', 'Named-entity recognition', 'Building a \"fake news\" classifier']\n",
      "['\\n          Regular expressions & word tokenization\\n        ', '\\n          Named-entity recognition\\n        ', '\\n          Simple topic identification\\n        ', '\\n          Building a \"fake news\" classifier\\n        ', '\\n          Regular expressions & word tokenization\\n        ', '\\n          Simple topic identification\\n        ', '\\n          Named-entity recognition\\n        ', '\\n          Building a \"fake news\" classifier\\n        ']\n"
     ]
    },
    {
     "name": "stderr",
     "output_type": "stream",
     "text": [
      "2020-07-23 19:44:17 [scrapy.core.engine] DEBUG: Crawled (200) <GET https://www.datacamp.com/courses/inference-for-linear-regression-in-r> (referer: https://www.datacamp.com/courses/all)\n",
      "2020-07-23 19:44:17 [scrapy.core.engine] DEBUG: Crawled (200) <GET https://www.datacamp.com/courses/multiple-and-logistic-regression-in-r> (referer: https://www.datacamp.com/courses/all)\n"
     ]
    },
    {
     "name": "stdout",
     "output_type": "stream",
     "text": [
      "['Inferential ideas', 't-Based Inference For the Slope Parameter', 'Building on Inference in Simple Linear Regression', 'Simulation-based inference for the slope parameter', 'Technical Conditions in linear regression', 'Inferential ideas', 'Simulation-based inference for the slope parameter', 't-Based Inference For the Slope Parameter', 'Technical Conditions in linear regression', 'Building on Inference in Simple Linear Regression']\n",
      "['\\n          Inferential ideas\\n        ', '\\n          t-Based Inference For the Slope Parameter\\n        ', '\\n          Building on Inference in Simple Linear Regression\\n        ', '\\n          Simulation-based inference for the slope parameter\\n        ', '\\n          Technical Conditions in linear regression\\n        ', '\\n          Inferential ideas\\n        ', '\\n          Simulation-based inference for the slope parameter\\n        ', '\\n          t-Based Inference For the Slope Parameter\\n        ', '\\n          Technical Conditions in linear regression\\n        ', '\\n          Building on Inference in Simple Linear Regression\\n        ']\n",
      "['Parallel Slopes', 'Multiple Regression', 'Case Study: Italian restaurants in NYC', 'Evaluating and extending parallel slopes model', 'Logistic Regression', 'Parallel Slopes', 'Evaluating and extending parallel slopes model', 'Multiple Regression', 'Logistic Regression', 'Case Study: Italian restaurants in NYC']\n",
      "['\\n          Parallel Slopes\\n        ', '\\n          Multiple Regression\\n        ', '\\n          Case Study: Italian restaurants in NYC\\n        ', '\\n          Evaluating and extending parallel slopes model\\n        ', '\\n          Logistic Regression\\n        ', '\\n          Parallel Slopes\\n        ', '\\n          Evaluating and extending parallel slopes model\\n        ', '\\n          Multiple Regression\\n        ', '\\n          Logistic Regression\\n        ', '\\n          Case Study: Italian restaurants in NYC\\n        ']\n"
     ]
    },
    {
     "name": "stderr",
     "output_type": "stream",
     "text": [
      "2020-07-23 19:44:18 [scrapy.core.engine] DEBUG: Crawled (200) <GET https://www.datacamp.com/courses/data-types-for-data-science-in-python> (referer: https://www.datacamp.com/courses/all)\n",
      "2020-07-23 19:44:18 [scrapy.core.engine] DEBUG: Crawled (200) <GET https://www.datacamp.com/courses/introduction-to-spark-with-sparklyr-in-r> (referer: https://www.datacamp.com/courses/all)\n"
     ]
    },
    {
     "name": "stdout",
     "output_type": "stream",
     "text": [
      "['Fundamental data types', 'Meet the collections module', 'Answering Data Science Questions', 'Dictionaries - the root of Python', 'Handling Dates and Times', 'Fundamental data types', 'Dictionaries - the root of Python', 'Meet the collections module', 'Handling Dates and Times', 'Answering Data Science Questions']\n",
      "['\\n          Fundamental data types\\n        ', '\\n          Meet the collections module\\n        ', '\\n          Answering Data Science Questions\\n        ', '\\n          Dictionaries - the root of Python\\n        ', '\\n          Handling Dates and Times\\n        ', '\\n          Fundamental data types\\n        ', '\\n          Dictionaries - the root of Python\\n        ', '\\n          Meet the collections module\\n        ', '\\n          Handling Dates and Times\\n        ', '\\n          Answering Data Science Questions\\n        ']\n",
      "['Light My Fire: Starting To Use Spark With dplyr Syntax', 'Going Native: Use The Native Interface to Manipulate Spark DataFrames', 'Tools of the Trade: Advanced dplyr Usage', 'Case Study: Learning to be a Machine: Running Machine Learning Models on Spark', 'Light My Fire: Starting To Use Spark With dplyr Syntax', 'Tools of the Trade: Advanced dplyr Usage', 'Going Native: Use The Native Interface to Manipulate Spark DataFrames', 'Case Study: Learning to be a Machine: Running Machine Learning Models on Spark']\n",
      "['\\n          Light My Fire: Starting To Use Spark With dplyr Syntax\\n        ', '\\n          Going Native: Use The Native Interface to Manipulate Spark DataFrames\\n        ', '\\n          Tools of the Trade: Advanced dplyr Usage\\n        ', '\\n          Case Study: Learning to be a Machine: Running Machine Learning Models on Spark\\n        ', '\\n          Light My Fire: Starting To Use Spark With dplyr Syntax\\n        ', '\\n          Tools of the Trade: Advanced dplyr Usage\\n        ', '\\n          Going Native: Use The Native Interface to Manipulate Spark DataFrames\\n        ', '\\n          Case Study: Learning to be a Machine: Running Machine Learning Models on Spark\\n        ']\n"
     ]
    },
    {
     "name": "stderr",
     "output_type": "stream",
     "text": [
      "2020-07-23 19:44:20 [scrapy.core.engine] DEBUG: Crawled (200) <GET https://www.datacamp.com/courses/spatial-statistics-in-r> (referer: https://www.datacamp.com/courses/all)\n",
      "2020-07-23 19:44:20 [scrapy.core.engine] DEBUG: Crawled (200) <GET https://www.datacamp.com/courses/data-visualization-with-lattice-in-r> (referer: https://www.datacamp.com/courses/all)\n"
     ]
    },
    {
     "name": "stdout",
     "output_type": "stream",
     "text": [
      "['Introduction', 'Areal Statistics', 'Point Pattern Analysis', 'Geostatistics', 'Introduction', 'Point Pattern Analysis', 'Areal Statistics', 'Geostatistics']\n",
      "['\\n          Introduction\\n        ', '\\n          Areal Statistics\\n        ', '\\n          Point Pattern Analysis\\n        ', '\\n          Geostatistics\\n        ', '\\n          Introduction\\n        ', '\\n          Point Pattern Analysis\\n        ', '\\n          Areal Statistics\\n        ', '\\n          Geostatistics\\n        ']\n",
      "['Basic plotting with lattice', 'Controlling scales and graphical parameters', 'Extensions and the lattice ecosystem', 'Conditioning and the formula interface', 'Customizing plots using panel functions', 'Basic plotting with lattice', 'Conditioning and the formula interface', 'Controlling scales and graphical parameters', 'Customizing plots using panel functions', 'Extensions and the lattice ecosystem']\n",
      "['\\n          Basic plotting with lattice\\n        ', '\\n          Controlling scales and graphical parameters\\n        ', '\\n          Extensions and the lattice ecosystem\\n        ', '\\n          Conditioning and the formula interface\\n        ', '\\n          Customizing plots using panel functions\\n        ', '\\n          Basic plotting with lattice\\n        ', '\\n          Conditioning and the formula interface\\n        ', '\\n          Controlling scales and graphical parameters\\n        ', '\\n          Customizing plots using panel functions\\n        ', '\\n          Extensions and the lattice ecosystem\\n        ']\n"
     ]
    },
    {
     "name": "stderr",
     "output_type": "stream",
     "text": [
      "2020-07-23 19:44:20 [scrapy.core.engine] DEBUG: Crawled (200) <GET https://www.datacamp.com/courses/quantitative-risk-management-in-r> (referer: https://www.datacamp.com/courses/all)\n",
      "2020-07-23 19:44:20 [scrapy.core.engine] DEBUG: Crawled (200) <GET https://www.datacamp.com/courses/working-with-web-data-in-r> (referer: https://www.datacamp.com/courses/all)\n",
      "2020-07-23 19:44:20 [scrapy.core.engine] DEBUG: Crawled (200) <GET https://www.datacamp.com/courses/intermediate-network-analysis-in-python> (referer: https://www.datacamp.com/courses/all)\n",
      "2020-07-23 19:44:20 [scrapy.core.engine] DEBUG: Crawled (200) <GET https://www.datacamp.com/courses/tree-based-models-in-r> (referer: https://www.datacamp.com/courses/all)\n"
     ]
    },
    {
     "name": "stdout",
     "output_type": "stream",
     "text": [
      "['Exploring market risk-factor data', 'Real world returns are volatile and correlated', 'Real world returns are riskier than normal', 'Estimating portfolio value-at-risk (VaR)', 'Exploring market risk-factor data', 'Real world returns are riskier than normal', 'Real world returns are volatile and correlated', 'Estimating portfolio value-at-risk (VaR)']\n",
      "['\\n          Exploring market risk-factor data\\n        ', '\\n          Real world returns are volatile and correlated\\n        ', '\\n          Real world returns are riskier than normal\\n        ', '\\n          Estimating portfolio value-at-risk (VaR)\\n        ', '\\n          Exploring market risk-factor data\\n        ', '\\n          Real world returns are riskier than normal\\n        ', '\\n          Real world returns are volatile and correlated\\n        ', '\\n          Estimating portfolio value-at-risk (VaR)\\n        ']\n",
      "['Downloading Files and Using API Clients', 'Handling JSON and XML', 'CSS Web Scraping and Final Case Study', 'Using httr to interact with APIs directly', 'Web scraping with XPATHs', 'Downloading Files and Using API Clients', 'Using httr to interact with APIs directly', 'Handling JSON and XML', 'Web scraping with XPATHs', 'CSS Web Scraping and Final Case Study']\n",
      "['\\n          Downloading Files and Using API Clients\\n        ', '\\n          Handling JSON and XML\\n        ', '\\n          CSS Web Scraping and Final Case Study\\n        ', '\\n          Using httr to interact with APIs directly\\n        ', '\\n          Web scraping with XPATHs\\n        ', '\\n          Downloading Files and Using API Clients\\n        ', '\\n          Using httr to interact with APIs directly\\n        ', '\\n          Handling JSON and XML\\n        ', '\\n          Web scraping with XPATHs\\n        ', '\\n          CSS Web Scraping and Final Case Study\\n        ']\n",
      "['Bipartite graphs & product recommendation systems', 'Comparing graphs & time-dynamic graphs', 'Graph projections', 'Tying it up!', 'Bipartite graphs & product recommendation systems', 'Graph projections', 'Comparing graphs & time-dynamic graphs', 'Tying it up!']\n",
      "['\\n          Bipartite graphs & product recommendation systems\\n        ', '\\n          Comparing graphs & time-dynamic graphs\\n        ', '\\n          Graph projections\\n        ', '\\n          Tying it up!\\n        ', '\\n          Bipartite graphs & product recommendation systems\\n        ', '\\n          Graph projections\\n        ', '\\n          Comparing graphs & time-dynamic graphs\\n        ', '\\n          Tying it up!\\n        ']\n",
      "['Classification Trees', 'Bagged Trees', 'Boosted Trees', 'Regression Trees', 'Random Forests', 'Classification Trees', 'Regression Trees', 'Bagged Trees', 'Random Forests', 'Boosted Trees']\n",
      "['\\n          Classification Trees\\n        ', '\\n          Bagged Trees\\n        ', '\\n          Boosted Trees\\n        ', '\\n          Regression Trees\\n        ', '\\n          Random Forests\\n        ', '\\n          Classification Trees\\n        ', '\\n          Regression Trees\\n        ', '\\n          Bagged Trees\\n        ', '\\n          Random Forests\\n        ', '\\n          Boosted Trees\\n        ']\n"
     ]
    },
    {
     "name": "stderr",
     "output_type": "stream",
     "text": [
      "2020-07-23 19:44:21 [scrapy.core.engine] DEBUG: Crawled (200) <GET https://www.datacamp.com/courses/forecasting-in-r> (referer: https://www.datacamp.com/courses/all)\n"
     ]
    },
    {
     "name": "stdout",
     "output_type": "stream",
     "text": [
      "['Exploring and visualizing time series in R', 'Exponential smoothing', 'Advanced methods', 'Benchmark methods and forecast accuracy', 'Forecasting with ARIMA models', 'Exploring and visualizing time series in R', 'Benchmark methods and forecast accuracy', 'Exponential smoothing', 'Forecasting with ARIMA models', 'Advanced methods']\n",
      "['\\n          Exploring and visualizing time series in R\\n        ', '\\n          Exponential smoothing\\n        ', '\\n          Advanced methods\\n        ', '\\n          Benchmark methods and forecast accuracy\\n        ', '\\n          Forecasting with ARIMA models\\n        ', '\\n          Exploring and visualizing time series in R\\n        ', '\\n          Benchmark methods and forecast accuracy\\n        ', '\\n          Exponential smoothing\\n        ', '\\n          Forecasting with ARIMA models\\n        ', '\\n          Advanced methods\\n        ']\n"
     ]
    },
    {
     "name": "stderr",
     "output_type": "stream",
     "text": [
      "2020-07-23 19:44:22 [scrapy.core.engine] DEBUG: Crawled (200) <GET https://www.datacamp.com/courses/string-manipulation-with-stringr-in-r> (referer: https://www.datacamp.com/courses/all)\n",
      "2020-07-23 19:44:22 [scrapy.core.engine] DEBUG: Crawled (200) <GET https://www.datacamp.com/courses/writing-efficient-r-code> (referer: https://www.datacamp.com/courses/all)\n"
     ]
    },
    {
     "name": "stdout",
     "output_type": "stream",
     "text": [
      "['String basics', 'Pattern matching with regular expressions', 'Case studies', 'Introduction to stringr', 'More advanced matching and manipulation', 'String basics', 'Introduction to stringr', 'Pattern matching with regular expressions', 'More advanced matching and manipulation', 'Case studies']\n",
      "['\\n          String basics\\n        ', '\\n          Pattern matching with regular expressions\\n        ', '\\n          Case studies\\n        ', '\\n          Introduction to stringr\\n        ', '\\n          More advanced matching and manipulation\\n        ', '\\n          String basics\\n        ', '\\n          Introduction to stringr\\n        ', '\\n          Pattern matching with regular expressions\\n        ', '\\n          More advanced matching and manipulation\\n        ', '\\n          Case studies\\n        ']\n",
      "['The Art of Benchmarking', 'Diagnosing Problems: Code Profiling', 'Fine Tuning: Efficient Base R', 'Turbo Charged Code: Parallel Programming', 'The Art of Benchmarking', 'Fine Tuning: Efficient Base R', 'Diagnosing Problems: Code Profiling', 'Turbo Charged Code: Parallel Programming']\n",
      "['\\n          The Art of Benchmarking\\n        ', '\\n          Diagnosing Problems: Code Profiling\\n        ', '\\n          Fine Tuning: Efficient Base R\\n        ', '\\n          Turbo Charged Code: Parallel Programming\\n        ', '\\n          The Art of Benchmarking\\n        ', '\\n          Fine Tuning: Efficient Base R\\n        ', '\\n          Diagnosing Problems: Code Profiling\\n        ', '\\n          Turbo Charged Code: Parallel Programming\\n        ']\n"
     ]
    },
    {
     "name": "stderr",
     "output_type": "stream",
     "text": [
      "2020-07-23 19:44:22 [scrapy.core.engine] DEBUG: Crawled (200) <GET https://www.datacamp.com/courses/intermediate-r-for-finance> (referer: https://www.datacamp.com/courses/all)\n",
      "2020-07-23 19:44:22 [scrapy.core.engine] DEBUG: Crawled (200) <GET https://www.datacamp.com/courses/introduction-to-r-for-finance> (referer: https://www.datacamp.com/courses/all)\n"
     ]
    },
    {
     "name": "stdout",
     "output_type": "stream",
     "text": [
      "['Dates', 'Loops', 'Apply', 'If Statements and Operators', 'Functions', 'Dates', 'If Statements and Operators', 'Loops', 'Functions', 'Apply']\n",
      "['\\n          Dates\\n        ', '\\n          Loops\\n        ', '\\n          Apply\\n        ', '\\n          If Statements and Operators\\n        ', '\\n          Functions\\n        ', '\\n          Dates\\n        ', '\\n          If Statements and Operators\\n        ', '\\n          Loops\\n        ', '\\n          Functions\\n        ', '\\n          Apply\\n        ']\n",
      "['The Basics', 'Data Frames', 'Lists', 'Vectors and Matrices', 'Factors', 'The Basics', 'Vectors and Matrices', 'Data Frames', 'Factors', 'Lists']\n",
      "['\\n          The Basics\\n        ', '\\n          Data Frames\\n        ', '\\n          Lists\\n        ', '\\n          Vectors and Matrices\\n        ', '\\n          Factors\\n        ', '\\n          The Basics\\n        ', '\\n          Vectors and Matrices\\n        ', '\\n          Data Frames\\n        ', '\\n          Factors\\n        ', '\\n          Lists\\n        ']\n"
     ]
    },
    {
     "name": "stderr",
     "output_type": "stream",
     "text": [
      "2020-07-23 19:44:23 [scrapy.core.engine] DEBUG: Crawled (200) <GET https://www.datacamp.com/courses/scalable-data-processing-in-r> (referer: https://www.datacamp.com/courses/all)\n"
     ]
    },
    {
     "name": "stdout",
     "output_type": "stream",
     "text": [
      "['Working with increasingly large data sets', 'Working with iotools', 'Processing and Analyzing Data with bigmemory', 'Case Study: A Preliminary Analysis of the Housing Data', 'Working with increasingly large data sets', 'Processing and Analyzing Data with bigmemory', 'Working with iotools', 'Case Study: A Preliminary Analysis of the Housing Data']\n",
      "['\\n          Working with increasingly large data sets\\n        ', '\\n          Working with iotools\\n        ', '\\n          Processing and Analyzing Data with bigmemory\\n        ', '\\n          Case Study: A Preliminary Analysis of the Housing Data\\n        ', '\\n          Working with increasingly large data sets\\n        ', '\\n          Processing and Analyzing Data with bigmemory\\n        ', '\\n          Working with iotools\\n        ', '\\n          Case Study: A Preliminary Analysis of the Housing Data\\n        ']\n"
     ]
    },
    {
     "name": "stderr",
     "output_type": "stream",
     "text": [
      "2020-07-23 19:44:24 [scrapy.core.engine] DEBUG: Crawled (200) <GET https://www.datacamp.com/courses/foundations-of-probability-in-r> (referer: https://www.datacamp.com/courses/all)\n"
     ]
    },
    {
     "name": "stdout",
     "output_type": "stream",
     "text": [
      "['The binomial distribution', 'Bayesian statistics', 'Laws of probability', 'Related distributions', 'The binomial distribution', 'Laws of probability', 'Bayesian statistics', 'Related distributions']\n",
      "['\\n          The binomial distribution\\n        ', '\\n          Bayesian statistics\\n        ', '\\n          Laws of probability\\n        ', '\\n          Related distributions\\n        ', '\\n          The binomial distribution\\n        ', '\\n          Laws of probability\\n        ', '\\n          Bayesian statistics\\n        ', '\\n          Related distributions\\n        ']\n"
     ]
    },
    {
     "name": "stderr",
     "output_type": "stream",
     "text": [
      "2020-07-23 19:44:25 [scrapy.core.engine] DEBUG: Crawled (200) <GET https://www.datacamp.com/courses/life-insurance-products-valuation-in-r> (referer: https://www.datacamp.com/courses/all)\n",
      "2020-07-23 19:44:25 [scrapy.core.engine] DEBUG: Crawled (200) <GET https://www.datacamp.com/courses/supervised-learning-in-r-classification> (referer: https://www.datacamp.com/courses/all)\n"
     ]
    },
    {
     "name": "stdout",
     "output_type": "stream",
     "text": [
      "['Valuation of Cash Flows', 'Life Annuities', 'Life Tables', 'Life Insurances', 'Valuation of Cash Flows', 'Life Tables', 'Life Annuities', 'Life Insurances']\n",
      "['\\n          Valuation of Cash Flows\\n        ', '\\n          Life Annuities\\n        ', '\\n          Life Tables\\n        ', '\\n          Life Insurances\\n        ', '\\n          Valuation of Cash Flows\\n        ', '\\n          Life Tables\\n        ', '\\n          Life Annuities\\n        ', '\\n          Life Insurances\\n        ']\n"
     ]
    },
    {
     "name": "stderr",
     "output_type": "stream",
     "text": [
      "2020-07-23 19:44:25 [scrapy.core.engine] DEBUG: Crawled (200) <GET https://www.datacamp.com/courses/unsupervised-learning-in-python> (referer: https://www.datacamp.com/courses/all)\n",
      "2020-07-23 19:44:25 [scrapy.core.engine] DEBUG: Crawled (200) <GET https://www.datacamp.com/courses/bond-valuation-and-analysis-in-r> (referer: https://www.datacamp.com/courses/all)\n"
     ]
    },
    {
     "name": "stdout",
     "output_type": "stream",
     "text": [
      "['Chapter 1: k-Nearest Neighbors (kNN)', 'Chapter 3: Logistic Regression', 'Chapter 2: Naive Bayes', 'Chapter 4: Classification Trees', 'Chapter 1: k-Nearest Neighbors (kNN)', 'Chapter 2: Naive Bayes', 'Chapter 3: Logistic Regression', 'Chapter 4: Classification Trees']\n",
      "['\\n          Chapter 1: k-Nearest Neighbors (kNN)\\n        ', '\\n          Chapter 3: Logistic Regression\\n        ', '\\n          Chapter 2: Naive Bayes\\n        ', '\\n          Chapter 4: Classification Trees\\n        ', '\\n          Chapter 1: k-Nearest Neighbors (kNN)\\n        ', '\\n          Chapter 2: Naive Bayes\\n        ', '\\n          Chapter 3: Logistic Regression\\n        ', '\\n          Chapter 4: Classification Trees\\n        ']\n"
     ]
    },
    {
     "name": "stderr",
     "output_type": "stream",
     "text": [
      "2020-07-23 19:44:25 [scrapy.core.engine] DEBUG: Crawled (200) <GET https://www.datacamp.com/courses/merging-dataframes-with-pandas> (referer: https://www.datacamp.com/courses/all)\n"
     ]
    },
    {
     "name": "stdout",
     "output_type": "stream",
     "text": [
      "['Clustering for dataset exploration', 'Decorrelating your data and dimension reduction', 'Visualization with hierarchical clustering and t-SNE', 'Discovering interpretable features', 'Clustering for dataset exploration', 'Visualization with hierarchical clustering and t-SNE', 'Decorrelating your data and dimension reduction', 'Discovering interpretable features']\n",
      "['\\n          Clustering for dataset exploration\\n        ', '\\n          Decorrelating your data and dimension reduction\\n        ', '\\n          Visualization with hierarchical clustering and t-SNE\\n        ', '\\n          Discovering interpretable features\\n        ', '\\n          Clustering for dataset exploration\\n        ', '\\n          Visualization with hierarchical clustering and t-SNE\\n        ', '\\n          Decorrelating your data and dimension reduction\\n        ', '\\n          Discovering interpretable features\\n        ']\n",
      "['Introduction and Plain Vanilla Bond Valuation', 'Duration and Convexity', 'Yield to Maturity', 'Comprehensive Example', 'Introduction and Plain Vanilla Bond Valuation', 'Yield to Maturity', 'Duration and Convexity', 'Comprehensive Example']\n",
      "['\\n          Introduction and Plain Vanilla Bond Valuation\\n        ', '\\n          Duration and Convexity\\n        ', '\\n          Yield to Maturity\\n        ', '\\n          Comprehensive Example\\n        ', '\\n          Introduction and Plain Vanilla Bond Valuation\\n        ', '\\n          Yield to Maturity\\n        ', '\\n          Duration and Convexity\\n        ', '\\n          Comprehensive Example\\n        ']\n",
      "['Preparing data', 'Merging data', 'Concatenating data', 'Case Study - Summer Olympics', 'Preparing data', 'Concatenating data', 'Merging data', 'Case Study - Summer Olympics']\n",
      "['\\n          Preparing data\\n        ', '\\n          Merging data\\n        ', '\\n          Concatenating data\\n        ', '\\n          Case Study - Summer Olympics\\n        ', '\\n          Preparing data\\n        ', '\\n          Concatenating data\\n        ', '\\n          Merging data\\n        ', '\\n          Case Study - Summer Olympics\\n        ']\n"
     ]
    },
    {
     "name": "stderr",
     "output_type": "stream",
     "text": [
      "2020-07-23 19:44:26 [scrapy.core.engine] DEBUG: Crawled (200) <GET https://www.datacamp.com/courses/visualizing-time-series-data-in-r> (referer: https://www.datacamp.com/courses/all)\n"
     ]
    },
    {
     "name": "stdout",
     "output_type": "stream",
     "text": [
      "['R Time Series Visualization Tools', 'Multivariate Time Series', 'Univariate Time Series', 'Case study: Visually selecting a stock that improves your existing portfolio', 'R Time Series Visualization Tools', 'Univariate Time Series', 'Multivariate Time Series', 'Case study: Visually selecting a stock that improves your existing portfolio']\n",
      "['\\n          R Time Series Visualization Tools\\n        ', '\\n          Multivariate Time Series\\n        ', '\\n          Univariate Time Series\\n        ', '\\n          Case study: Visually selecting a stock that improves your existing portfolio\\n        ', '\\n          R Time Series Visualization Tools\\n        ', '\\n          Univariate Time Series\\n        ', '\\n          Multivariate Time Series\\n        ', '\\n          Case study: Visually selecting a stock that improves your existing portfolio\\n        ']\n"
     ]
    },
    {
     "name": "stderr",
     "output_type": "stream",
     "text": [
      "2020-07-23 19:44:27 [scrapy.core.engine] DEBUG: Crawled (200) <GET https://www.datacamp.com/courses/pandas-foundations> (referer: https://www.datacamp.com/courses/all)\n"
     ]
    },
    {
     "name": "stdout",
     "output_type": "stream",
     "text": [
      "['Data ingestion & inspection', 'Time series in pandas', 'Exploratory data analysis', 'Case Study - Sunlight in Austin', 'Data ingestion & inspection', 'Exploratory data analysis', 'Time series in pandas', 'Case Study - Sunlight in Austin']\n",
      "['\\n          Data ingestion & inspection\\n        ', '\\n          Time series in pandas\\n        ', '\\n          Exploratory data analysis\\n        ', '\\n          Case Study - Sunlight in Austin\\n        ', '\\n          Data ingestion & inspection\\n        ', '\\n          Exploratory data analysis\\n        ', '\\n          Time series in pandas\\n        ', '\\n          Case Study - Sunlight in Austin\\n        ']\n"
     ]
    },
    {
     "name": "stderr",
     "output_type": "stream",
     "text": [
      "2020-07-23 19:44:27 [scrapy.core.engine] DEBUG: Crawled (200) <GET https://www.datacamp.com/courses/intermediate-importing-data-in-python> (referer: https://www.datacamp.com/courses/all)\n",
      "2020-07-23 19:44:27 [scrapy.core.engine] DEBUG: Crawled (200) <GET https://www.datacamp.com/courses/intermediate-statistical-modeling-in-r> (referer: https://www.datacamp.com/courses/all)\n",
      "2020-07-23 19:44:27 [scrapy.core.engine] DEBUG: Crawled (200) <GET https://www.datacamp.com/courses/intermediate-portfolio-analysis-in-r> (referer: https://www.datacamp.com/courses/all)\n",
      "2020-07-23 19:44:27 [scrapy.core.engine] DEBUG: Crawled (200) <GET https://www.datacamp.com/courses/manipulating-dataframes-with-pandas> (referer: https://www.datacamp.com/courses/all)\n"
     ]
    },
    {
     "name": "stdout",
     "output_type": "stream",
     "text": [
      "['Importing data from the Internet', 'Diving  deep into the Twitter API', 'Interacting with APIs to import data from the web', 'Importing data from the Internet', 'Interacting with APIs to import data from the web', 'Diving  deep into the Twitter API']\n",
      "['\\n          Importing data from the Internet\\n        ', '\\n          Diving  deep into the Twitter API\\n        ', '\\n          Interacting with APIs to import data from the web\\n        ', '\\n          Importing data from the Internet\\n        ', '\\n          Interacting with APIs to import data from the web\\n        ', '\\n          Diving  deep into the Twitter API\\n        ']\n",
      "['Effect size and interaction', 'Sampling variability and mathematical transforms', 'Total and partial change', 'Variables working together', 'Effect size and interaction', 'Total and partial change', 'Sampling variability and mathematical transforms', 'Variables working together']\n",
      "['\\n          Effect size and interaction\\n        ', '\\n          Sampling variability and mathematical transforms\\n        ', '\\n          Total and partial change\\n        ', '\\n          Variables working together\\n        ', '\\n          Effect size and interaction\\n        ', '\\n          Total and partial change\\n        ', '\\n          Sampling variability and mathematical transforms\\n        ', '\\n          Variables working together\\n        ']\n",
      "['Introduction and Portfolio Theory', 'Objective Functions and Moment Estimation', 'Portfolio Optimization Workflow', 'Application', 'Introduction and Portfolio Theory', 'Portfolio Optimization Workflow', 'Objective Functions and Moment Estimation', 'Application']\n",
      "['\\n          Introduction and Portfolio Theory\\n        ', '\\n          Objective Functions and Moment Estimation\\n        ', '\\n          Portfolio Optimization Workflow\\n        ', '\\n          Application\\n        ', '\\n          Introduction and Portfolio Theory\\n        ', '\\n          Portfolio Optimization Workflow\\n        ', '\\n          Objective Functions and Moment Estimation\\n        ', '\\n          Application\\n        ']\n"
     ]
    },
    {
     "name": "stderr",
     "output_type": "stream",
     "text": [
      "2020-07-23 19:44:28 [scrapy.core.engine] DEBUG: Crawled (200) <GET https://www.datacamp.com/courses/introduction-to-importing-data-in-python> (referer: https://www.datacamp.com/courses/all)\n"
     ]
    },
    {
     "name": "stdout",
     "output_type": "stream",
     "text": [
      "['Extracting and transforming data', 'Rearranging and reshaping data', 'Bringing it all together', 'Advanced indexing', 'Grouping data', 'Extracting and transforming data', 'Advanced indexing', 'Rearranging and reshaping data', 'Grouping data', 'Bringing it all together']\n",
      "['\\n          Extracting and transforming data\\n        ', '\\n          Rearranging and reshaping data\\n        ', '\\n          Bringing it all together\\n        ', '\\n          Advanced indexing\\n        ', '\\n          Grouping data\\n        ', '\\n          Extracting and transforming data\\n        ', '\\n          Advanced indexing\\n        ', '\\n          Rearranging and reshaping data\\n        ', '\\n          Grouping data\\n        ', '\\n          Bringing it all together\\n        ']\n",
      "['Introduction and flat files', 'Working with relational databases in Python', 'Importing data from other file types', 'Introduction and flat files', 'Importing data from other file types', 'Working with relational databases in Python']\n",
      "['\\n          Introduction and flat files\\n        ', '\\n          Working with relational databases in Python\\n        ', '\\n          Importing data from other file types\\n        ', '\\n          Introduction and flat files\\n        ', '\\n          Importing data from other file types\\n        ', '\\n          Working with relational databases in Python\\n        ']\n"
     ]
    },
    {
     "name": "stderr",
     "output_type": "stream",
     "text": [
      "2020-07-23 19:44:28 [scrapy.core.engine] DEBUG: Crawled (200) <GET https://www.datacamp.com/courses/case-study-school-budgeting-with-machine-learning-in-python> (referer: https://www.datacamp.com/courses/all)\n",
      "2020-07-23 19:44:28 [scrapy.core.engine] DEBUG: Crawled (200) <GET https://www.datacamp.com/courses/introduction-to-statistical-modeling-in-r> (referer: https://www.datacamp.com/courses/all)\n"
     ]
    },
    {
     "name": "stdout",
     "output_type": "stream",
     "text": [
      "['Exploring the raw data', 'Improving your model', 'Creating a simple first model', 'Learning from the experts', 'Exploring the raw data', 'Creating a simple first model', 'Improving your model', 'Learning from the experts']\n",
      "['\\n          Exploring the raw data\\n        ', '\\n          Improving your model\\n        ', '\\n          Creating a simple first model\\n        ', '\\n          Learning from the experts\\n        ', '\\n          Exploring the raw data\\n        ', '\\n          Creating a simple first model\\n        ', '\\n          Improving your model\\n        ', '\\n          Learning from the experts\\n        ']\n",
      "['What is statistical modeling?', 'Assessing prediction performance', 'Covariates and effect size', 'Designing, training, and evaluating models', 'Exploring data with models', 'What is statistical modeling?', 'Designing, training, and evaluating models', 'Assessing prediction performance', 'Exploring data with models', 'Covariates and effect size']\n",
      "['\\n          What is statistical modeling?\\n        ', '\\n          Assessing prediction performance\\n        ', '\\n          Covariates and effect size\\n        ', '\\n          Designing, training, and evaluating models\\n        ', '\\n          Exploring data with models\\n        ', '\\n          What is statistical modeling?\\n        ', '\\n          Designing, training, and evaluating models\\n        ', '\\n          Assessing prediction performance\\n        ', '\\n          Exploring data with models\\n        ', '\\n          Covariates and effect size\\n        ']\n"
     ]
    },
    {
     "name": "stderr",
     "output_type": "stream",
     "text": [
      "2020-07-23 19:44:29 [scrapy.core.engine] DEBUG: Crawled (200) <GET https://www.datacamp.com/courses/python-data-science-toolbox-part-1> (referer: https://www.datacamp.com/courses/all)\n"
     ]
    },
    {
     "name": "stdout",
     "output_type": "stream",
     "text": [
      "['Writing your own functions', 'Lambda functions and error-handling', 'Default arguments, variable-length arguments and scope', 'Writing your own functions', 'Default arguments, variable-length arguments and scope', 'Lambda functions and error-handling']\n",
      "['\\n          Writing your own functions\\n        ', '\\n          Lambda functions and error-handling\\n        ', '\\n          Default arguments, variable-length arguments and scope\\n        ', '\\n          Writing your own functions\\n        ', '\\n          Default arguments, variable-length arguments and scope\\n        ', '\\n          Lambda functions and error-handling\\n        ']\n"
     ]
    },
    {
     "name": "stderr",
     "output_type": "stream",
     "text": [
      "2020-07-23 19:44:30 [scrapy.core.engine] DEBUG: Crawled (200) <GET https://www.datacamp.com/courses/intermediate-importing-data-in-r> (referer: https://www.datacamp.com/courses/all)\n"
     ]
    },
    {
     "name": "stdout",
     "output_type": "stream",
     "text": [
      "['Importing data from databases (Part 1)', 'Importing data from the web (Part 1)', 'Importing data from statistical software packages', 'Importing data from databases (Part 2)', 'Importing data from the web (Part 2)', 'Importing data from databases (Part 1)', 'Importing data from databases (Part 2)', 'Importing data from the web (Part 1)', 'Importing data from the web (Part 2)', 'Importing data from statistical software packages']\n",
      "['\\n          Importing data from databases (Part 1)\\n        ', '\\n          Importing data from the web (Part 1)\\n        ', '\\n          Importing data from statistical software packages\\n        ', '\\n          Importing data from databases (Part 2)\\n        ', '\\n          Importing data from the web (Part 2)\\n        ', '\\n          Importing data from databases (Part 1)\\n        ', '\\n          Importing data from databases (Part 2)\\n        ', '\\n          Importing data from the web (Part 1)\\n        ', '\\n          Importing data from the web (Part 2)\\n        ', '\\n          Importing data from statistical software packages\\n        ']\n"
     ]
    },
    {
     "name": "stderr",
     "output_type": "stream",
     "text": [
      "2020-07-23 19:44:31 [scrapy.core.engine] DEBUG: Crawled (200) <GET https://www.datacamp.com/courses/statistical-thinking-in-python-part-1> (referer: https://www.datacamp.com/courses/all)\n"
     ]
    },
    {
     "name": "stdout",
     "output_type": "stream",
     "text": [
      "['Graphical exploratory data analysis', 'Thinking probabilistically-- Discrete variables', 'Quantitative exploratory data analysis', 'Thinking probabilistically-- Continuous variables', 'Graphical exploratory data analysis', 'Quantitative exploratory data analysis', 'Thinking probabilistically-- Discrete variables', 'Thinking probabilistically-- Continuous variables']\n",
      "['\\n          Graphical exploratory data analysis\\n        ', '\\n          Thinking probabilistically-- Discrete variables\\n        ', '\\n          Quantitative exploratory data analysis\\n        ', '\\n          Thinking probabilistically-- Continuous variables\\n        ', '\\n          Graphical exploratory data analysis\\n        ', '\\n          Quantitative exploratory data analysis\\n        ', '\\n          Thinking probabilistically-- Discrete variables\\n        ', '\\n          Thinking probabilistically-- Continuous variables\\n        ']\n"
     ]
    },
    {
     "name": "stderr",
     "output_type": "stream",
     "text": [
      "2020-07-23 19:44:32 [scrapy.core.engine] DEBUG: Crawled (200) <GET https://www.datacamp.com/courses/interactive-data-visualization-with-bokeh> (referer: https://www.datacamp.com/courses/all)\n"
     ]
    },
    {
     "name": "stdout",
     "output_type": "stream",
     "text": [
      "['Basic plotting with Bokeh', 'Building interactive apps with Bokeh', 'Layouts,  Interactions, and Annotations', 'Putting It All Together! A Case Study', 'Basic plotting with Bokeh', 'Layouts,  Interactions, and Annotations', 'Building interactive apps with Bokeh', 'Putting It All Together! A Case Study']\n",
      "['\\n          Basic plotting with Bokeh\\n        ', '\\n          Building interactive apps with Bokeh\\n        ', '\\n          Layouts,  Interactions, and Annotations\\n        ', '\\n          Putting It All Together! A Case Study\\n        ', '\\n          Basic plotting with Bokeh\\n        ', '\\n          Layouts,  Interactions, and Annotations\\n        ', '\\n          Building interactive apps with Bokeh\\n        ', '\\n          Putting It All Together! A Case Study\\n        ']\n"
     ]
    },
    {
     "name": "stderr",
     "output_type": "stream",
     "text": [
      "2020-07-23 19:44:33 [scrapy.core.engine] DEBUG: Crawled (200) <GET https://www.datacamp.com/courses/introduction-to-importing-data-in-r> (referer: https://www.datacamp.com/courses/all)\n",
      "2020-07-23 19:44:33 [scrapy.core.engine] DEBUG: Crawled (200) <GET https://www.datacamp.com/courses/python-data-science-toolbox-part-2> (referer: https://www.datacamp.com/courses/all)\n",
      "2020-07-23 19:44:33 [scrapy.core.engine] DEBUG: Crawled (200) <GET https://www.datacamp.com/courses/statistical-thinking-in-python-part-2> (referer: https://www.datacamp.com/courses/all)\n",
      "2020-07-23 19:44:33 [scrapy.core.engine] DEBUG: Crawled (200) <GET https://www.datacamp.com/courses/data-visualization-in-r> (referer: https://www.datacamp.com/courses/all)\n"
     ]
    },
    {
     "name": "stdout",
     "output_type": "stream",
     "text": [
      "['Importing data from flat files with utils', 'Importing Excel data', 'readr & data.table', 'Reproducible Excel work with XLConnect', 'Importing data from flat files with utils', 'readr & data.table', 'Importing Excel data', 'Reproducible Excel work with XLConnect']\n",
      "['\\n          Importing data from flat files with utils\\n        ', '\\n          Importing Excel data\\n        ', '\\n          readr & data.table\\n        ', '\\n          Reproducible Excel work with XLConnect\\n        ', '\\n          Importing data from flat files with utils\\n        ', '\\n          readr & data.table\\n        ', '\\n          Importing Excel data\\n        ', '\\n          Reproducible Excel work with XLConnect\\n        ']\n",
      "['Using iterators in PythonLand', 'Bringing it all together!', 'List comprehensions and generators', 'Using iterators in PythonLand', 'List comprehensions and generators', 'Bringing it all together!']\n",
      "['\\n          Using iterators in PythonLand\\n        ', '\\n          Bringing it all together!\\n        ', '\\n          List comprehensions and generators\\n        ', '\\n          Using iterators in PythonLand\\n        ', '\\n          List comprehensions and generators\\n        ', '\\n          Bringing it all together!\\n        ']\n",
      "['Parameter estimation by optimization', 'Introduction to hypothesis testing', 'Putting it all together: a case study', 'Bootstrap confidence intervals', 'Hypothesis test examples', 'Parameter estimation by optimization', 'Bootstrap confidence intervals', 'Introduction to hypothesis testing', 'Hypothesis test examples', 'Putting it all together: a case study']\n",
      "['\\n          Parameter estimation by optimization\\n        ', '\\n          Introduction to hypothesis testing\\n        ', '\\n          Putting it all together: a case study\\n        ', '\\n          Bootstrap confidence intervals\\n        ', '\\n          Hypothesis test examples\\n        ', '\\n          Parameter estimation by optimization\\n        ', '\\n          Bootstrap confidence intervals\\n        ', '\\n          Introduction to hypothesis testing\\n        ', '\\n          Hypothesis test examples\\n        ', '\\n          Putting it all together: a case study\\n        ']\n",
      "['A quick introduction to base R graphics', 'Adding details to plots', 'Advanced plot customization and beyond', 'Different plot types', 'How much is too much?', 'A quick introduction to base R graphics', 'Different plot types', 'Adding details to plots', 'How much is too much?', 'Advanced plot customization and beyond']\n",
      "['\\n          A quick introduction to base R graphics\\n        ', '\\n          Adding details to plots\\n        ', '\\n          Advanced plot customization and beyond\\n        ', '\\n          Different plot types\\n        ', '\\n          How much is too much?\\n        ', '\\n          A quick introduction to base R graphics\\n        ', '\\n          Different plot types\\n        ', '\\n          Adding details to plots\\n        ', '\\n          How much is too much?\\n        ', '\\n          Advanced plot customization and beyond\\n        ']\n"
     ]
    },
    {
     "name": "stderr",
     "output_type": "stream",
     "text": [
      "2020-07-23 19:44:34 [scrapy.core.engine] DEBUG: Crawled (200) <GET https://www.datacamp.com/courses/case-study-exploratory-data-analysis-in-r> (referer: https://www.datacamp.com/courses/all)\n"
     ]
    },
    {
     "name": "stdout",
     "output_type": "stream",
     "text": [
      "['Data cleaning and summarizing with dplyr', 'Tidy modeling with broom', 'Data visualization with ggplot2', 'Joining and tidying', 'Data cleaning and summarizing with dplyr', 'Data visualization with ggplot2', 'Tidy modeling with broom', 'Joining and tidying']\n",
      "['\\n          Data cleaning and summarizing with dplyr\\n        ', '\\n          Tidy modeling with broom\\n        ', '\\n          Data visualization with ggplot2\\n        ', '\\n          Joining and tidying\\n        ', '\\n          Data cleaning and summarizing with dplyr\\n        ', '\\n          Data visualization with ggplot2\\n        ', '\\n          Tidy modeling with broom\\n        ', '\\n          Joining and tidying\\n        ']\n"
     ]
    },
    {
     "name": "stderr",
     "output_type": "stream",
     "text": [
      "2020-07-23 19:44:34 [scrapy.core.engine] DEBUG: Crawled (200) <GET https://www.datacamp.com/courses/time-series-analysis-in-r> (referer: https://www.datacamp.com/courses/all)\n"
     ]
    },
    {
     "name": "stdout",
     "output_type": "stream",
     "text": [
      "['Exploratory time series data analysis', 'Correlation analysis and the autocorrelation function', 'A simple moving average', 'Predicting the future', 'Autoregression', 'Exploratory time series data analysis', 'Predicting the future', 'Correlation analysis and the autocorrelation function', 'Autoregression', 'A simple moving average']\n",
      "['\\n          Exploratory time series data analysis\\n        ', '\\n          Correlation analysis and the autocorrelation function\\n        ', '\\n          A simple moving average\\n        ', '\\n          Predicting the future\\n        ', '\\n          Autoregression\\n        ', '\\n          Exploratory time series data analysis\\n        ', '\\n          Predicting the future\\n        ', '\\n          Correlation analysis and the autocorrelation function\\n        ', '\\n          Autoregression\\n        ', '\\n          A simple moving average\\n        ']\n"
     ]
    },
    {
     "name": "stderr",
     "output_type": "stream",
     "text": [
      "2020-07-23 19:44:39 [scrapy.core.engine] DEBUG: Crawled (200) <GET https://www.datacamp.com/courses/manipulating-time-series-data-with-xts-and-zoo-in-r> (referer: https://www.datacamp.com/courses/all)\n"
     ]
    },
    {
     "name": "stdout",
     "output_type": "stream",
     "text": [
      "['Introduction to eXtensible Time Series, using xts and zoo for time series', 'Merging and modifying time series', 'Extra features of xts', 'First Order of Business - Basic Manipulations', 'Apply and aggregate by time', 'Introduction to eXtensible Time Series, using xts and zoo for time series', 'First Order of Business - Basic Manipulations', 'Merging and modifying time series', 'Apply and aggregate by time', 'Extra features of xts']\n",
      "['\\n          Introduction to eXtensible Time Series, using xts and zoo for time series\\n        ', '\\n          Merging and modifying time series\\n        ', '\\n          Extra features of xts\\n        ', '\\n          First Order of Business - Basic Manipulations\\n        ', '\\n          Apply and aggregate by time\\n        ', '\\n          Introduction to eXtensible Time Series, using xts and zoo for time series\\n        ', '\\n          First Order of Business - Basic Manipulations\\n        ', '\\n          Merging and modifying time series\\n        ', '\\n          Apply and aggregate by time\\n        ', '\\n          Extra features of xts\\n        ']\n"
     ]
    },
    {
     "name": "stderr",
     "output_type": "stream",
     "text": [
      "2020-07-23 19:44:42 [scrapy.core.engine] DEBUG: Crawled (200) <GET https://www.datacamp.com/courses/financial-trading-in-r> (referer: https://www.datacamp.com/courses/all)\n"
     ]
    },
    {
     "name": "stdout",
     "output_type": "stream",
     "text": [
      "['Trading basics', 'Indicators', 'Rules', 'A boilerplate for quantstrat strategies', 'Signals', 'Analyzing results', 'Trading basics', 'A boilerplate for quantstrat strategies', 'Indicators', 'Signals', 'Rules', 'Analyzing results']\n",
      "['\\n          Trading basics\\n        ', '\\n          Indicators\\n        ', '\\n          Rules\\n        ', '\\n          A boilerplate for quantstrat strategies\\n        ', '\\n          Signals\\n        ', '\\n          Analyzing results\\n        ', '\\n          Trading basics\\n        ', '\\n          A boilerplate for quantstrat strategies\\n        ', '\\n          Indicators\\n        ', '\\n          Signals\\n        ', '\\n          Rules\\n        ', '\\n          Analyzing results\\n        ']\n"
     ]
    },
    {
     "name": "stderr",
     "output_type": "stream",
     "text": [
      "2020-07-23 19:44:43 [scrapy.core.engine] DEBUG: Crawled (200) <GET https://www.datacamp.com/courses/introduction-to-relational-databases-in-python> (referer: https://www.datacamp.com/courses/all)\n"
     ]
    },
    {
     "name": "stdout",
     "output_type": "stream",
     "text": [
      "['Basics of Relational Databases', 'Advanced SQLAlchemy Queries', 'Putting it all together', 'Applying Filtering, Ordering and Grouping to Queries', 'Creating and Manipulating your own Databases', 'Basics of Relational Databases', 'Applying Filtering, Ordering and Grouping to Queries', 'Advanced SQLAlchemy Queries', 'Creating and Manipulating your own Databases', 'Putting it all together']\n",
      "['\\n          Basics of Relational Databases\\n        ', '\\n          Advanced SQLAlchemy Queries\\n        ', '\\n          Putting it all together\\n        ', '\\n          Applying Filtering, Ordering and Grouping to Queries\\n        ', '\\n          Creating and Manipulating your own Databases\\n        ', '\\n          Basics of Relational Databases\\n        ', '\\n          Applying Filtering, Ordering and Grouping to Queries\\n        ', '\\n          Advanced SQLAlchemy Queries\\n        ', '\\n          Creating and Manipulating your own Databases\\n        ', '\\n          Putting it all together\\n        ']\n"
     ]
    },
    {
     "name": "stderr",
     "output_type": "stream",
     "text": [
      "2020-07-23 19:44:45 [scrapy.core.engine] DEBUG: Crawled (200) <GET https://www.datacamp.com/courses/importing-and-managing-financial-data-in-r> (referer: https://www.datacamp.com/courses/all)\n"
     ]
    },
    {
     "name": "stdout",
     "output_type": "stream",
     "text": [
      "['Introduction and downloading data', 'Managing data from multiple sources', 'Importing text data, and adjusting for corporate actions', 'Extracting and transforming data', 'Aligning data with different periodicities', 'Introduction and downloading data', 'Extracting and transforming data', 'Managing data from multiple sources', 'Aligning data with different periodicities', 'Importing text data, and adjusting for corporate actions']\n",
      "['\\n          Introduction and downloading data\\n        ', '\\n          Managing data from multiple sources\\n        ', '\\n          Importing text data, and adjusting for corporate actions\\n        ', '\\n          Extracting and transforming data\\n        ', '\\n          Aligning data with different periodicities\\n        ', '\\n          Introduction and downloading data\\n        ', '\\n          Extracting and transforming data\\n        ', '\\n          Managing data from multiple sources\\n        ', '\\n          Aligning data with different periodicities\\n        ', '\\n          Importing text data, and adjusting for corporate actions\\n        ']\n"
     ]
    },
    {
     "name": "stderr",
     "output_type": "stream",
     "text": [
      "2020-07-23 19:44:47 [scrapy.core.engine] DEBUG: Crawled (200) <GET https://www.datacamp.com/courses/credit-risk-modeling-in-r> (referer: https://www.datacamp.com/courses/all)\n",
      "2020-07-23 19:44:48 [scrapy.core.engine] DEBUG: Crawled (200) <GET https://www.datacamp.com/courses/machine-learning-with-caret-in-r> (referer: https://www.datacamp.com/courses/all)\n"
     ]
    },
    {
     "name": "stdout",
     "output_type": "stream",
     "text": [
      "['Introduction and data preprocessing', 'Decision trees', 'Logistic regression', 'Evaluating a credit risk model', 'Introduction and data preprocessing', 'Logistic regression', 'Decision trees', 'Evaluating a credit risk model']\n",
      "['\\n          Introduction and data preprocessing\\n        ', '\\n          Decision trees\\n        ', '\\n          Logistic regression\\n        ', '\\n          Evaluating a credit risk model\\n        ', '\\n          Introduction and data preprocessing\\n        ', '\\n          Logistic regression\\n        ', '\\n          Decision trees\\n        ', '\\n          Evaluating a credit risk model\\n        ']\n"
     ]
    },
    {
     "name": "stderr",
     "output_type": "stream",
     "text": [
      "2020-07-23 19:44:48 [scrapy.core.engine] DEBUG: Crawled (200) <GET https://www.datacamp.com/courses/intro-to-python-for-data-science> (referer: https://www.datacamp.com/courses/all)\n"
     ]
    },
    {
     "name": "stdout",
     "output_type": "stream",
     "text": [
      "['Regression models: fitting them and evaluating their performance', 'Tuning model parameters to improve performance', 'Selecting models: a case study in churn prediction', 'Classification models: fitting them and evaluating their performance', 'Preprocessing your data', 'Regression models: fitting them and evaluating their performance', 'Classification models: fitting them and evaluating their performance', 'Tuning model parameters to improve performance', 'Preprocessing your data', 'Selecting models: a case study in churn prediction']\n",
      "['\\n          Regression models: fitting them and evaluating their performance\\n        ', '\\n          Tuning model parameters to improve performance\\n        ', '\\n          Selecting models: a case study in churn prediction\\n        ', '\\n          Classification models: fitting them and evaluating their performance\\n        ', '\\n          Preprocessing your data\\n        ', '\\n          Regression models: fitting them and evaluating their performance\\n        ', '\\n          Classification models: fitting them and evaluating their performance\\n        ', '\\n          Tuning model parameters to improve performance\\n        ', '\\n          Preprocessing your data\\n        ', '\\n          Selecting models: a case study in churn prediction\\n        ']\n",
      "[]\n",
      "[]\n"
     ]
    },
    {
     "name": "stderr",
     "output_type": "stream",
     "text": [
      "2020-07-23 19:44:48 [scrapy.core.engine] DEBUG: Crawled (200) <GET https://www.datacamp.com/courses/case-study-exploring-baseball-pitching-data-in-r> (referer: https://www.datacamp.com/courses/all)\n",
      "2020-07-23 19:44:48 [scrapy.core.engine] DEBUG: Crawled (200) <GET https://www.datacamp.com/courses/introduction-to-portfolio-analysis-in-r> (referer: https://www.datacamp.com/courses/all)\n"
     ]
    },
    {
     "name": "stdout",
     "output_type": "stream",
     "text": [
      "['Exploring pitch velocities', 'Exploring pitch locations', 'Exploring pitch types', 'Exploring batted ball outcomes', 'Exploring pitch velocities', 'Exploring pitch types', 'Exploring pitch locations', 'Exploring batted ball outcomes']\n",
      "['\\n          Exploring pitch velocities\\n        ', '\\n          Exploring pitch locations\\n        ', '\\n          Exploring pitch types\\n        ', '\\n          Exploring batted ball outcomes\\n        ', '\\n          Exploring pitch velocities\\n        ', '\\n          Exploring pitch types\\n        ', '\\n          Exploring pitch locations\\n        ', '\\n          Exploring batted ball outcomes\\n        ']\n",
      "['The building blocks', 'Performance drivers', 'Analyzing performance', 'Optimizing the portfolio', 'The building blocks', 'Analyzing performance', 'Performance drivers', 'Optimizing the portfolio']\n",
      "['\\n          The building blocks\\n        ', '\\n          Performance drivers\\n        ', '\\n          Analyzing performance\\n        ', '\\n          Optimizing the portfolio\\n        ', '\\n          The building blocks\\n        ', '\\n          Analyzing performance\\n        ', '\\n          Performance drivers\\n        ', '\\n          Optimizing the portfolio\\n        ']\n"
     ]
    },
    {
     "name": "stderr",
     "output_type": "stream",
     "text": [
      "2020-07-23 19:44:49 [scrapy.core.engine] DEBUG: Crawled (200) <GET https://www.datacamp.com/courses/intermediate-python> (referer: https://www.datacamp.com/courses/all)\n",
      "2020-07-23 19:44:49 [scrapy.core.engine] DEBUG: Crawled (200) <GET https://www.datacamp.com/courses/text-mining-with-bag-of-words-in-r> (referer: https://www.datacamp.com/courses/all)\n"
     ]
    },
    {
     "name": "stdout",
     "output_type": "stream",
     "text": [
      "['Matplotlib', 'Logic, Control Flow and Filtering', 'Case Study: Hacker Statistics', 'Dictionaries & Pandas', 'Loops', 'Matplotlib', 'Dictionaries & Pandas', 'Logic, Control Flow and Filtering', 'Loops', 'Case Study: Hacker Statistics']\n",
      "['\\n          Matplotlib\\n        ', '\\n          Logic, Control Flow and Filtering\\n        ', '\\n          Case Study: Hacker Statistics\\n        ', '\\n          Dictionaries & Pandas\\n        ', '\\n          Loops\\n        ', '\\n          Matplotlib\\n        ', '\\n          Dictionaries & Pandas\\n        ', '\\n          Logic, Control Flow and Filtering\\n        ', '\\n          Loops\\n        ', '\\n          Case Study: Hacker Statistics\\n        ']\n",
      "['Jumping into text mining with bag of words', 'Adding to your tm skills', 'Word clouds and more interesting visuals', 'Battle of the tech giants for talent', 'Jumping into text mining with bag of words', 'Word clouds and more interesting visuals', 'Adding to your tm skills', 'Battle of the tech giants for talent']\n",
      "['\\n          Jumping into text mining with bag of words\\n        ', '\\n          Adding to your tm skills\\n        ', '\\n          Word clouds and more interesting visuals\\n        ', '\\n          Battle of the tech giants for talent\\n        ', '\\n          Jumping into text mining with bag of words\\n        ', '\\n          Word clouds and more interesting visuals\\n        ', '\\n          Adding to your tm skills\\n        ', '\\n          Battle of the tech giants for talent\\n        ']\n"
     ]
    },
    {
     "name": "stderr",
     "output_type": "stream",
     "text": [
      "2020-07-23 19:44:49 [scrapy.core.engine] DEBUG: Crawled (200) <GET https://www.datacamp.com/courses/intermediate-r> (referer: https://www.datacamp.com/courses/all)\n",
      "2020-07-23 19:44:49 [scrapy.core.engine] INFO: Closing spider (finished)\n",
      "2020-07-23 19:44:49 [scrapy.statscollectors] INFO: Dumping Scrapy stats:\n",
      "{'downloader/request_bytes': 262649,\n",
      " 'downloader/request_count': 336,\n",
      " 'downloader/request_method_count/GET': 336,\n",
      " 'downloader/response_bytes': 86371624,\n",
      " 'downloader/response_count': 336,\n",
      " 'downloader/response_status_count/200': 336,\n",
      " 'finish_reason': 'finished',\n",
      " 'finish_time': datetime.datetime(2020, 7, 23, 14, 14, 49, 930910),\n",
      " 'log_count/DEBUG': 336,\n",
      " 'log_count/INFO': 12,\n",
      " 'request_depth_max': 1,\n",
      " 'response_received_count': 336,\n",
      " 'scheduler/dequeued': 336,\n",
      " 'scheduler/dequeued/memory': 336,\n",
      " 'scheduler/enqueued': 336,\n",
      " 'scheduler/enqueued/memory': 336,\n",
      " 'start_time': datetime.datetime(2020, 7, 23, 14, 11, 6, 947526)}\n",
      "2020-07-23 19:44:49 [scrapy.core.engine] INFO: Spider closed (finished)\n"
     ]
    },
    {
     "name": "stdout",
     "output_type": "stream",
     "text": [
      "['Conditionals and Control Flow', 'Functions', 'Utilities', 'Loops', 'The apply family', 'Conditionals and Control Flow', 'Loops', 'Functions', 'The apply family', 'Utilities']\n",
      "['\\n          Conditionals and Control Flow\\n        ', '\\n          Functions\\n        ', '\\n          Utilities\\n        ', '\\n          Loops\\n        ', '\\n          The apply family\\n        ', '\\n          Conditionals and Control Flow\\n        ', '\\n          Loops\\n        ', '\\n          Functions\\n        ', '\\n          The apply family\\n        ', '\\n          Utilities\\n        ']\n"
     ]
    }
   ],
   "source": [
    "import scrapy\n",
    "from scrapy.crawler import CrawlerProcess\n",
    "import pandas as pd\n",
    "\n",
    "class CourseSpider(scrapy.Spider):\n",
    "    name = \"course_spider\"\n",
    "    \n",
    "    def start_requests(self):\n",
    "        url='https://www.datacamp.com/courses/all'\n",
    "        yield scrapy.Request(url = url, callback = self.parse_course_data)\n",
    "        \n",
    "    def parse_course_data(self, response):\n",
    "        course_data=response.css('div.course-block')\n",
    "        course_links=course_data.xpath('./a/@href')\n",
    "        links_to_follow=course_links.extract()\n",
    "        for url in links_to_follow:\n",
    "            yield response.follow(url=url,callback=self.page_extract)\n",
    "            \n",
    "    def page_extract(self,response):\n",
    "        course_title=response.xpath('//h1[contains(@class,\"title\")]/text()')\n",
    "        course_title_text=course_title.extract_first().strip()\n",
    "        chapter_titles=response.css('h4.chapter__title::text').extract()\n",
    "        chapter_titles_clean=[t.strip() for t in chapter_titles]\n",
    "        course_dict[course_title_text]=chapter_titles_clean\n",
    "        print(chapter_titles_clean)\n",
    "        print(chapter_titles)\n",
    "course_dict={}\n",
    "        \n",
    "process =CrawlerProcess()\n",
    "process.crawl(CourseSpider)\n",
    "process.start()"
   ]
  },
  {
   "cell_type": "code",
   "execution_count": 31,
   "metadata": {},
   "outputs": [
    {
     "data": {
      "text/html": [
       "<div>\n",
       "<style scoped>\n",
       "    .dataframe tbody tr th:only-of-type {\n",
       "        vertical-align: middle;\n",
       "    }\n",
       "\n",
       "    .dataframe tbody tr th {\n",
       "        vertical-align: top;\n",
       "    }\n",
       "\n",
       "    .dataframe thead th {\n",
       "        text-align: right;\n",
       "    }\n",
       "</style>\n",
       "<table border=\"1\" class=\"dataframe\">\n",
       "  <thead>\n",
       "    <tr style=\"text-align: right;\">\n",
       "      <th></th>\n",
       "      <th>Course</th>\n",
       "      <th>Chapter</th>\n",
       "    </tr>\n",
       "  </thead>\n",
       "  <tbody>\n",
       "    <tr>\n",
       "      <th>0</th>\n",
       "      <td>Introduction to R</td>\n",
       "      <td></td>\n",
       "    </tr>\n",
       "    <tr>\n",
       "      <th>1</th>\n",
       "      <td>Introduction to SQL</td>\n",
       "      <td></td>\n",
       "    </tr>\n",
       "    <tr>\n",
       "      <th>2</th>\n",
       "      <td>Visualizing Geospatial Data in R</td>\n",
       "      <td>Basic mapping with ggplot2 and ggmap</td>\n",
       "    </tr>\n",
       "    <tr>\n",
       "      <th>3</th>\n",
       "      <td>Introduction to Deep Learning in Python</td>\n",
       "      <td>Basics of deep learning and neural networks</td>\n",
       "    </tr>\n",
       "    <tr>\n",
       "      <th>4</th>\n",
       "      <td>Introduction to Network Analysis in Python</td>\n",
       "      <td>Introduction to networks</td>\n",
       "    </tr>\n",
       "    <tr>\n",
       "      <th>...</th>\n",
       "      <td>...</td>\n",
       "      <td>...</td>\n",
       "    </tr>\n",
       "    <tr>\n",
       "      <th>330</th>\n",
       "      <td>Case Study: Exploring Baseball Pitching Data in R</td>\n",
       "      <td>Exploring pitch velocities</td>\n",
       "    </tr>\n",
       "    <tr>\n",
       "      <th>331</th>\n",
       "      <td>Introduction to Portfolio Analysis in R</td>\n",
       "      <td>The building blocks</td>\n",
       "    </tr>\n",
       "    <tr>\n",
       "      <th>332</th>\n",
       "      <td>Intermediate Python</td>\n",
       "      <td>Matplotlib</td>\n",
       "    </tr>\n",
       "    <tr>\n",
       "      <th>333</th>\n",
       "      <td>Text Mining with Bag-of-Words in R</td>\n",
       "      <td>Jumping into text mining with bag of words</td>\n",
       "    </tr>\n",
       "    <tr>\n",
       "      <th>334</th>\n",
       "      <td>Intermediate R</td>\n",
       "      <td>Conditionals and Control Flow</td>\n",
       "    </tr>\n",
       "  </tbody>\n",
       "</table>\n",
       "<p>335 rows × 2 columns</p>\n",
       "</div>"
      ],
      "text/plain": [
       "                                                Course  \\\n",
       "0                                    Introduction to R   \n",
       "1                                  Introduction to SQL   \n",
       "2                     Visualizing Geospatial Data in R   \n",
       "3              Introduction to Deep Learning in Python   \n",
       "4           Introduction to Network Analysis in Python   \n",
       "..                                                 ...   \n",
       "330  Case Study: Exploring Baseball Pitching Data in R   \n",
       "331            Introduction to Portfolio Analysis in R   \n",
       "332                                Intermediate Python   \n",
       "333                 Text Mining with Bag-of-Words in R   \n",
       "334                                     Intermediate R   \n",
       "\n",
       "                                         Chapter  \n",
       "0                                                 \n",
       "1                                                 \n",
       "2           Basic mapping with ggplot2 and ggmap  \n",
       "3    Basics of deep learning and neural networks  \n",
       "4                       Introduction to networks  \n",
       "..                                           ...  \n",
       "330                   Exploring pitch velocities  \n",
       "331                          The building blocks  \n",
       "332                                   Matplotlib  \n",
       "333   Jumping into text mining with bag of words  \n",
       "334                Conditionals and Control Flow  \n",
       "\n",
       "[335 rows x 2 columns]"
      ]
     },
     "execution_count": 31,
     "metadata": {},
     "output_type": "execute_result"
    }
   ],
   "source": [
    "course_chapter_list=[]\n",
    "for key,values in course_dict.items():\n",
    "    #print(key)\n",
    "    #print(len(values))\n",
    "    #print(values)\n",
    "    if len(values)==0:\n",
    "        course_chapter_list.append([key,''])\n",
    "    else:\n",
    "        for value in values:\n",
    "            course_chapter_list.append([key,value])\n",
    "    \n",
    "course_df=pd.DataFrame(course_chapter_list)\n",
    "titles=['Course','Chapter']\n",
    "course_df.columns=titles\n",
    "course_df.drop_duplicates(subset=titles,keep='first',inplace=True)\n",
    "course_df.reset_index(drop=True,inplace=True)\n",
    "\n"
   ]
  },
  {
   "cell_type": "code",
   "execution_count": null,
   "metadata": {},
   "outputs": [],
   "source": []
  }
 ],
 "metadata": {
  "kernelspec": {
   "display_name": "Python 3",
   "language": "python",
   "name": "python3"
  },
  "language_info": {
   "codemirror_mode": {
    "name": "ipython",
    "version": 3
   },
   "file_extension": ".py",
   "mimetype": "text/x-python",
   "name": "python",
   "nbconvert_exporter": "python",
   "pygments_lexer": "ipython3",
   "version": "3.7.6"
  }
 },
 "nbformat": 4,
 "nbformat_minor": 4
}
